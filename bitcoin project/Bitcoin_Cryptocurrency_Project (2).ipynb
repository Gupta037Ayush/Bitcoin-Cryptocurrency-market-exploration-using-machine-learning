{
  "nbformat_minor": 0,
  "cells": [
    {
      "metadata": {
        "trusted": true,
        "tags": [
          "sample_code"
        ],
        "dc": {
          "key": "4"
        },
        "id": "sbZ3IOHDc-r4"
      },
      "outputs": [],
      "source": [
        "# Importing pandas\n",
        "import pandas as pd\n",
        "\n",
        "# Importing matplotlib and setting aesthetics for plotting later.\n",
        "import matplotlib.pyplot as plt\n",
        "%matplotlib inline\n",
        "%config InlineBackend.figure_format = 'svg'\n",
        "plt.style.use('fivethirtyeight')\n",
        "\n",
        "# # Reading in current data from coinmarketcap.com\n",
        "# current = pd.read_json(\"https://api.coinmarketcap.com/v1/ticker/\")\n",
        "\n",
        "# # Printing out the first few lines\n",
        "# # ... YOUR CODE FOR TASK 1 ...\n",
        "# current.head()\n",
        "\n",
        "\n"
      ],
      "cell_type": "code",
      "execution_count": null
    },
    {
      "metadata": {
        "trusted": true,
        "tags": [
          "sample_code"
        ],
        "dc": {
          "key": "11"
        },
        "colab": {
          "base_uri": "https://localhost:8080/"
        },
        "id": "GHNWz19Sc-r6",
        "outputId": "28562931-996f-4415-fb40-ce7653a2d2fc"
      },
      "outputs": [
        {
          "output_type": "execute_result",
          "data": {
            "text/plain": [
              "id                100\n",
              "market_cap_usd    100\n",
              "dtype: int64"
            ]
          },
          "metadata": {},
          "execution_count": 5
        }
      ],
      "source": [
        "# Reading datasets/coinmarketcap_06122017.csv into pandas\n",
        "dec6 = pd.read_csv('/content/coinmarketcap_06122017.csv')\n",
        "\n",
        "# Selecting the 'id' and the 'market_cap_usd' columns\n",
        "market_cap_raw = dec6[['id', 'market_cap_usd']]\n",
        "\n",
        "# Counting the number of values\n",
        "# ... YOUR CODE FOR TASK 2 ...\n",
        "market_cap_raw.count()"
      ],
      "cell_type": "code",
      "execution_count": null
    },
    {
      "cell_type": "code",
      "source": [
        "from google.colab import drive\n",
        "drive.mount('/content/drive')"
      ],
      "metadata": {
        "colab": {
          "base_uri": "https://localhost:8080/"
        },
        "id": "FTfk4DNGdg30",
        "outputId": "60582c7e-0d1f-4c6c-84f3-d64290de7054"
      },
      "execution_count": null,
      "outputs": [
        {
          "output_type": "stream",
          "name": "stdout",
          "text": [
            "Mounted at /content/drive\n"
          ]
        }
      ]
    },
    {
      "metadata": {
        "trusted": true,
        "tags": [
          "sample_code"
        ],
        "dc": {
          "key": "18"
        },
        "colab": {
          "base_uri": "https://localhost:8080/"
        },
        "id": "xaYgCbZDc-r7",
        "outputId": "96f65a32-7ea0-4612-d478-8c3815bf5484"
      },
      "outputs": [
        {
          "output_type": "execute_result",
          "data": {
            "text/plain": [
              "id                100\n",
              "market_cap_usd    100\n",
              "dtype: int64"
            ]
          },
          "metadata": {},
          "execution_count": 7
        }
      ],
      "source": [
        "# Filtering out rows without a market capitalization\n",
        "cap = market_cap_raw.query('market_cap_usd > 0')\n",
        "\n",
        "# Counting the number of values again\n",
        "# ... YOUR CODE FOR TASK 3 ...\n",
        "cap.count()"
      ],
      "cell_type": "code",
      "execution_count": null
    },
    {
      "metadata": {
        "trusted": true,
        "tags": [
          "sample_code"
        ],
        "dc": {
          "key": "25"
        },
        "colab": {
          "base_uri": "https://localhost:8080/",
          "height": 604
        },
        "id": "8NV0p4KQc-r7",
        "outputId": "788f8789-ba49-4226-e531-acdac766c02f"
      },
      "outputs": [
        {
          "output_type": "execute_result",
          "data": {
            "text/plain": [
              "Text(0, 0.5, '% of total cap')"
            ]
          },
          "metadata": {},
          "execution_count": 8
        },
        {
          "output_type": "display_data",
          "data": {
            "text/plain": [
              "<Figure size 640x480 with 1 Axes>"
            ],
            "image/svg+xml": "<?xml version=\"1.0\" encoding=\"utf-8\" standalone=\"no\"?>\n<!DOCTYPE svg PUBLIC \"-//W3C//DTD SVG 1.1//EN\"\n  \"http://www.w3.org/Graphics/SVG/1.1/DTD/svg11.dtd\">\n<svg xmlns:xlink=\"http://www.w3.org/1999/xlink\" width=\"456.87025pt\" height=\"424.199012pt\" viewBox=\"0 0 456.87025 424.199012\" xmlns=\"http://www.w3.org/2000/svg\" version=\"1.1\">\n <metadata>\n  <rdf:RDF xmlns:dc=\"http://purl.org/dc/elements/1.1/\" xmlns:cc=\"http://creativecommons.org/ns#\" xmlns:rdf=\"http://www.w3.org/1999/02/22-rdf-syntax-ns#\">\n   <cc:Work>\n    <dc:type rdf:resource=\"http://purl.org/dc/dcmitype/StillImage\"/>\n    <dc:date>2024-04-19T09:46:05.993973</dc:date>\n    <dc:format>image/svg+xml</dc:format>\n    <dc:creator>\n     <cc:Agent>\n      <dc:title>Matplotlib v3.7.1, https://matplotlib.org/</dc:title>\n     </cc:Agent>\n    </dc:creator>\n   </cc:Work>\n  </rdf:RDF>\n </metadata>\n <defs>\n  <style type=\"text/css\">*{stroke-linejoin: round; stroke-linecap: butt}</style>\n </defs>\n <g id=\"figure_1\">\n  <g id=\"patch_1\">\n   <path d=\"M 0 424.199012 \nL 456.87025 424.199012 \nL 456.87025 0 \nL 0 0 \nz\n\" style=\"fill: #f0f0f0\"/>\n  </g>\n  <g id=\"axes_1\">\n   <g id=\"patch_2\">\n    <path d=\"M 48.77425 308.45445 \nL 449.67025 308.45445 \nL 449.67025 28.51845 \nL 48.77425 28.51845 \nz\n\" style=\"fill: #f0f0f0\"/>\n   </g>\n   <g id=\"matplotlib.axis_1\">\n    <g id=\"xtick_1\">\n     <g id=\"line2d_1\">\n      <path d=\"M 68.81905 308.45445 \nL 68.81905 28.51845 \n\" clip-path=\"url(#pc2fe417064)\" style=\"fill: none; stroke: #cbcbcb\"/>\n     </g>\n     <g id=\"line2d_2\"/>\n     <g id=\"text_1\">\n      <!-- bitcoin -->\n      <g transform=\"translate(72.682175 359.246013) rotate(-90) scale(0.14 -0.14)\">\n       <defs>\n        <path id=\"DejaVuSans-62\" d=\"M 3116 1747 \nQ 3116 2381 2855 2742 \nQ 2594 3103 2138 3103 \nQ 1681 3103 1420 2742 \nQ 1159 2381 1159 1747 \nQ 1159 1113 1420 752 \nQ 1681 391 2138 391 \nQ 2594 391 2855 752 \nQ 3116 1113 3116 1747 \nz\nM 1159 2969 \nQ 1341 3281 1617 3432 \nQ 1894 3584 2278 3584 \nQ 2916 3584 3314 3078 \nQ 3713 2572 3713 1747 \nQ 3713 922 3314 415 \nQ 2916 -91 2278 -91 \nQ 1894 -91 1617 61 \nQ 1341 213 1159 525 \nL 1159 0 \nL 581 0 \nL 581 4863 \nL 1159 4863 \nL 1159 2969 \nz\n\" transform=\"scale(0.015625)\"/>\n        <path id=\"DejaVuSans-69\" d=\"M 603 3500 \nL 1178 3500 \nL 1178 0 \nL 603 0 \nL 603 3500 \nz\nM 603 4863 \nL 1178 4863 \nL 1178 4134 \nL 603 4134 \nL 603 4863 \nz\n\" transform=\"scale(0.015625)\"/>\n        <path id=\"DejaVuSans-74\" d=\"M 1172 4494 \nL 1172 3500 \nL 2356 3500 \nL 2356 3053 \nL 1172 3053 \nL 1172 1153 \nQ 1172 725 1289 603 \nQ 1406 481 1766 481 \nL 2356 481 \nL 2356 0 \nL 1766 0 \nQ 1100 0 847 248 \nQ 594 497 594 1153 \nL 594 3053 \nL 172 3053 \nL 172 3500 \nL 594 3500 \nL 594 4494 \nL 1172 4494 \nz\n\" transform=\"scale(0.015625)\"/>\n        <path id=\"DejaVuSans-63\" d=\"M 3122 3366 \nL 3122 2828 \nQ 2878 2963 2633 3030 \nQ 2388 3097 2138 3097 \nQ 1578 3097 1268 2742 \nQ 959 2388 959 1747 \nQ 959 1106 1268 751 \nQ 1578 397 2138 397 \nQ 2388 397 2633 464 \nQ 2878 531 3122 666 \nL 3122 134 \nQ 2881 22 2623 -34 \nQ 2366 -91 2075 -91 \nQ 1284 -91 818 406 \nQ 353 903 353 1747 \nQ 353 2603 823 3093 \nQ 1294 3584 2113 3584 \nQ 2378 3584 2631 3529 \nQ 2884 3475 3122 3366 \nz\n\" transform=\"scale(0.015625)\"/>\n        <path id=\"DejaVuSans-6f\" d=\"M 1959 3097 \nQ 1497 3097 1228 2736 \nQ 959 2375 959 1747 \nQ 959 1119 1226 758 \nQ 1494 397 1959 397 \nQ 2419 397 2687 759 \nQ 2956 1122 2956 1747 \nQ 2956 2369 2687 2733 \nQ 2419 3097 1959 3097 \nz\nM 1959 3584 \nQ 2709 3584 3137 3096 \nQ 3566 2609 3566 1747 \nQ 3566 888 3137 398 \nQ 2709 -91 1959 -91 \nQ 1206 -91 779 398 \nQ 353 888 353 1747 \nQ 353 2609 779 3096 \nQ 1206 3584 1959 3584 \nz\n\" transform=\"scale(0.015625)\"/>\n        <path id=\"DejaVuSans-6e\" d=\"M 3513 2113 \nL 3513 0 \nL 2938 0 \nL 2938 2094 \nQ 2938 2591 2744 2837 \nQ 2550 3084 2163 3084 \nQ 1697 3084 1428 2787 \nQ 1159 2491 1159 1978 \nL 1159 0 \nL 581 0 \nL 581 3500 \nL 1159 3500 \nL 1159 2956 \nQ 1366 3272 1645 3428 \nQ 1925 3584 2291 3584 \nQ 2894 3584 3203 3211 \nQ 3513 2838 3513 2113 \nz\n\" transform=\"scale(0.015625)\"/>\n       </defs>\n       <use xlink:href=\"#DejaVuSans-62\"/>\n       <use xlink:href=\"#DejaVuSans-69\" x=\"63.476562\"/>\n       <use xlink:href=\"#DejaVuSans-74\" x=\"91.259766\"/>\n       <use xlink:href=\"#DejaVuSans-63\" x=\"130.46875\"/>\n       <use xlink:href=\"#DejaVuSans-6f\" x=\"185.449219\"/>\n       <use xlink:href=\"#DejaVuSans-69\" x=\"246.630859\"/>\n       <use xlink:href=\"#DejaVuSans-6e\" x=\"274.414062\"/>\n      </g>\n     </g>\n    </g>\n    <g id=\"xtick_2\">\n     <g id=\"line2d_3\">\n      <path d=\"M 108.90865 308.45445 \nL 108.90865 28.51845 \n\" clip-path=\"url(#pc2fe417064)\" style=\"fill: none; stroke: #cbcbcb\"/>\n     </g>\n     <g id=\"line2d_4\"/>\n     <g id=\"text_2\">\n      <!-- ripple -->\n      <g transform=\"translate(112.771775 351.878512) rotate(-90) scale(0.14 -0.14)\">\n       <defs>\n        <path id=\"DejaVuSans-72\" d=\"M 2631 2963 \nQ 2534 3019 2420 3045 \nQ 2306 3072 2169 3072 \nQ 1681 3072 1420 2755 \nQ 1159 2438 1159 1844 \nL 1159 0 \nL 581 0 \nL 581 3500 \nL 1159 3500 \nL 1159 2956 \nQ 1341 3275 1631 3429 \nQ 1922 3584 2338 3584 \nQ 2397 3584 2469 3576 \nQ 2541 3569 2628 3553 \nL 2631 2963 \nz\n\" transform=\"scale(0.015625)\"/>\n        <path id=\"DejaVuSans-70\" d=\"M 1159 525 \nL 1159 -1331 \nL 581 -1331 \nL 581 3500 \nL 1159 3500 \nL 1159 2969 \nQ 1341 3281 1617 3432 \nQ 1894 3584 2278 3584 \nQ 2916 3584 3314 3078 \nQ 3713 2572 3713 1747 \nQ 3713 922 3314 415 \nQ 2916 -91 2278 -91 \nQ 1894 -91 1617 61 \nQ 1341 213 1159 525 \nz\nM 3116 1747 \nQ 3116 2381 2855 2742 \nQ 2594 3103 2138 3103 \nQ 1681 3103 1420 2742 \nQ 1159 2381 1159 1747 \nQ 1159 1113 1420 752 \nQ 1681 391 2138 391 \nQ 2594 391 2855 752 \nQ 3116 1113 3116 1747 \nz\n\" transform=\"scale(0.015625)\"/>\n        <path id=\"DejaVuSans-6c\" d=\"M 603 4863 \nL 1178 4863 \nL 1178 0 \nL 603 0 \nL 603 4863 \nz\n\" transform=\"scale(0.015625)\"/>\n        <path id=\"DejaVuSans-65\" d=\"M 3597 1894 \nL 3597 1613 \nL 953 1613 \nQ 991 1019 1311 708 \nQ 1631 397 2203 397 \nQ 2534 397 2845 478 \nQ 3156 559 3463 722 \nL 3463 178 \nQ 3153 47 2828 -22 \nQ 2503 -91 2169 -91 \nQ 1331 -91 842 396 \nQ 353 884 353 1716 \nQ 353 2575 817 3079 \nQ 1281 3584 2069 3584 \nQ 2775 3584 3186 3129 \nQ 3597 2675 3597 1894 \nz\nM 3022 2063 \nQ 3016 2534 2758 2815 \nQ 2500 3097 2075 3097 \nQ 1594 3097 1305 2825 \nQ 1016 2553 972 2059 \nL 3022 2063 \nz\n\" transform=\"scale(0.015625)\"/>\n       </defs>\n       <use xlink:href=\"#DejaVuSans-72\"/>\n       <use xlink:href=\"#DejaVuSans-69\" x=\"41.113281\"/>\n       <use xlink:href=\"#DejaVuSans-70\" x=\"68.896484\"/>\n       <use xlink:href=\"#DejaVuSans-70\" x=\"132.373047\"/>\n       <use xlink:href=\"#DejaVuSans-6c\" x=\"195.849609\"/>\n       <use xlink:href=\"#DejaVuSans-65\" x=\"223.632812\"/>\n      </g>\n     </g>\n    </g>\n    <g id=\"xtick_3\">\n     <g id=\"line2d_5\">\n      <path d=\"M 148.99825 308.45445 \nL 148.99825 28.51845 \n\" clip-path=\"url(#pc2fe417064)\" style=\"fill: none; stroke: #cbcbcb\"/>\n     </g>\n     <g id=\"line2d_6\"/>\n     <g id=\"text_3\">\n      <!-- ethereum -->\n      <g transform=\"translate(152.861375 380.1082) rotate(-90) scale(0.14 -0.14)\">\n       <defs>\n        <path id=\"DejaVuSans-68\" d=\"M 3513 2113 \nL 3513 0 \nL 2938 0 \nL 2938 2094 \nQ 2938 2591 2744 2837 \nQ 2550 3084 2163 3084 \nQ 1697 3084 1428 2787 \nQ 1159 2491 1159 1978 \nL 1159 0 \nL 581 0 \nL 581 4863 \nL 1159 4863 \nL 1159 2956 \nQ 1366 3272 1645 3428 \nQ 1925 3584 2291 3584 \nQ 2894 3584 3203 3211 \nQ 3513 2838 3513 2113 \nz\n\" transform=\"scale(0.015625)\"/>\n        <path id=\"DejaVuSans-75\" d=\"M 544 1381 \nL 544 3500 \nL 1119 3500 \nL 1119 1403 \nQ 1119 906 1312 657 \nQ 1506 409 1894 409 \nQ 2359 409 2629 706 \nQ 2900 1003 2900 1516 \nL 2900 3500 \nL 3475 3500 \nL 3475 0 \nL 2900 0 \nL 2900 538 \nQ 2691 219 2414 64 \nQ 2138 -91 1772 -91 \nQ 1169 -91 856 284 \nQ 544 659 544 1381 \nz\nM 1991 3584 \nL 1991 3584 \nz\n\" transform=\"scale(0.015625)\"/>\n        <path id=\"DejaVuSans-6d\" d=\"M 3328 2828 \nQ 3544 3216 3844 3400 \nQ 4144 3584 4550 3584 \nQ 5097 3584 5394 3201 \nQ 5691 2819 5691 2113 \nL 5691 0 \nL 5113 0 \nL 5113 2094 \nQ 5113 2597 4934 2840 \nQ 4756 3084 4391 3084 \nQ 3944 3084 3684 2787 \nQ 3425 2491 3425 1978 \nL 3425 0 \nL 2847 0 \nL 2847 2094 \nQ 2847 2600 2669 2842 \nQ 2491 3084 2119 3084 \nQ 1678 3084 1418 2786 \nQ 1159 2488 1159 1978 \nL 1159 0 \nL 581 0 \nL 581 3500 \nL 1159 3500 \nL 1159 2956 \nQ 1356 3278 1631 3431 \nQ 1906 3584 2284 3584 \nQ 2666 3584 2933 3390 \nQ 3200 3197 3328 2828 \nz\n\" transform=\"scale(0.015625)\"/>\n       </defs>\n       <use xlink:href=\"#DejaVuSans-65\"/>\n       <use xlink:href=\"#DejaVuSans-74\" x=\"61.523438\"/>\n       <use xlink:href=\"#DejaVuSans-68\" x=\"100.732422\"/>\n       <use xlink:href=\"#DejaVuSans-65\" x=\"164.111328\"/>\n       <use xlink:href=\"#DejaVuSans-72\" x=\"225.634766\"/>\n       <use xlink:href=\"#DejaVuSans-65\" x=\"264.498047\"/>\n       <use xlink:href=\"#DejaVuSans-75\" x=\"326.021484\"/>\n       <use xlink:href=\"#DejaVuSans-6d\" x=\"389.400391\"/>\n      </g>\n     </g>\n    </g>\n    <g id=\"xtick_4\">\n     <g id=\"line2d_7\">\n      <path d=\"M 189.08785 308.45445 \nL 189.08785 28.51845 \n\" clip-path=\"url(#pc2fe417064)\" style=\"fill: none; stroke: #cbcbcb\"/>\n     </g>\n     <g id=\"line2d_8\"/>\n     <g id=\"text_4\">\n      <!-- bitcoin-cash -->\n      <g transform=\"translate(192.950975 396.739762) rotate(-90) scale(0.14 -0.14)\">\n       <defs>\n        <path id=\"DejaVuSans-2d\" d=\"M 313 2009 \nL 1997 2009 \nL 1997 1497 \nL 313 1497 \nL 313 2009 \nz\n\" transform=\"scale(0.015625)\"/>\n        <path id=\"DejaVuSans-61\" d=\"M 2194 1759 \nQ 1497 1759 1228 1600 \nQ 959 1441 959 1056 \nQ 959 750 1161 570 \nQ 1363 391 1709 391 \nQ 2188 391 2477 730 \nQ 2766 1069 2766 1631 \nL 2766 1759 \nL 2194 1759 \nz\nM 3341 1997 \nL 3341 0 \nL 2766 0 \nL 2766 531 \nQ 2569 213 2275 61 \nQ 1981 -91 1556 -91 \nQ 1019 -91 701 211 \nQ 384 513 384 1019 \nQ 384 1609 779 1909 \nQ 1175 2209 1959 2209 \nL 2766 2209 \nL 2766 2266 \nQ 2766 2663 2505 2880 \nQ 2244 3097 1772 3097 \nQ 1472 3097 1187 3025 \nQ 903 2953 641 2809 \nL 641 3341 \nQ 956 3463 1253 3523 \nQ 1550 3584 1831 3584 \nQ 2591 3584 2966 3190 \nQ 3341 2797 3341 1997 \nz\n\" transform=\"scale(0.015625)\"/>\n        <path id=\"DejaVuSans-73\" d=\"M 2834 3397 \nL 2834 2853 \nQ 2591 2978 2328 3040 \nQ 2066 3103 1784 3103 \nQ 1356 3103 1142 2972 \nQ 928 2841 928 2578 \nQ 928 2378 1081 2264 \nQ 1234 2150 1697 2047 \nL 1894 2003 \nQ 2506 1872 2764 1633 \nQ 3022 1394 3022 966 \nQ 3022 478 2636 193 \nQ 2250 -91 1575 -91 \nQ 1294 -91 989 -36 \nQ 684 19 347 128 \nL 347 722 \nQ 666 556 975 473 \nQ 1284 391 1588 391 \nQ 1994 391 2212 530 \nQ 2431 669 2431 922 \nQ 2431 1156 2273 1281 \nQ 2116 1406 1581 1522 \nL 1381 1569 \nQ 847 1681 609 1914 \nQ 372 2147 372 2553 \nQ 372 3047 722 3315 \nQ 1072 3584 1716 3584 \nQ 2034 3584 2315 3537 \nQ 2597 3491 2834 3397 \nz\n\" transform=\"scale(0.015625)\"/>\n       </defs>\n       <use xlink:href=\"#DejaVuSans-62\"/>\n       <use xlink:href=\"#DejaVuSans-69\" x=\"63.476562\"/>\n       <use xlink:href=\"#DejaVuSans-74\" x=\"91.259766\"/>\n       <use xlink:href=\"#DejaVuSans-63\" x=\"130.46875\"/>\n       <use xlink:href=\"#DejaVuSans-6f\" x=\"185.449219\"/>\n       <use xlink:href=\"#DejaVuSans-69\" x=\"246.630859\"/>\n       <use xlink:href=\"#DejaVuSans-6e\" x=\"274.414062\"/>\n       <use xlink:href=\"#DejaVuSans-2d\" x=\"337.792969\"/>\n       <use xlink:href=\"#DejaVuSans-63\" x=\"373.876953\"/>\n       <use xlink:href=\"#DejaVuSans-61\" x=\"428.857422\"/>\n       <use xlink:href=\"#DejaVuSans-73\" x=\"490.136719\"/>\n       <use xlink:href=\"#DejaVuSans-68\" x=\"542.236328\"/>\n      </g>\n     </g>\n    </g>\n    <g id=\"xtick_5\">\n     <g id=\"line2d_9\">\n      <path d=\"M 229.17745 308.45445 \nL 229.17745 28.51845 \n\" clip-path=\"url(#pc2fe417064)\" style=\"fill: none; stroke: #cbcbcb\"/>\n     </g>\n     <g id=\"line2d_10\"/>\n     <g id=\"text_5\">\n      <!-- cardano -->\n      <g transform=\"translate(233.040575 368.647887) rotate(-90) scale(0.14 -0.14)\">\n       <defs>\n        <path id=\"DejaVuSans-64\" d=\"M 2906 2969 \nL 2906 4863 \nL 3481 4863 \nL 3481 0 \nL 2906 0 \nL 2906 525 \nQ 2725 213 2448 61 \nQ 2172 -91 1784 -91 \nQ 1150 -91 751 415 \nQ 353 922 353 1747 \nQ 353 2572 751 3078 \nQ 1150 3584 1784 3584 \nQ 2172 3584 2448 3432 \nQ 2725 3281 2906 2969 \nz\nM 947 1747 \nQ 947 1113 1208 752 \nQ 1469 391 1925 391 \nQ 2381 391 2643 752 \nQ 2906 1113 2906 1747 \nQ 2906 2381 2643 2742 \nQ 2381 3103 1925 3103 \nQ 1469 3103 1208 2742 \nQ 947 2381 947 1747 \nz\n\" transform=\"scale(0.015625)\"/>\n       </defs>\n       <use xlink:href=\"#DejaVuSans-63\"/>\n       <use xlink:href=\"#DejaVuSans-61\" x=\"54.980469\"/>\n       <use xlink:href=\"#DejaVuSans-72\" x=\"116.259766\"/>\n       <use xlink:href=\"#DejaVuSans-64\" x=\"155.623047\"/>\n       <use xlink:href=\"#DejaVuSans-61\" x=\"219.099609\"/>\n       <use xlink:href=\"#DejaVuSans-6e\" x=\"280.378906\"/>\n       <use xlink:href=\"#DejaVuSans-6f\" x=\"343.757812\"/>\n      </g>\n     </g>\n    </g>\n    <g id=\"xtick_6\">\n     <g id=\"line2d_11\">\n      <path d=\"M 269.26705 308.45445 \nL 269.26705 28.51845 \n\" clip-path=\"url(#pc2fe417064)\" style=\"fill: none; stroke: #cbcbcb\"/>\n     </g>\n     <g id=\"line2d_12\"/>\n     <g id=\"text_6\">\n      <!-- litecoin -->\n      <g transform=\"translate(273.130175 362.86195) rotate(-90) scale(0.14 -0.14)\">\n       <use xlink:href=\"#DejaVuSans-6c\"/>\n       <use xlink:href=\"#DejaVuSans-69\" x=\"27.783203\"/>\n       <use xlink:href=\"#DejaVuSans-74\" x=\"55.566406\"/>\n       <use xlink:href=\"#DejaVuSans-65\" x=\"94.775391\"/>\n       <use xlink:href=\"#DejaVuSans-63\" x=\"156.298828\"/>\n       <use xlink:href=\"#DejaVuSans-6f\" x=\"211.279297\"/>\n       <use xlink:href=\"#DejaVuSans-69\" x=\"272.460938\"/>\n       <use xlink:href=\"#DejaVuSans-6e\" x=\"300.244141\"/>\n      </g>\n     </g>\n    </g>\n    <g id=\"xtick_7\">\n     <g id=\"line2d_13\">\n      <path d=\"M 309.35665 308.45445 \nL 309.35665 28.51845 \n\" clip-path=\"url(#pc2fe417064)\" style=\"fill: none; stroke: #cbcbcb\"/>\n     </g>\n     <g id=\"line2d_14\"/>\n     <g id=\"text_7\">\n      <!-- nem -->\n      <g transform=\"translate(313.219775 343.0782) rotate(-90) scale(0.14 -0.14)\">\n       <use xlink:href=\"#DejaVuSans-6e\"/>\n       <use xlink:href=\"#DejaVuSans-65\" x=\"63.378906\"/>\n       <use xlink:href=\"#DejaVuSans-6d\" x=\"124.902344\"/>\n      </g>\n     </g>\n    </g>\n    <g id=\"xtick_8\">\n     <g id=\"line2d_15\">\n      <path d=\"M 349.44625 308.45445 \nL 349.44625 28.51845 \n\" clip-path=\"url(#pc2fe417064)\" style=\"fill: none; stroke: #cbcbcb\"/>\n     </g>\n     <g id=\"line2d_16\"/>\n     <g id=\"text_8\">\n      <!-- stellar -->\n      <g transform=\"translate(353.309375 355.463825) rotate(-90) scale(0.14 -0.14)\">\n       <use xlink:href=\"#DejaVuSans-73\"/>\n       <use xlink:href=\"#DejaVuSans-74\" x=\"52.099609\"/>\n       <use xlink:href=\"#DejaVuSans-65\" x=\"91.308594\"/>\n       <use xlink:href=\"#DejaVuSans-6c\" x=\"152.832031\"/>\n       <use xlink:href=\"#DejaVuSans-6c\" x=\"180.615234\"/>\n       <use xlink:href=\"#DejaVuSans-61\" x=\"208.398438\"/>\n       <use xlink:href=\"#DejaVuSans-72\" x=\"269.677734\"/>\n      </g>\n     </g>\n    </g>\n    <g id=\"xtick_9\">\n     <g id=\"line2d_17\">\n      <path d=\"M 389.53585 308.45445 \nL 389.53585 28.51845 \n\" clip-path=\"url(#pc2fe417064)\" style=\"fill: none; stroke: #cbcbcb\"/>\n     </g>\n     <g id=\"line2d_18\"/>\n     <g id=\"text_9\">\n      <!-- tron -->\n      <g transform=\"translate(393.398975 340.32195) rotate(-90) scale(0.14 -0.14)\">\n       <use xlink:href=\"#DejaVuSans-74\"/>\n       <use xlink:href=\"#DejaVuSans-72\" x=\"39.208984\"/>\n       <use xlink:href=\"#DejaVuSans-6f\" x=\"78.072266\"/>\n       <use xlink:href=\"#DejaVuSans-6e\" x=\"139.253906\"/>\n      </g>\n     </g>\n    </g>\n    <g id=\"xtick_10\">\n     <g id=\"line2d_19\">\n      <path d=\"M 429.62545 308.45445 \nL 429.62545 28.51845 \n\" clip-path=\"url(#pc2fe417064)\" style=\"fill: none; stroke: #cbcbcb\"/>\n     </g>\n     <g id=\"line2d_20\"/>\n     <g id=\"text_10\">\n      <!-- iota -->\n      <g transform=\"translate(433.488575 338.477887) rotate(-90) scale(0.14 -0.14)\">\n       <use xlink:href=\"#DejaVuSans-69\"/>\n       <use xlink:href=\"#DejaVuSans-6f\" x=\"27.783203\"/>\n       <use xlink:href=\"#DejaVuSans-74\" x=\"88.964844\"/>\n       <use xlink:href=\"#DejaVuSans-61\" x=\"128.173828\"/>\n      </g>\n     </g>\n    </g>\n    <g id=\"text_11\">\n     <!-- id -->\n     <g transform=\"translate(241.555938 413.505137) scale(0.168 -0.168)\">\n      <use xlink:href=\"#DejaVuSans-69\"/>\n      <use xlink:href=\"#DejaVuSans-64\" x=\"27.783203\"/>\n     </g>\n    </g>\n   </g>\n   <g id=\"matplotlib.axis_2\">\n    <g id=\"ytick_1\">\n     <g id=\"line2d_21\">\n      <path d=\"M 48.77425 308.45445 \nL 449.67025 308.45445 \n\" clip-path=\"url(#pc2fe417064)\" style=\"fill: none; stroke: #cbcbcb\"/>\n     </g>\n     <g id=\"line2d_22\"/>\n     <g id=\"text_12\">\n      <!-- 0 -->\n      <g transform=\"translate(36.36675 313.773356) scale(0.14 -0.14)\">\n       <defs>\n        <path id=\"DejaVuSans-30\" d=\"M 2034 4250 \nQ 1547 4250 1301 3770 \nQ 1056 3291 1056 2328 \nQ 1056 1369 1301 889 \nQ 1547 409 2034 409 \nQ 2525 409 2770 889 \nQ 3016 1369 3016 2328 \nQ 3016 3291 2770 3770 \nQ 2525 4250 2034 4250 \nz\nM 2034 4750 \nQ 2819 4750 3233 4129 \nQ 3647 3509 3647 2328 \nQ 3647 1150 3233 529 \nQ 2819 -91 2034 -91 \nQ 1250 -91 836 529 \nQ 422 1150 422 2328 \nQ 422 3509 836 4129 \nQ 1250 4750 2034 4750 \nz\n\" transform=\"scale(0.015625)\"/>\n       </defs>\n       <use xlink:href=\"#DejaVuSans-30\"/>\n      </g>\n     </g>\n    </g>\n    <g id=\"ytick_2\">\n     <g id=\"line2d_23\">\n      <path d=\"M 48.77425 272.857108 \nL 449.67025 272.857108 \n\" clip-path=\"url(#pc2fe417064)\" style=\"fill: none; stroke: #cbcbcb\"/>\n     </g>\n     <g id=\"line2d_24\"/>\n     <g id=\"text_13\">\n      <!-- 5 -->\n      <g transform=\"translate(36.36675 278.176014) scale(0.14 -0.14)\">\n       <defs>\n        <path id=\"DejaVuSans-35\" d=\"M 691 4666 \nL 3169 4666 \nL 3169 4134 \nL 1269 4134 \nL 1269 2991 \nQ 1406 3038 1543 3061 \nQ 1681 3084 1819 3084 \nQ 2600 3084 3056 2656 \nQ 3513 2228 3513 1497 \nQ 3513 744 3044 326 \nQ 2575 -91 1722 -91 \nQ 1428 -91 1123 -41 \nQ 819 9 494 109 \nL 494 744 \nQ 775 591 1075 516 \nQ 1375 441 1709 441 \nQ 2250 441 2565 725 \nQ 2881 1009 2881 1497 \nQ 2881 1984 2565 2268 \nQ 2250 2553 1709 2553 \nQ 1456 2553 1204 2497 \nQ 953 2441 691 2322 \nL 691 4666 \nz\n\" transform=\"scale(0.015625)\"/>\n       </defs>\n       <use xlink:href=\"#DejaVuSans-35\"/>\n      </g>\n     </g>\n    </g>\n    <g id=\"ytick_3\">\n     <g id=\"line2d_25\">\n      <path d=\"M 48.77425 237.259766 \nL 449.67025 237.259766 \n\" clip-path=\"url(#pc2fe417064)\" style=\"fill: none; stroke: #cbcbcb\"/>\n     </g>\n     <g id=\"line2d_26\"/>\n     <g id=\"text_14\">\n      <!-- 10 -->\n      <g transform=\"translate(27.45925 242.578672) scale(0.14 -0.14)\">\n       <defs>\n        <path id=\"DejaVuSans-31\" d=\"M 794 531 \nL 1825 531 \nL 1825 4091 \nL 703 3866 \nL 703 4441 \nL 1819 4666 \nL 2450 4666 \nL 2450 531 \nL 3481 531 \nL 3481 0 \nL 794 0 \nL 794 531 \nz\n\" transform=\"scale(0.015625)\"/>\n       </defs>\n       <use xlink:href=\"#DejaVuSans-31\"/>\n       <use xlink:href=\"#DejaVuSans-30\" x=\"63.623047\"/>\n      </g>\n     </g>\n    </g>\n    <g id=\"ytick_4\">\n     <g id=\"line2d_27\">\n      <path d=\"M 48.77425 201.662424 \nL 449.67025 201.662424 \n\" clip-path=\"url(#pc2fe417064)\" style=\"fill: none; stroke: #cbcbcb\"/>\n     </g>\n     <g id=\"line2d_28\"/>\n     <g id=\"text_15\">\n      <!-- 15 -->\n      <g transform=\"translate(27.45925 206.98133) scale(0.14 -0.14)\">\n       <use xlink:href=\"#DejaVuSans-31\"/>\n       <use xlink:href=\"#DejaVuSans-35\" x=\"63.623047\"/>\n      </g>\n     </g>\n    </g>\n    <g id=\"ytick_5\">\n     <g id=\"line2d_29\">\n      <path d=\"M 48.77425 166.065082 \nL 449.67025 166.065082 \n\" clip-path=\"url(#pc2fe417064)\" style=\"fill: none; stroke: #cbcbcb\"/>\n     </g>\n     <g id=\"line2d_30\"/>\n     <g id=\"text_16\">\n      <!-- 20 -->\n      <g transform=\"translate(27.45925 171.383988) scale(0.14 -0.14)\">\n       <defs>\n        <path id=\"DejaVuSans-32\" d=\"M 1228 531 \nL 3431 531 \nL 3431 0 \nL 469 0 \nL 469 531 \nQ 828 903 1448 1529 \nQ 2069 2156 2228 2338 \nQ 2531 2678 2651 2914 \nQ 2772 3150 2772 3378 \nQ 2772 3750 2511 3984 \nQ 2250 4219 1831 4219 \nQ 1534 4219 1204 4116 \nQ 875 4013 500 3803 \nL 500 4441 \nQ 881 4594 1212 4672 \nQ 1544 4750 1819 4750 \nQ 2544 4750 2975 4387 \nQ 3406 4025 3406 3419 \nQ 3406 3131 3298 2873 \nQ 3191 2616 2906 2266 \nQ 2828 2175 2409 1742 \nQ 1991 1309 1228 531 \nz\n\" transform=\"scale(0.015625)\"/>\n       </defs>\n       <use xlink:href=\"#DejaVuSans-32\"/>\n       <use xlink:href=\"#DejaVuSans-30\" x=\"63.623047\"/>\n      </g>\n     </g>\n    </g>\n    <g id=\"ytick_6\">\n     <g id=\"line2d_31\">\n      <path d=\"M 48.77425 130.46774 \nL 449.67025 130.46774 \n\" clip-path=\"url(#pc2fe417064)\" style=\"fill: none; stroke: #cbcbcb\"/>\n     </g>\n     <g id=\"line2d_32\"/>\n     <g id=\"text_17\">\n      <!-- 25 -->\n      <g transform=\"translate(27.45925 135.786646) scale(0.14 -0.14)\">\n       <use xlink:href=\"#DejaVuSans-32\"/>\n       <use xlink:href=\"#DejaVuSans-35\" x=\"63.623047\"/>\n      </g>\n     </g>\n    </g>\n    <g id=\"ytick_7\">\n     <g id=\"line2d_33\">\n      <path d=\"M 48.77425 94.870397 \nL 449.67025 94.870397 \n\" clip-path=\"url(#pc2fe417064)\" style=\"fill: none; stroke: #cbcbcb\"/>\n     </g>\n     <g id=\"line2d_34\"/>\n     <g id=\"text_18\">\n      <!-- 30 -->\n      <g transform=\"translate(27.45925 100.189304) scale(0.14 -0.14)\">\n       <defs>\n        <path id=\"DejaVuSans-33\" d=\"M 2597 2516 \nQ 3050 2419 3304 2112 \nQ 3559 1806 3559 1356 \nQ 3559 666 3084 287 \nQ 2609 -91 1734 -91 \nQ 1441 -91 1130 -33 \nQ 819 25 488 141 \nL 488 750 \nQ 750 597 1062 519 \nQ 1375 441 1716 441 \nQ 2309 441 2620 675 \nQ 2931 909 2931 1356 \nQ 2931 1769 2642 2001 \nQ 2353 2234 1838 2234 \nL 1294 2234 \nL 1294 2753 \nL 1863 2753 \nQ 2328 2753 2575 2939 \nQ 2822 3125 2822 3475 \nQ 2822 3834 2567 4026 \nQ 2313 4219 1838 4219 \nQ 1578 4219 1281 4162 \nQ 984 4106 628 3988 \nL 628 4550 \nQ 988 4650 1302 4700 \nQ 1616 4750 1894 4750 \nQ 2613 4750 3031 4423 \nQ 3450 4097 3450 3541 \nQ 3450 3153 3228 2886 \nQ 3006 2619 2597 2516 \nz\n\" transform=\"scale(0.015625)\"/>\n       </defs>\n       <use xlink:href=\"#DejaVuSans-33\"/>\n       <use xlink:href=\"#DejaVuSans-30\" x=\"63.623047\"/>\n      </g>\n     </g>\n    </g>\n    <g id=\"ytick_8\">\n     <g id=\"line2d_35\">\n      <path d=\"M 48.77425 59.273055 \nL 449.67025 59.273055 \n\" clip-path=\"url(#pc2fe417064)\" style=\"fill: none; stroke: #cbcbcb\"/>\n     </g>\n     <g id=\"line2d_36\"/>\n     <g id=\"text_19\">\n      <!-- 35 -->\n      <g transform=\"translate(27.45925 64.591962) scale(0.14 -0.14)\">\n       <use xlink:href=\"#DejaVuSans-33\"/>\n       <use xlink:href=\"#DejaVuSans-35\" x=\"63.623047\"/>\n      </g>\n     </g>\n    </g>\n    <g id=\"text_20\">\n     <!-- % of total cap -->\n     <g transform=\"translate(19.965375 226.879575) rotate(-90) scale(0.168 -0.168)\">\n      <defs>\n       <path id=\"DejaVuSans-25\" d=\"M 4653 2053 \nQ 4381 2053 4226 1822 \nQ 4072 1591 4072 1178 \nQ 4072 772 4226 539 \nQ 4381 306 4653 306 \nQ 4919 306 5073 539 \nQ 5228 772 5228 1178 \nQ 5228 1588 5073 1820 \nQ 4919 2053 4653 2053 \nz\nM 4653 2450 \nQ 5147 2450 5437 2106 \nQ 5728 1763 5728 1178 \nQ 5728 594 5436 251 \nQ 5144 -91 4653 -91 \nQ 4153 -91 3862 251 \nQ 3572 594 3572 1178 \nQ 3572 1766 3864 2108 \nQ 4156 2450 4653 2450 \nz\nM 1428 4353 \nQ 1159 4353 1004 4120 \nQ 850 3888 850 3481 \nQ 850 3069 1003 2837 \nQ 1156 2606 1428 2606 \nQ 1700 2606 1854 2837 \nQ 2009 3069 2009 3481 \nQ 2009 3884 1853 4118 \nQ 1697 4353 1428 4353 \nz\nM 4250 4750 \nL 4750 4750 \nL 1831 -91 \nL 1331 -91 \nL 4250 4750 \nz\nM 1428 4750 \nQ 1922 4750 2215 4408 \nQ 2509 4066 2509 3481 \nQ 2509 2891 2217 2550 \nQ 1925 2209 1428 2209 \nQ 931 2209 642 2551 \nQ 353 2894 353 3481 \nQ 353 4063 643 4406 \nQ 934 4750 1428 4750 \nz\n\" transform=\"scale(0.015625)\"/>\n       <path id=\"DejaVuSans-20\" transform=\"scale(0.015625)\"/>\n       <path id=\"DejaVuSans-66\" d=\"M 2375 4863 \nL 2375 4384 \nL 1825 4384 \nQ 1516 4384 1395 4259 \nQ 1275 4134 1275 3809 \nL 1275 3500 \nL 2222 3500 \nL 2222 3053 \nL 1275 3053 \nL 1275 0 \nL 697 0 \nL 697 3053 \nL 147 3053 \nL 147 3500 \nL 697 3500 \nL 697 3744 \nQ 697 4328 969 4595 \nQ 1241 4863 1831 4863 \nL 2375 4863 \nz\n\" transform=\"scale(0.015625)\"/>\n      </defs>\n      <use xlink:href=\"#DejaVuSans-25\"/>\n      <use xlink:href=\"#DejaVuSans-20\" x=\"95.019531\"/>\n      <use xlink:href=\"#DejaVuSans-6f\" x=\"126.806641\"/>\n      <use xlink:href=\"#DejaVuSans-66\" x=\"187.988281\"/>\n      <use xlink:href=\"#DejaVuSans-20\" x=\"223.193359\"/>\n      <use xlink:href=\"#DejaVuSans-74\" x=\"254.980469\"/>\n      <use xlink:href=\"#DejaVuSans-6f\" x=\"294.189453\"/>\n      <use xlink:href=\"#DejaVuSans-74\" x=\"355.371094\"/>\n      <use xlink:href=\"#DejaVuSans-61\" x=\"394.580078\"/>\n      <use xlink:href=\"#DejaVuSans-6c\" x=\"455.859375\"/>\n      <use xlink:href=\"#DejaVuSans-20\" x=\"483.642578\"/>\n      <use xlink:href=\"#DejaVuSans-63\" x=\"515.429688\"/>\n      <use xlink:href=\"#DejaVuSans-61\" x=\"570.410156\"/>\n      <use xlink:href=\"#DejaVuSans-70\" x=\"631.689453\"/>\n     </g>\n    </g>\n   </g>\n   <g id=\"patch_3\">\n    <path d=\"M 58.79665 308.45445 \nL 78.84145 308.45445 \nL 78.84145 41.848736 \nL 58.79665 41.848736 \nz\n\" clip-path=\"url(#pc2fe417064)\" style=\"fill: #008fd5\"/>\n   </g>\n   <g id=\"patch_4\">\n    <path d=\"M 98.88625 308.45445 \nL 118.93105 308.45445 \nL 118.93105 196.904971 \nL 98.88625 196.904971 \nz\n\" clip-path=\"url(#pc2fe417064)\" style=\"fill: #008fd5\"/>\n   </g>\n   <g id=\"patch_5\">\n    <path d=\"M 138.97585 308.45445 \nL 159.02065 308.45445 \nL 159.02065 214.770645 \nL 138.97585 214.770645 \nz\n\" clip-path=\"url(#pc2fe417064)\" style=\"fill: #008fd5\"/>\n   </g>\n   <g id=\"patch_6\">\n    <path d=\"M 179.06545 308.45445 \nL 199.11025 308.45445 \nL 199.11025 266.884312 \nL 179.06545 266.884312 \nz\n\" clip-path=\"url(#pc2fe417064)\" style=\"fill: #008fd5\"/>\n   </g>\n   <g id=\"patch_7\">\n    <path d=\"M 219.15505 308.45445 \nL 239.19985 308.45445 \nL 239.19985 284.202759 \nL 219.15505 284.202759 \nz\n\" clip-path=\"url(#pc2fe417064)\" style=\"fill: #008fd5\"/>\n   </g>\n   <g id=\"patch_8\">\n    <path d=\"M 259.24465 308.45445 \nL 279.28945 308.45445 \nL 279.28945 292.94519 \nL 259.24465 292.94519 \nz\n\" clip-path=\"url(#pc2fe417064)\" style=\"fill: #008fd5\"/>\n   </g>\n   <g id=\"patch_9\">\n    <path d=\"M 299.33425 308.45445 \nL 319.37905 308.45445 \nL 319.37905 294.592731 \nL 299.33425 294.592731 \nz\n\" clip-path=\"url(#pc2fe417064)\" style=\"fill: #008fd5\"/>\n   </g>\n   <g id=\"patch_10\">\n    <path d=\"M 339.42385 308.45445 \nL 359.46865 308.45445 \nL 359.46865 296.631503 \nL 339.42385 296.631503 \nz\n\" clip-path=\"url(#pc2fe417064)\" style=\"fill: #008fd5\"/>\n   </g>\n   <g id=\"patch_11\">\n    <path d=\"M 379.51345 308.45445 \nL 399.55825 308.45445 \nL 399.55825 297.467124 \nL 379.51345 297.467124 \nz\n\" clip-path=\"url(#pc2fe417064)\" style=\"fill: #008fd5\"/>\n   </g>\n   <g id=\"patch_12\">\n    <path d=\"M 419.60305 308.45445 \nL 439.64785 308.45445 \nL 439.64785 298.026502 \nL 419.60305 298.026502 \nz\n\" clip-path=\"url(#pc2fe417064)\" style=\"fill: #008fd5\"/>\n   </g>\n   <g id=\"patch_13\">\n    <path d=\"M 48.77425 308.45445 \nL 48.77425 28.51845 \n\" style=\"fill: none; stroke: #f0f0f0; stroke-width: 3; stroke-linejoin: miter; stroke-linecap: square\"/>\n   </g>\n   <g id=\"patch_14\">\n    <path d=\"M 449.67025 308.45445 \nL 449.67025 28.51845 \n\" style=\"fill: none; stroke: #f0f0f0; stroke-width: 3; stroke-linejoin: miter; stroke-linecap: square\"/>\n   </g>\n   <g id=\"patch_15\">\n    <path d=\"M 48.77425 308.45445 \nL 449.67025 308.45445 \n\" style=\"fill: none; stroke: #f0f0f0; stroke-width: 3; stroke-linejoin: miter; stroke-linecap: square\"/>\n   </g>\n   <g id=\"patch_16\">\n    <path d=\"M 48.77425 28.51845 \nL 449.67025 28.51845 \n\" style=\"fill: none; stroke: #f0f0f0; stroke-width: 3; stroke-linejoin: miter; stroke-linecap: square\"/>\n   </g>\n   <g id=\"text_21\">\n    <!-- Top 10 market capitalization -->\n    <g transform=\"translate(106.585525 22.51845) scale(0.2016 -0.2016)\">\n     <defs>\n      <path id=\"DejaVuSans-54\" d=\"M -19 4666 \nL 3928 4666 \nL 3928 4134 \nL 2272 4134 \nL 2272 0 \nL 1638 0 \nL 1638 4134 \nL -19 4134 \nL -19 4666 \nz\n\" transform=\"scale(0.015625)\"/>\n      <path id=\"DejaVuSans-6b\" d=\"M 581 4863 \nL 1159 4863 \nL 1159 1991 \nL 2875 3500 \nL 3609 3500 \nL 1753 1863 \nL 3688 0 \nL 2938 0 \nL 1159 1709 \nL 1159 0 \nL 581 0 \nL 581 4863 \nz\n\" transform=\"scale(0.015625)\"/>\n      <path id=\"DejaVuSans-7a\" d=\"M 353 3500 \nL 3084 3500 \nL 3084 2975 \nL 922 459 \nL 3084 459 \nL 3084 0 \nL 275 0 \nL 275 525 \nL 2438 3041 \nL 353 3041 \nL 353 3500 \nz\n\" transform=\"scale(0.015625)\"/>\n     </defs>\n     <use xlink:href=\"#DejaVuSans-54\"/>\n     <use xlink:href=\"#DejaVuSans-6f\" x=\"44.083984\"/>\n     <use xlink:href=\"#DejaVuSans-70\" x=\"105.265625\"/>\n     <use xlink:href=\"#DejaVuSans-20\" x=\"168.742188\"/>\n     <use xlink:href=\"#DejaVuSans-31\" x=\"200.529297\"/>\n     <use xlink:href=\"#DejaVuSans-30\" x=\"264.152344\"/>\n     <use xlink:href=\"#DejaVuSans-20\" x=\"327.775391\"/>\n     <use xlink:href=\"#DejaVuSans-6d\" x=\"359.5625\"/>\n     <use xlink:href=\"#DejaVuSans-61\" x=\"456.974609\"/>\n     <use xlink:href=\"#DejaVuSans-72\" x=\"518.253906\"/>\n     <use xlink:href=\"#DejaVuSans-6b\" x=\"559.367188\"/>\n     <use xlink:href=\"#DejaVuSans-65\" x=\"613.652344\"/>\n     <use xlink:href=\"#DejaVuSans-74\" x=\"675.175781\"/>\n     <use xlink:href=\"#DejaVuSans-20\" x=\"714.384766\"/>\n     <use xlink:href=\"#DejaVuSans-63\" x=\"746.171875\"/>\n     <use xlink:href=\"#DejaVuSans-61\" x=\"801.152344\"/>\n     <use xlink:href=\"#DejaVuSans-70\" x=\"862.431641\"/>\n     <use xlink:href=\"#DejaVuSans-69\" x=\"925.908203\"/>\n     <use xlink:href=\"#DejaVuSans-74\" x=\"953.691406\"/>\n     <use xlink:href=\"#DejaVuSans-61\" x=\"992.900391\"/>\n     <use xlink:href=\"#DejaVuSans-6c\" x=\"1054.179688\"/>\n     <use xlink:href=\"#DejaVuSans-69\" x=\"1081.962891\"/>\n     <use xlink:href=\"#DejaVuSans-7a\" x=\"1109.746094\"/>\n     <use xlink:href=\"#DejaVuSans-61\" x=\"1162.236328\"/>\n     <use xlink:href=\"#DejaVuSans-74\" x=\"1223.515625\"/>\n     <use xlink:href=\"#DejaVuSans-69\" x=\"1262.724609\"/>\n     <use xlink:href=\"#DejaVuSans-6f\" x=\"1290.507812\"/>\n     <use xlink:href=\"#DejaVuSans-6e\" x=\"1351.689453\"/>\n    </g>\n   </g>\n   <g id=\"legend_1\">\n    <g id=\"patch_17\">\n     <path d=\"M 275.591187 60.6572 \nL 439.87025 60.6572 \nQ 442.67025 60.6572 442.67025 57.8572 \nL 442.67025 38.31845 \nQ 442.67025 35.51845 439.87025 35.51845 \nL 275.591187 35.51845 \nQ 272.791187 35.51845 272.791187 38.31845 \nL 272.791187 57.8572 \nQ 272.791187 60.6572 275.591187 60.6572 \nz\n\" style=\"fill: #f0f0f0; opacity: 0.8; stroke: #cccccc; stroke-width: 0.5; stroke-linejoin: miter\"/>\n    </g>\n    <g id=\"patch_18\">\n     <path d=\"M 278.391188 51.756262 \nL 306.391188 51.756262 \nL 306.391188 41.956262 \nL 278.391188 41.956262 \nz\n\" style=\"fill: #008fd5\"/>\n    </g>\n    <g id=\"text_22\">\n     <!-- market_cap_perc -->\n     <g transform=\"translate(317.591187 51.756262) scale(0.14 -0.14)\">\n      <defs>\n       <path id=\"DejaVuSans-5f\" d=\"M 3263 -1063 \nL 3263 -1509 \nL -63 -1509 \nL -63 -1063 \nL 3263 -1063 \nz\n\" transform=\"scale(0.015625)\"/>\n      </defs>\n      <use xlink:href=\"#DejaVuSans-6d\"/>\n      <use xlink:href=\"#DejaVuSans-61\" x=\"97.412109\"/>\n      <use xlink:href=\"#DejaVuSans-72\" x=\"158.691406\"/>\n      <use xlink:href=\"#DejaVuSans-6b\" x=\"199.804688\"/>\n      <use xlink:href=\"#DejaVuSans-65\" x=\"254.089844\"/>\n      <use xlink:href=\"#DejaVuSans-74\" x=\"315.613281\"/>\n      <use xlink:href=\"#DejaVuSans-5f\" x=\"354.822266\"/>\n      <use xlink:href=\"#DejaVuSans-63\" x=\"404.822266\"/>\n      <use xlink:href=\"#DejaVuSans-61\" x=\"459.802734\"/>\n      <use xlink:href=\"#DejaVuSans-70\" x=\"521.082031\"/>\n      <use xlink:href=\"#DejaVuSans-5f\" x=\"584.558594\"/>\n      <use xlink:href=\"#DejaVuSans-70\" x=\"634.558594\"/>\n      <use xlink:href=\"#DejaVuSans-65\" x=\"698.035156\"/>\n      <use xlink:href=\"#DejaVuSans-72\" x=\"759.558594\"/>\n      <use xlink:href=\"#DejaVuSans-63\" x=\"798.421875\"/>\n     </g>\n    </g>\n   </g>\n  </g>\n </g>\n <defs>\n  <clipPath id=\"pc2fe417064\">\n   <rect x=\"48.77425\" y=\"28.51845\" width=\"400.896\" height=\"279.936\"/>\n  </clipPath>\n </defs>\n</svg>\n"
          },
          "metadata": {}
        }
      ],
      "source": [
        "#Declaring these now for later use in the plots\n",
        "TOP_CAP_TITLE = 'Top 10 market capitalization'\n",
        "TOP_CAP_YLABEL = '% of total cap'\n",
        "\n",
        "# Selecting the first 10 rows and setting the index\n",
        "cap10 = cap.head(10).set_index(cap.id[:10])\n",
        "\n",
        "# Calculating market_cap_perc\n",
        "cap10 = cap10.assign(market_cap_perc =\n",
        "                    lambda x: (x.market_cap_usd / cap.market_cap_usd.sum()) * 100)\n",
        "\n",
        "# Plotting the barplot with the title defined above\n",
        "ax = cap10.plot.bar(x = 'id', y = 'market_cap_perc', title = TOP_CAP_TITLE)\n",
        "\n",
        "# Annotating the y axis with the label defined above\n",
        "# ... YOUR CODE FOR TASK 4 ...\n",
        "ax.set_ylabel(TOP_CAP_YLABEL)"
      ],
      "cell_type": "code",
      "execution_count": null
    },
    {
      "metadata": {
        "trusted": true,
        "tags": [
          "sample_code"
        ],
        "dc": {
          "key": "32"
        },
        "colab": {
          "base_uri": "https://localhost:8080/",
          "height": 577
        },
        "id": "E_A4T0SIc-r7",
        "outputId": "4a2ac54b-4a51-443a-a0a8-939c0b1d3830"
      },
      "outputs": [
        {
          "output_type": "execute_result",
          "data": {
            "text/plain": [
              "Text(0.5, 0, '')"
            ]
          },
          "metadata": {},
          "execution_count": 9
        },
        {
          "output_type": "display_data",
          "data": {
            "text/plain": [
              "<Figure size 640x480 with 1 Axes>"
            ],
            "image/svg+xml": "<?xml version=\"1.0\" encoding=\"utf-8\" standalone=\"no\"?>\n<!DOCTYPE svg PUBLIC \"-//W3C//DTD SVG 1.1//EN\"\n  \"http://www.w3.org/Graphics/SVG/1.1/DTD/svg11.dtd\">\n<svg xmlns:xlink=\"http://www.w3.org/1999/xlink\" width=\"469.99525pt\" height=\"403.939762pt\" viewBox=\"0 0 469.99525 403.939762\" xmlns=\"http://www.w3.org/2000/svg\" version=\"1.1\">\n <metadata>\n  <rdf:RDF xmlns:dc=\"http://purl.org/dc/elements/1.1/\" xmlns:cc=\"http://creativecommons.org/ns#\" xmlns:rdf=\"http://www.w3.org/1999/02/22-rdf-syntax-ns#\">\n   <cc:Work>\n    <dc:type rdf:resource=\"http://purl.org/dc/dcmitype/StillImage\"/>\n    <dc:date>2024-04-19T09:46:10.019089</dc:date>\n    <dc:format>image/svg+xml</dc:format>\n    <dc:creator>\n     <cc:Agent>\n      <dc:title>Matplotlib v3.7.1, https://matplotlib.org/</dc:title>\n     </cc:Agent>\n    </dc:creator>\n   </cc:Work>\n  </rdf:RDF>\n </metadata>\n <defs>\n  <style type=\"text/css\">*{stroke-linejoin: round; stroke-linecap: butt}</style>\n </defs>\n <g id=\"figure_1\">\n  <g id=\"patch_1\">\n   <path d=\"M 0 403.939762 \nL 469.99525 403.939762 \nL 469.99525 0 \nL 0 0 \nz\n\" style=\"fill: #f0f0f0\"/>\n  </g>\n  <g id=\"axes_1\">\n   <g id=\"patch_2\">\n    <path d=\"M 61.89925 308.45445 \nL 462.79525 308.45445 \nL 462.79525 28.51845 \nL 61.89925 28.51845 \nz\n\" style=\"fill: #f0f0f0\"/>\n   </g>\n   <g id=\"matplotlib.axis_1\">\n    <g id=\"xtick_1\">\n     <g id=\"line2d_1\">\n      <path d=\"M 81.94405 308.45445 \nL 81.94405 28.51845 \n\" clip-path=\"url(#p77fd0b13ee)\" style=\"fill: none; stroke: #cbcbcb\"/>\n     </g>\n     <g id=\"line2d_2\"/>\n     <g id=\"text_1\">\n      <!-- bitcoin -->\n      <g transform=\"translate(85.807175 359.246012) rotate(-90) scale(0.14 -0.14)\">\n       <defs>\n        <path id=\"DejaVuSans-62\" d=\"M 3116 1747 \nQ 3116 2381 2855 2742 \nQ 2594 3103 2138 3103 \nQ 1681 3103 1420 2742 \nQ 1159 2381 1159 1747 \nQ 1159 1113 1420 752 \nQ 1681 391 2138 391 \nQ 2594 391 2855 752 \nQ 3116 1113 3116 1747 \nz\nM 1159 2969 \nQ 1341 3281 1617 3432 \nQ 1894 3584 2278 3584 \nQ 2916 3584 3314 3078 \nQ 3713 2572 3713 1747 \nQ 3713 922 3314 415 \nQ 2916 -91 2278 -91 \nQ 1894 -91 1617 61 \nQ 1341 213 1159 525 \nL 1159 0 \nL 581 0 \nL 581 4863 \nL 1159 4863 \nL 1159 2969 \nz\n\" transform=\"scale(0.015625)\"/>\n        <path id=\"DejaVuSans-69\" d=\"M 603 3500 \nL 1178 3500 \nL 1178 0 \nL 603 0 \nL 603 3500 \nz\nM 603 4863 \nL 1178 4863 \nL 1178 4134 \nL 603 4134 \nL 603 4863 \nz\n\" transform=\"scale(0.015625)\"/>\n        <path id=\"DejaVuSans-74\" d=\"M 1172 4494 \nL 1172 3500 \nL 2356 3500 \nL 2356 3053 \nL 1172 3053 \nL 1172 1153 \nQ 1172 725 1289 603 \nQ 1406 481 1766 481 \nL 2356 481 \nL 2356 0 \nL 1766 0 \nQ 1100 0 847 248 \nQ 594 497 594 1153 \nL 594 3053 \nL 172 3053 \nL 172 3500 \nL 594 3500 \nL 594 4494 \nL 1172 4494 \nz\n\" transform=\"scale(0.015625)\"/>\n        <path id=\"DejaVuSans-63\" d=\"M 3122 3366 \nL 3122 2828 \nQ 2878 2963 2633 3030 \nQ 2388 3097 2138 3097 \nQ 1578 3097 1268 2742 \nQ 959 2388 959 1747 \nQ 959 1106 1268 751 \nQ 1578 397 2138 397 \nQ 2388 397 2633 464 \nQ 2878 531 3122 666 \nL 3122 134 \nQ 2881 22 2623 -34 \nQ 2366 -91 2075 -91 \nQ 1284 -91 818 406 \nQ 353 903 353 1747 \nQ 353 2603 823 3093 \nQ 1294 3584 2113 3584 \nQ 2378 3584 2631 3529 \nQ 2884 3475 3122 3366 \nz\n\" transform=\"scale(0.015625)\"/>\n        <path id=\"DejaVuSans-6f\" d=\"M 1959 3097 \nQ 1497 3097 1228 2736 \nQ 959 2375 959 1747 \nQ 959 1119 1226 758 \nQ 1494 397 1959 397 \nQ 2419 397 2687 759 \nQ 2956 1122 2956 1747 \nQ 2956 2369 2687 2733 \nQ 2419 3097 1959 3097 \nz\nM 1959 3584 \nQ 2709 3584 3137 3096 \nQ 3566 2609 3566 1747 \nQ 3566 888 3137 398 \nQ 2709 -91 1959 -91 \nQ 1206 -91 779 398 \nQ 353 888 353 1747 \nQ 353 2609 779 3096 \nQ 1206 3584 1959 3584 \nz\n\" transform=\"scale(0.015625)\"/>\n        <path id=\"DejaVuSans-6e\" d=\"M 3513 2113 \nL 3513 0 \nL 2938 0 \nL 2938 2094 \nQ 2938 2591 2744 2837 \nQ 2550 3084 2163 3084 \nQ 1697 3084 1428 2787 \nQ 1159 2491 1159 1978 \nL 1159 0 \nL 581 0 \nL 581 3500 \nL 1159 3500 \nL 1159 2956 \nQ 1366 3272 1645 3428 \nQ 1925 3584 2291 3584 \nQ 2894 3584 3203 3211 \nQ 3513 2838 3513 2113 \nz\n\" transform=\"scale(0.015625)\"/>\n       </defs>\n       <use xlink:href=\"#DejaVuSans-62\"/>\n       <use xlink:href=\"#DejaVuSans-69\" x=\"63.476562\"/>\n       <use xlink:href=\"#DejaVuSans-74\" x=\"91.259766\"/>\n       <use xlink:href=\"#DejaVuSans-63\" x=\"130.46875\"/>\n       <use xlink:href=\"#DejaVuSans-6f\" x=\"185.449219\"/>\n       <use xlink:href=\"#DejaVuSans-69\" x=\"246.630859\"/>\n       <use xlink:href=\"#DejaVuSans-6e\" x=\"274.414062\"/>\n      </g>\n     </g>\n    </g>\n    <g id=\"xtick_2\">\n     <g id=\"line2d_3\">\n      <path d=\"M 122.03365 308.45445 \nL 122.03365 28.51845 \n\" clip-path=\"url(#p77fd0b13ee)\" style=\"fill: none; stroke: #cbcbcb\"/>\n     </g>\n     <g id=\"line2d_4\"/>\n     <g id=\"text_2\">\n      <!-- ripple -->\n      <g transform=\"translate(125.896775 351.878512) rotate(-90) scale(0.14 -0.14)\">\n       <defs>\n        <path id=\"DejaVuSans-72\" d=\"M 2631 2963 \nQ 2534 3019 2420 3045 \nQ 2306 3072 2169 3072 \nQ 1681 3072 1420 2755 \nQ 1159 2438 1159 1844 \nL 1159 0 \nL 581 0 \nL 581 3500 \nL 1159 3500 \nL 1159 2956 \nQ 1341 3275 1631 3429 \nQ 1922 3584 2338 3584 \nQ 2397 3584 2469 3576 \nQ 2541 3569 2628 3553 \nL 2631 2963 \nz\n\" transform=\"scale(0.015625)\"/>\n        <path id=\"DejaVuSans-70\" d=\"M 1159 525 \nL 1159 -1331 \nL 581 -1331 \nL 581 3500 \nL 1159 3500 \nL 1159 2969 \nQ 1341 3281 1617 3432 \nQ 1894 3584 2278 3584 \nQ 2916 3584 3314 3078 \nQ 3713 2572 3713 1747 \nQ 3713 922 3314 415 \nQ 2916 -91 2278 -91 \nQ 1894 -91 1617 61 \nQ 1341 213 1159 525 \nz\nM 3116 1747 \nQ 3116 2381 2855 2742 \nQ 2594 3103 2138 3103 \nQ 1681 3103 1420 2742 \nQ 1159 2381 1159 1747 \nQ 1159 1113 1420 752 \nQ 1681 391 2138 391 \nQ 2594 391 2855 752 \nQ 3116 1113 3116 1747 \nz\n\" transform=\"scale(0.015625)\"/>\n        <path id=\"DejaVuSans-6c\" d=\"M 603 4863 \nL 1178 4863 \nL 1178 0 \nL 603 0 \nL 603 4863 \nz\n\" transform=\"scale(0.015625)\"/>\n        <path id=\"DejaVuSans-65\" d=\"M 3597 1894 \nL 3597 1613 \nL 953 1613 \nQ 991 1019 1311 708 \nQ 1631 397 2203 397 \nQ 2534 397 2845 478 \nQ 3156 559 3463 722 \nL 3463 178 \nQ 3153 47 2828 -22 \nQ 2503 -91 2169 -91 \nQ 1331 -91 842 396 \nQ 353 884 353 1716 \nQ 353 2575 817 3079 \nQ 1281 3584 2069 3584 \nQ 2775 3584 3186 3129 \nQ 3597 2675 3597 1894 \nz\nM 3022 2063 \nQ 3016 2534 2758 2815 \nQ 2500 3097 2075 3097 \nQ 1594 3097 1305 2825 \nQ 1016 2553 972 2059 \nL 3022 2063 \nz\n\" transform=\"scale(0.015625)\"/>\n       </defs>\n       <use xlink:href=\"#DejaVuSans-72\"/>\n       <use xlink:href=\"#DejaVuSans-69\" x=\"41.113281\"/>\n       <use xlink:href=\"#DejaVuSans-70\" x=\"68.896484\"/>\n       <use xlink:href=\"#DejaVuSans-70\" x=\"132.373047\"/>\n       <use xlink:href=\"#DejaVuSans-6c\" x=\"195.849609\"/>\n       <use xlink:href=\"#DejaVuSans-65\" x=\"223.632812\"/>\n      </g>\n     </g>\n    </g>\n    <g id=\"xtick_3\">\n     <g id=\"line2d_5\">\n      <path d=\"M 162.12325 308.45445 \nL 162.12325 28.51845 \n\" clip-path=\"url(#p77fd0b13ee)\" style=\"fill: none; stroke: #cbcbcb\"/>\n     </g>\n     <g id=\"line2d_6\"/>\n     <g id=\"text_3\">\n      <!-- ethereum -->\n      <g transform=\"translate(165.986375 380.1082) rotate(-90) scale(0.14 -0.14)\">\n       <defs>\n        <path id=\"DejaVuSans-68\" d=\"M 3513 2113 \nL 3513 0 \nL 2938 0 \nL 2938 2094 \nQ 2938 2591 2744 2837 \nQ 2550 3084 2163 3084 \nQ 1697 3084 1428 2787 \nQ 1159 2491 1159 1978 \nL 1159 0 \nL 581 0 \nL 581 4863 \nL 1159 4863 \nL 1159 2956 \nQ 1366 3272 1645 3428 \nQ 1925 3584 2291 3584 \nQ 2894 3584 3203 3211 \nQ 3513 2838 3513 2113 \nz\n\" transform=\"scale(0.015625)\"/>\n        <path id=\"DejaVuSans-75\" d=\"M 544 1381 \nL 544 3500 \nL 1119 3500 \nL 1119 1403 \nQ 1119 906 1312 657 \nQ 1506 409 1894 409 \nQ 2359 409 2629 706 \nQ 2900 1003 2900 1516 \nL 2900 3500 \nL 3475 3500 \nL 3475 0 \nL 2900 0 \nL 2900 538 \nQ 2691 219 2414 64 \nQ 2138 -91 1772 -91 \nQ 1169 -91 856 284 \nQ 544 659 544 1381 \nz\nM 1991 3584 \nL 1991 3584 \nz\n\" transform=\"scale(0.015625)\"/>\n        <path id=\"DejaVuSans-6d\" d=\"M 3328 2828 \nQ 3544 3216 3844 3400 \nQ 4144 3584 4550 3584 \nQ 5097 3584 5394 3201 \nQ 5691 2819 5691 2113 \nL 5691 0 \nL 5113 0 \nL 5113 2094 \nQ 5113 2597 4934 2840 \nQ 4756 3084 4391 3084 \nQ 3944 3084 3684 2787 \nQ 3425 2491 3425 1978 \nL 3425 0 \nL 2847 0 \nL 2847 2094 \nQ 2847 2600 2669 2842 \nQ 2491 3084 2119 3084 \nQ 1678 3084 1418 2786 \nQ 1159 2488 1159 1978 \nL 1159 0 \nL 581 0 \nL 581 3500 \nL 1159 3500 \nL 1159 2956 \nQ 1356 3278 1631 3431 \nQ 1906 3584 2284 3584 \nQ 2666 3584 2933 3390 \nQ 3200 3197 3328 2828 \nz\n\" transform=\"scale(0.015625)\"/>\n       </defs>\n       <use xlink:href=\"#DejaVuSans-65\"/>\n       <use xlink:href=\"#DejaVuSans-74\" x=\"61.523438\"/>\n       <use xlink:href=\"#DejaVuSans-68\" x=\"100.732422\"/>\n       <use xlink:href=\"#DejaVuSans-65\" x=\"164.111328\"/>\n       <use xlink:href=\"#DejaVuSans-72\" x=\"225.634766\"/>\n       <use xlink:href=\"#DejaVuSans-65\" x=\"264.498047\"/>\n       <use xlink:href=\"#DejaVuSans-75\" x=\"326.021484\"/>\n       <use xlink:href=\"#DejaVuSans-6d\" x=\"389.400391\"/>\n      </g>\n     </g>\n    </g>\n    <g id=\"xtick_4\">\n     <g id=\"line2d_7\">\n      <path d=\"M 202.21285 308.45445 \nL 202.21285 28.51845 \n\" clip-path=\"url(#p77fd0b13ee)\" style=\"fill: none; stroke: #cbcbcb\"/>\n     </g>\n     <g id=\"line2d_8\"/>\n     <g id=\"text_4\">\n      <!-- bitcoin-cash -->\n      <g transform=\"translate(206.075975 396.739762) rotate(-90) scale(0.14 -0.14)\">\n       <defs>\n        <path id=\"DejaVuSans-2d\" d=\"M 313 2009 \nL 1997 2009 \nL 1997 1497 \nL 313 1497 \nL 313 2009 \nz\n\" transform=\"scale(0.015625)\"/>\n        <path id=\"DejaVuSans-61\" d=\"M 2194 1759 \nQ 1497 1759 1228 1600 \nQ 959 1441 959 1056 \nQ 959 750 1161 570 \nQ 1363 391 1709 391 \nQ 2188 391 2477 730 \nQ 2766 1069 2766 1631 \nL 2766 1759 \nL 2194 1759 \nz\nM 3341 1997 \nL 3341 0 \nL 2766 0 \nL 2766 531 \nQ 2569 213 2275 61 \nQ 1981 -91 1556 -91 \nQ 1019 -91 701 211 \nQ 384 513 384 1019 \nQ 384 1609 779 1909 \nQ 1175 2209 1959 2209 \nL 2766 2209 \nL 2766 2266 \nQ 2766 2663 2505 2880 \nQ 2244 3097 1772 3097 \nQ 1472 3097 1187 3025 \nQ 903 2953 641 2809 \nL 641 3341 \nQ 956 3463 1253 3523 \nQ 1550 3584 1831 3584 \nQ 2591 3584 2966 3190 \nQ 3341 2797 3341 1997 \nz\n\" transform=\"scale(0.015625)\"/>\n        <path id=\"DejaVuSans-73\" d=\"M 2834 3397 \nL 2834 2853 \nQ 2591 2978 2328 3040 \nQ 2066 3103 1784 3103 \nQ 1356 3103 1142 2972 \nQ 928 2841 928 2578 \nQ 928 2378 1081 2264 \nQ 1234 2150 1697 2047 \nL 1894 2003 \nQ 2506 1872 2764 1633 \nQ 3022 1394 3022 966 \nQ 3022 478 2636 193 \nQ 2250 -91 1575 -91 \nQ 1294 -91 989 -36 \nQ 684 19 347 128 \nL 347 722 \nQ 666 556 975 473 \nQ 1284 391 1588 391 \nQ 1994 391 2212 530 \nQ 2431 669 2431 922 \nQ 2431 1156 2273 1281 \nQ 2116 1406 1581 1522 \nL 1381 1569 \nQ 847 1681 609 1914 \nQ 372 2147 372 2553 \nQ 372 3047 722 3315 \nQ 1072 3584 1716 3584 \nQ 2034 3584 2315 3537 \nQ 2597 3491 2834 3397 \nz\n\" transform=\"scale(0.015625)\"/>\n       </defs>\n       <use xlink:href=\"#DejaVuSans-62\"/>\n       <use xlink:href=\"#DejaVuSans-69\" x=\"63.476562\"/>\n       <use xlink:href=\"#DejaVuSans-74\" x=\"91.259766\"/>\n       <use xlink:href=\"#DejaVuSans-63\" x=\"130.46875\"/>\n       <use xlink:href=\"#DejaVuSans-6f\" x=\"185.449219\"/>\n       <use xlink:href=\"#DejaVuSans-69\" x=\"246.630859\"/>\n       <use xlink:href=\"#DejaVuSans-6e\" x=\"274.414062\"/>\n       <use xlink:href=\"#DejaVuSans-2d\" x=\"337.792969\"/>\n       <use xlink:href=\"#DejaVuSans-63\" x=\"373.876953\"/>\n       <use xlink:href=\"#DejaVuSans-61\" x=\"428.857422\"/>\n       <use xlink:href=\"#DejaVuSans-73\" x=\"490.136719\"/>\n       <use xlink:href=\"#DejaVuSans-68\" x=\"542.236328\"/>\n      </g>\n     </g>\n    </g>\n    <g id=\"xtick_5\">\n     <g id=\"line2d_9\">\n      <path d=\"M 242.30245 308.45445 \nL 242.30245 28.51845 \n\" clip-path=\"url(#p77fd0b13ee)\" style=\"fill: none; stroke: #cbcbcb\"/>\n     </g>\n     <g id=\"line2d_10\"/>\n     <g id=\"text_5\">\n      <!-- cardano -->\n      <g transform=\"translate(246.165575 368.647887) rotate(-90) scale(0.14 -0.14)\">\n       <defs>\n        <path id=\"DejaVuSans-64\" d=\"M 2906 2969 \nL 2906 4863 \nL 3481 4863 \nL 3481 0 \nL 2906 0 \nL 2906 525 \nQ 2725 213 2448 61 \nQ 2172 -91 1784 -91 \nQ 1150 -91 751 415 \nQ 353 922 353 1747 \nQ 353 2572 751 3078 \nQ 1150 3584 1784 3584 \nQ 2172 3584 2448 3432 \nQ 2725 3281 2906 2969 \nz\nM 947 1747 \nQ 947 1113 1208 752 \nQ 1469 391 1925 391 \nQ 2381 391 2643 752 \nQ 2906 1113 2906 1747 \nQ 2906 2381 2643 2742 \nQ 2381 3103 1925 3103 \nQ 1469 3103 1208 2742 \nQ 947 2381 947 1747 \nz\n\" transform=\"scale(0.015625)\"/>\n       </defs>\n       <use xlink:href=\"#DejaVuSans-63\"/>\n       <use xlink:href=\"#DejaVuSans-61\" x=\"54.980469\"/>\n       <use xlink:href=\"#DejaVuSans-72\" x=\"116.259766\"/>\n       <use xlink:href=\"#DejaVuSans-64\" x=\"155.623047\"/>\n       <use xlink:href=\"#DejaVuSans-61\" x=\"219.099609\"/>\n       <use xlink:href=\"#DejaVuSans-6e\" x=\"280.378906\"/>\n       <use xlink:href=\"#DejaVuSans-6f\" x=\"343.757812\"/>\n      </g>\n     </g>\n    </g>\n    <g id=\"xtick_6\">\n     <g id=\"line2d_11\">\n      <path d=\"M 282.39205 308.45445 \nL 282.39205 28.51845 \n\" clip-path=\"url(#p77fd0b13ee)\" style=\"fill: none; stroke: #cbcbcb\"/>\n     </g>\n     <g id=\"line2d_12\"/>\n     <g id=\"text_6\">\n      <!-- litecoin -->\n      <g transform=\"translate(286.255175 362.86195) rotate(-90) scale(0.14 -0.14)\">\n       <use xlink:href=\"#DejaVuSans-6c\"/>\n       <use xlink:href=\"#DejaVuSans-69\" x=\"27.783203\"/>\n       <use xlink:href=\"#DejaVuSans-74\" x=\"55.566406\"/>\n       <use xlink:href=\"#DejaVuSans-65\" x=\"94.775391\"/>\n       <use xlink:href=\"#DejaVuSans-63\" x=\"156.298828\"/>\n       <use xlink:href=\"#DejaVuSans-6f\" x=\"211.279297\"/>\n       <use xlink:href=\"#DejaVuSans-69\" x=\"272.460938\"/>\n       <use xlink:href=\"#DejaVuSans-6e\" x=\"300.244141\"/>\n      </g>\n     </g>\n    </g>\n    <g id=\"xtick_7\">\n     <g id=\"line2d_13\">\n      <path d=\"M 322.48165 308.45445 \nL 322.48165 28.51845 \n\" clip-path=\"url(#p77fd0b13ee)\" style=\"fill: none; stroke: #cbcbcb\"/>\n     </g>\n     <g id=\"line2d_14\"/>\n     <g id=\"text_7\">\n      <!-- nem -->\n      <g transform=\"translate(326.344775 343.0782) rotate(-90) scale(0.14 -0.14)\">\n       <use xlink:href=\"#DejaVuSans-6e\"/>\n       <use xlink:href=\"#DejaVuSans-65\" x=\"63.378906\"/>\n       <use xlink:href=\"#DejaVuSans-6d\" x=\"124.902344\"/>\n      </g>\n     </g>\n    </g>\n    <g id=\"xtick_8\">\n     <g id=\"line2d_15\">\n      <path d=\"M 362.57125 308.45445 \nL 362.57125 28.51845 \n\" clip-path=\"url(#p77fd0b13ee)\" style=\"fill: none; stroke: #cbcbcb\"/>\n     </g>\n     <g id=\"line2d_16\"/>\n     <g id=\"text_8\">\n      <!-- stellar -->\n      <g transform=\"translate(366.434375 355.463825) rotate(-90) scale(0.14 -0.14)\">\n       <use xlink:href=\"#DejaVuSans-73\"/>\n       <use xlink:href=\"#DejaVuSans-74\" x=\"52.099609\"/>\n       <use xlink:href=\"#DejaVuSans-65\" x=\"91.308594\"/>\n       <use xlink:href=\"#DejaVuSans-6c\" x=\"152.832031\"/>\n       <use xlink:href=\"#DejaVuSans-6c\" x=\"180.615234\"/>\n       <use xlink:href=\"#DejaVuSans-61\" x=\"208.398438\"/>\n       <use xlink:href=\"#DejaVuSans-72\" x=\"269.677734\"/>\n      </g>\n     </g>\n    </g>\n    <g id=\"xtick_9\">\n     <g id=\"line2d_17\">\n      <path d=\"M 402.66085 308.45445 \nL 402.66085 28.51845 \n\" clip-path=\"url(#p77fd0b13ee)\" style=\"fill: none; stroke: #cbcbcb\"/>\n     </g>\n     <g id=\"line2d_18\"/>\n     <g id=\"text_9\">\n      <!-- tron -->\n      <g transform=\"translate(406.523975 340.32195) rotate(-90) scale(0.14 -0.14)\">\n       <use xlink:href=\"#DejaVuSans-74\"/>\n       <use xlink:href=\"#DejaVuSans-72\" x=\"39.208984\"/>\n       <use xlink:href=\"#DejaVuSans-6f\" x=\"78.072266\"/>\n       <use xlink:href=\"#DejaVuSans-6e\" x=\"139.253906\"/>\n      </g>\n     </g>\n    </g>\n    <g id=\"xtick_10\">\n     <g id=\"line2d_19\">\n      <path d=\"M 442.75045 308.45445 \nL 442.75045 28.51845 \n\" clip-path=\"url(#p77fd0b13ee)\" style=\"fill: none; stroke: #cbcbcb\"/>\n     </g>\n     <g id=\"line2d_20\"/>\n     <g id=\"text_10\">\n      <!-- iota -->\n      <g transform=\"translate(446.613575 338.477887) rotate(-90) scale(0.14 -0.14)\">\n       <use xlink:href=\"#DejaVuSans-69\"/>\n       <use xlink:href=\"#DejaVuSans-6f\" x=\"27.783203\"/>\n       <use xlink:href=\"#DejaVuSans-74\" x=\"88.964844\"/>\n       <use xlink:href=\"#DejaVuSans-61\" x=\"128.173828\"/>\n      </g>\n     </g>\n    </g>\n   </g>\n   <g id=\"matplotlib.axis_2\">\n    <g id=\"ytick_1\">\n     <g id=\"line2d_21\">\n      <path d=\"M 61.89925 304.233474 \nL 462.79525 304.233474 \n\" clip-path=\"url(#p77fd0b13ee)\" style=\"fill: none; stroke: #cbcbcb\"/>\n     </g>\n     <g id=\"line2d_22\"/>\n     <g id=\"text_11\">\n      <!-- $\\mathdefault{10^{10}}$ -->\n      <g transform=\"translate(27.45925 309.552381) scale(0.14 -0.14)\">\n       <defs>\n        <path id=\"DejaVuSans-31\" d=\"M 794 531 \nL 1825 531 \nL 1825 4091 \nL 703 3866 \nL 703 4441 \nL 1819 4666 \nL 2450 4666 \nL 2450 531 \nL 3481 531 \nL 3481 0 \nL 794 0 \nL 794 531 \nz\n\" transform=\"scale(0.015625)\"/>\n        <path id=\"DejaVuSans-30\" d=\"M 2034 4250 \nQ 1547 4250 1301 3770 \nQ 1056 3291 1056 2328 \nQ 1056 1369 1301 889 \nQ 1547 409 2034 409 \nQ 2525 409 2770 889 \nQ 3016 1369 3016 2328 \nQ 3016 3291 2770 3770 \nQ 2525 4250 2034 4250 \nz\nM 2034 4750 \nQ 2819 4750 3233 4129 \nQ 3647 3509 3647 2328 \nQ 3647 1150 3233 529 \nQ 2819 -91 2034 -91 \nQ 1250 -91 836 529 \nQ 422 1150 422 2328 \nQ 422 3509 836 4129 \nQ 1250 4750 2034 4750 \nz\n\" transform=\"scale(0.015625)\"/>\n       </defs>\n       <use xlink:href=\"#DejaVuSans-31\" transform=\"translate(0 0.765625)\"/>\n       <use xlink:href=\"#DejaVuSans-30\" transform=\"translate(63.623047 0.765625)\"/>\n       <use xlink:href=\"#DejaVuSans-31\" transform=\"translate(128.203125 39.046875) scale(0.7)\"/>\n       <use xlink:href=\"#DejaVuSans-30\" transform=\"translate(172.739258 39.046875) scale(0.7)\"/>\n      </g>\n     </g>\n    </g>\n    <g id=\"ytick_2\">\n     <g id=\"line2d_23\">\n      <path d=\"M 61.89925 123.44738 \nL 462.79525 123.44738 \n\" clip-path=\"url(#p77fd0b13ee)\" style=\"fill: none; stroke: #cbcbcb\"/>\n     </g>\n     <g id=\"line2d_24\"/>\n     <g id=\"text_12\">\n      <!-- $\\mathdefault{10^{11}}$ -->\n      <g transform=\"translate(27.45925 128.766286) scale(0.14 -0.14)\">\n       <use xlink:href=\"#DejaVuSans-31\" transform=\"translate(0 0.684375)\"/>\n       <use xlink:href=\"#DejaVuSans-30\" transform=\"translate(63.623047 0.684375)\"/>\n       <use xlink:href=\"#DejaVuSans-31\" transform=\"translate(128.203125 38.965625) scale(0.7)\"/>\n       <use xlink:href=\"#DejaVuSans-31\" transform=\"translate(172.739258 38.965625) scale(0.7)\"/>\n      </g>\n     </g>\n    </g>\n    <g id=\"ytick_3\">\n     <g id=\"line2d_25\"/>\n    </g>\n    <g id=\"ytick_4\">\n     <g id=\"line2d_26\"/>\n    </g>\n    <g id=\"ytick_5\">\n     <g id=\"line2d_27\"/>\n    </g>\n    <g id=\"ytick_6\">\n     <g id=\"line2d_28\"/>\n    </g>\n    <g id=\"ytick_7\">\n     <g id=\"line2d_29\"/>\n    </g>\n    <g id=\"ytick_8\">\n     <g id=\"line2d_30\"/>\n    </g>\n    <g id=\"ytick_9\">\n     <g id=\"line2d_31\"/>\n    </g>\n    <g id=\"ytick_10\">\n     <g id=\"line2d_32\"/>\n    </g>\n    <g id=\"ytick_11\">\n     <g id=\"line2d_33\"/>\n    </g>\n    <g id=\"ytick_12\">\n     <g id=\"line2d_34\"/>\n    </g>\n    <g id=\"text_13\">\n     <!-- USD -->\n     <g transform=\"translate(19.965375 186.434887) rotate(-90) scale(0.168 -0.168)\">\n      <defs>\n       <path id=\"DejaVuSans-55\" d=\"M 556 4666 \nL 1191 4666 \nL 1191 1831 \nQ 1191 1081 1462 751 \nQ 1734 422 2344 422 \nQ 2950 422 3222 751 \nQ 3494 1081 3494 1831 \nL 3494 4666 \nL 4128 4666 \nL 4128 1753 \nQ 4128 841 3676 375 \nQ 3225 -91 2344 -91 \nQ 1459 -91 1007 375 \nQ 556 841 556 1753 \nL 556 4666 \nz\n\" transform=\"scale(0.015625)\"/>\n       <path id=\"DejaVuSans-53\" d=\"M 3425 4513 \nL 3425 3897 \nQ 3066 4069 2747 4153 \nQ 2428 4238 2131 4238 \nQ 1616 4238 1336 4038 \nQ 1056 3838 1056 3469 \nQ 1056 3159 1242 3001 \nQ 1428 2844 1947 2747 \nL 2328 2669 \nQ 3034 2534 3370 2195 \nQ 3706 1856 3706 1288 \nQ 3706 609 3251 259 \nQ 2797 -91 1919 -91 \nQ 1588 -91 1214 -16 \nQ 841 59 441 206 \nL 441 856 \nQ 825 641 1194 531 \nQ 1563 422 1919 422 \nQ 2459 422 2753 634 \nQ 3047 847 3047 1241 \nQ 3047 1584 2836 1778 \nQ 2625 1972 2144 2069 \nL 1759 2144 \nQ 1053 2284 737 2584 \nQ 422 2884 422 3419 \nQ 422 4038 858 4394 \nQ 1294 4750 2059 4750 \nQ 2388 4750 2728 4690 \nQ 3069 4631 3425 4513 \nz\n\" transform=\"scale(0.015625)\"/>\n       <path id=\"DejaVuSans-44\" d=\"M 1259 4147 \nL 1259 519 \nL 2022 519 \nQ 2988 519 3436 956 \nQ 3884 1394 3884 2338 \nQ 3884 3275 3436 3711 \nQ 2988 4147 2022 4147 \nL 1259 4147 \nz\nM 628 4666 \nL 1925 4666 \nQ 3281 4666 3915 4102 \nQ 4550 3538 4550 2338 \nQ 4550 1131 3912 565 \nQ 3275 0 1925 0 \nL 628 0 \nL 628 4666 \nz\n\" transform=\"scale(0.015625)\"/>\n      </defs>\n      <use xlink:href=\"#DejaVuSans-55\"/>\n      <use xlink:href=\"#DejaVuSans-53\" x=\"73.193359\"/>\n      <use xlink:href=\"#DejaVuSans-44\" x=\"136.669922\"/>\n     </g>\n    </g>\n   </g>\n   <g id=\"patch_3\">\n    <path d=\"M 71.92165 182898.188627 \nL 91.96645 182898.188627 \nL 91.96645 41.242814 \nL 71.92165 41.242814 \nz\n\" clip-path=\"url(#p77fd0b13ee)\" style=\"fill: #ffa500\"/>\n   </g>\n   <g id=\"patch_4\">\n    <path d=\"M 112.01125 182898.188627 \nL 132.05605 182898.188627 \nL 132.05605 109.652616 \nL 112.01125 109.652616 \nz\n\" clip-path=\"url(#p77fd0b13ee)\" style=\"fill: #008000\"/>\n   </g>\n   <g id=\"patch_5\">\n    <path d=\"M 152.10085 182898.188627 \nL 172.14565 182898.188627 \nL 172.14565 123.356749 \nL 152.10085 123.356749 \nz\n\" clip-path=\"url(#p77fd0b13ee)\" style=\"fill: #ffa500\"/>\n   </g>\n   <g id=\"patch_6\">\n    <path d=\"M 192.19045 182898.188627 \nL 212.23525 182898.188627 \nL 212.23525 187.153098 \nL 192.19045 187.153098 \nz\n\" clip-path=\"url(#p77fd0b13ee)\" style=\"fill: #00ffff\"/>\n   </g>\n   <g id=\"patch_7\">\n    <path d=\"M 232.28005 182898.188627 \nL 252.32485 182898.188627 \nL 252.32485 229.464173 \nL 232.28005 229.464173 \nz\n\" clip-path=\"url(#p77fd0b13ee)\" style=\"fill: #00ffff\"/>\n   </g>\n   <g id=\"patch_8\">\n    <path d=\"M 272.36965 182898.188627 \nL 292.41445 182898.188627 \nL 292.41445 264.563964 \nL 272.36965 264.563964 \nz\n\" clip-path=\"url(#p77fd0b13ee)\" style=\"fill: #0000ff\"/>\n   </g>\n   <g id=\"patch_9\">\n    <path d=\"M 312.45925 182898.188627 \nL 332.50405 182898.188627 \nL 332.50405 273.381628 \nL 312.45925 273.381628 \nz\n\" clip-path=\"url(#p77fd0b13ee)\" style=\"fill: #c0c0c0\"/>\n   </g>\n   <g id=\"patch_10\">\n    <path d=\"M 352.54885 182898.188627 \nL 372.59365 182898.188627 \nL 372.59365 285.872377 \nL 352.54885 285.872377 \nz\n\" clip-path=\"url(#p77fd0b13ee)\" style=\"fill: #ffa500\"/>\n   </g>\n   <g id=\"patch_11\">\n    <path d=\"M 392.63845 182898.188627 \nL 412.68325 182898.188627 \nL 412.68325 291.627478 \nL 392.63845 291.627478 \nz\n\" clip-path=\"url(#p77fd0b13ee)\" style=\"fill: #ff0000\"/>\n   </g>\n   <g id=\"patch_12\">\n    <path d=\"M 432.72805 182898.188627 \nL 452.77285 182898.188627 \nL 452.77285 295.730086 \nL 432.72805 295.730086 \nz\n\" clip-path=\"url(#p77fd0b13ee)\" style=\"fill: #008000\"/>\n   </g>\n   <g id=\"patch_13\">\n    <path d=\"M 61.89925 308.45445 \nL 61.89925 28.51845 \n\" style=\"fill: none; stroke: #f0f0f0; stroke-width: 3; stroke-linejoin: miter; stroke-linecap: square\"/>\n   </g>\n   <g id=\"patch_14\">\n    <path d=\"M 462.79525 308.45445 \nL 462.79525 28.51845 \n\" style=\"fill: none; stroke: #f0f0f0; stroke-width: 3; stroke-linejoin: miter; stroke-linecap: square\"/>\n   </g>\n   <g id=\"patch_15\">\n    <path d=\"M 61.89925 308.45445 \nL 462.79525 308.45445 \n\" style=\"fill: none; stroke: #f0f0f0; stroke-width: 3; stroke-linejoin: miter; stroke-linecap: square\"/>\n   </g>\n   <g id=\"patch_16\">\n    <path d=\"M 61.89925 28.51845 \nL 462.79525 28.51845 \n\" style=\"fill: none; stroke: #f0f0f0; stroke-width: 3; stroke-linejoin: miter; stroke-linecap: square\"/>\n   </g>\n   <g id=\"text_14\">\n    <!-- Top 10 market capitalization -->\n    <g transform=\"translate(119.710525 22.51845) scale(0.2016 -0.2016)\">\n     <defs>\n      <path id=\"DejaVuSans-54\" d=\"M -19 4666 \nL 3928 4666 \nL 3928 4134 \nL 2272 4134 \nL 2272 0 \nL 1638 0 \nL 1638 4134 \nL -19 4134 \nL -19 4666 \nz\n\" transform=\"scale(0.015625)\"/>\n      <path id=\"DejaVuSans-20\" transform=\"scale(0.015625)\"/>\n      <path id=\"DejaVuSans-6b\" d=\"M 581 4863 \nL 1159 4863 \nL 1159 1991 \nL 2875 3500 \nL 3609 3500 \nL 1753 1863 \nL 3688 0 \nL 2938 0 \nL 1159 1709 \nL 1159 0 \nL 581 0 \nL 581 4863 \nz\n\" transform=\"scale(0.015625)\"/>\n      <path id=\"DejaVuSans-7a\" d=\"M 353 3500 \nL 3084 3500 \nL 3084 2975 \nL 922 459 \nL 3084 459 \nL 3084 0 \nL 275 0 \nL 275 525 \nL 2438 3041 \nL 353 3041 \nL 353 3500 \nz\n\" transform=\"scale(0.015625)\"/>\n     </defs>\n     <use xlink:href=\"#DejaVuSans-54\"/>\n     <use xlink:href=\"#DejaVuSans-6f\" x=\"44.083984\"/>\n     <use xlink:href=\"#DejaVuSans-70\" x=\"105.265625\"/>\n     <use xlink:href=\"#DejaVuSans-20\" x=\"168.742188\"/>\n     <use xlink:href=\"#DejaVuSans-31\" x=\"200.529297\"/>\n     <use xlink:href=\"#DejaVuSans-30\" x=\"264.152344\"/>\n     <use xlink:href=\"#DejaVuSans-20\" x=\"327.775391\"/>\n     <use xlink:href=\"#DejaVuSans-6d\" x=\"359.5625\"/>\n     <use xlink:href=\"#DejaVuSans-61\" x=\"456.974609\"/>\n     <use xlink:href=\"#DejaVuSans-72\" x=\"518.253906\"/>\n     <use xlink:href=\"#DejaVuSans-6b\" x=\"559.367188\"/>\n     <use xlink:href=\"#DejaVuSans-65\" x=\"613.652344\"/>\n     <use xlink:href=\"#DejaVuSans-74\" x=\"675.175781\"/>\n     <use xlink:href=\"#DejaVuSans-20\" x=\"714.384766\"/>\n     <use xlink:href=\"#DejaVuSans-63\" x=\"746.171875\"/>\n     <use xlink:href=\"#DejaVuSans-61\" x=\"801.152344\"/>\n     <use xlink:href=\"#DejaVuSans-70\" x=\"862.431641\"/>\n     <use xlink:href=\"#DejaVuSans-69\" x=\"925.908203\"/>\n     <use xlink:href=\"#DejaVuSans-74\" x=\"953.691406\"/>\n     <use xlink:href=\"#DejaVuSans-61\" x=\"992.900391\"/>\n     <use xlink:href=\"#DejaVuSans-6c\" x=\"1054.179688\"/>\n     <use xlink:href=\"#DejaVuSans-69\" x=\"1081.962891\"/>\n     <use xlink:href=\"#DejaVuSans-7a\" x=\"1109.746094\"/>\n     <use xlink:href=\"#DejaVuSans-61\" x=\"1162.236328\"/>\n     <use xlink:href=\"#DejaVuSans-74\" x=\"1223.515625\"/>\n     <use xlink:href=\"#DejaVuSans-69\" x=\"1262.724609\"/>\n     <use xlink:href=\"#DejaVuSans-6f\" x=\"1290.507812\"/>\n     <use xlink:href=\"#DejaVuSans-6e\" x=\"1351.689453\"/>\n    </g>\n   </g>\n   <g id=\"legend_1\">\n    <g id=\"patch_17\">\n     <path d=\"M 294.303063 60.6572 \nL 452.99525 60.6572 \nQ 455.79525 60.6572 455.79525 57.8572 \nL 455.79525 38.31845 \nQ 455.79525 35.51845 452.99525 35.51845 \nL 294.303063 35.51845 \nQ 291.503062 35.51845 291.503062 38.31845 \nL 291.503062 57.8572 \nQ 291.503062 60.6572 294.303063 60.6572 \nz\n\" style=\"fill: #f0f0f0; opacity: 0.8; stroke: #cccccc; stroke-width: 0.5; stroke-linejoin: miter\"/>\n    </g>\n    <g id=\"patch_18\">\n     <path d=\"M 297.103063 51.756262 \nL 325.103063 51.756262 \nL 325.103063 41.956262 \nL 297.103063 41.956262 \nz\n\" style=\"fill: #ffa500\"/>\n    </g>\n    <g id=\"text_15\">\n     <!-- market_cap_usd -->\n     <g transform=\"translate(336.303063 51.756262) scale(0.14 -0.14)\">\n      <defs>\n       <path id=\"DejaVuSans-5f\" d=\"M 3263 -1063 \nL 3263 -1509 \nL -63 -1509 \nL -63 -1063 \nL 3263 -1063 \nz\n\" transform=\"scale(0.015625)\"/>\n      </defs>\n      <use xlink:href=\"#DejaVuSans-6d\"/>\n      <use xlink:href=\"#DejaVuSans-61\" x=\"97.412109\"/>\n      <use xlink:href=\"#DejaVuSans-72\" x=\"158.691406\"/>\n      <use xlink:href=\"#DejaVuSans-6b\" x=\"199.804688\"/>\n      <use xlink:href=\"#DejaVuSans-65\" x=\"254.089844\"/>\n      <use xlink:href=\"#DejaVuSans-74\" x=\"315.613281\"/>\n      <use xlink:href=\"#DejaVuSans-5f\" x=\"354.822266\"/>\n      <use xlink:href=\"#DejaVuSans-63\" x=\"404.822266\"/>\n      <use xlink:href=\"#DejaVuSans-61\" x=\"459.802734\"/>\n      <use xlink:href=\"#DejaVuSans-70\" x=\"521.082031\"/>\n      <use xlink:href=\"#DejaVuSans-5f\" x=\"584.558594\"/>\n      <use xlink:href=\"#DejaVuSans-75\" x=\"634.558594\"/>\n      <use xlink:href=\"#DejaVuSans-73\" x=\"697.9375\"/>\n      <use xlink:href=\"#DejaVuSans-64\" x=\"750.037109\"/>\n     </g>\n    </g>\n   </g>\n  </g>\n </g>\n <defs>\n  <clipPath id=\"p77fd0b13ee\">\n   <rect x=\"61.89925\" y=\"28.51845\" width=\"400.896\" height=\"279.936\"/>\n  </clipPath>\n </defs>\n</svg>\n"
          },
          "metadata": {}
        }
      ],
      "source": [
        "# Colors for the bar plot\n",
        "COLORS = ['orange', 'green', 'orange', 'cyan', 'cyan', 'blue', 'silver', 'orange', 'red', 'green']\n",
        "\n",
        "# Plotting market_cap_usd as before but adding the colors and scaling the y-axis\n",
        "ax = cap10.plot.bar(x = 'id', y = 'market_cap_usd', logy = True, color = COLORS, title = TOP_CAP_TITLE)\n",
        "\n",
        "# Annotating the y axis with 'USD'\n",
        "# ... YOUR CODE FOR TASK 5 ...\n",
        "ax.set_ylabel('USD')\n",
        "# Final touch! Removing the xlabel as it is not very informative\n",
        "# ... YOUR CODE FOR TASK 5 ...\n",
        "ax.set_xlabel('')"
      ],
      "cell_type": "code",
      "execution_count": null
    },
    {
      "metadata": {
        "trusted": true,
        "tags": [
          "sample_code"
        ],
        "dc": {
          "key": "39"
        },
        "colab": {
          "base_uri": "https://localhost:8080/",
          "height": 237
        },
        "id": "0wDY7nYRc-r8",
        "outputId": "630e6796-3d26-4e02-ed75-3038be6f999e"
      },
      "outputs": [
        {
          "output_type": "execute_result",
          "data": {
            "text/plain": [
              "          percent_change_24h  percent_change_7d\n",
              "id                                             \n",
              "ardor                 -20.83               2.76\n",
              "tenx                  -15.81               6.55\n",
              "tron                  -12.63             434.36\n",
              "digixdao              -12.19              15.65\n",
              "status                -11.95             201.88"
            ],
            "text/html": [
              "\n",
              "  <div id=\"df-c4b4194e-d18a-4cde-bd2d-017d698bfc9c\" class=\"colab-df-container\">\n",
              "    <div>\n",
              "<style scoped>\n",
              "    .dataframe tbody tr th:only-of-type {\n",
              "        vertical-align: middle;\n",
              "    }\n",
              "\n",
              "    .dataframe tbody tr th {\n",
              "        vertical-align: top;\n",
              "    }\n",
              "\n",
              "    .dataframe thead th {\n",
              "        text-align: right;\n",
              "    }\n",
              "</style>\n",
              "<table border=\"1\" class=\"dataframe\">\n",
              "  <thead>\n",
              "    <tr style=\"text-align: right;\">\n",
              "      <th></th>\n",
              "      <th>percent_change_24h</th>\n",
              "      <th>percent_change_7d</th>\n",
              "    </tr>\n",
              "    <tr>\n",
              "      <th>id</th>\n",
              "      <th></th>\n",
              "      <th></th>\n",
              "    </tr>\n",
              "  </thead>\n",
              "  <tbody>\n",
              "    <tr>\n",
              "      <th>ardor</th>\n",
              "      <td>-20.83</td>\n",
              "      <td>2.76</td>\n",
              "    </tr>\n",
              "    <tr>\n",
              "      <th>tenx</th>\n",
              "      <td>-15.81</td>\n",
              "      <td>6.55</td>\n",
              "    </tr>\n",
              "    <tr>\n",
              "      <th>tron</th>\n",
              "      <td>-12.63</td>\n",
              "      <td>434.36</td>\n",
              "    </tr>\n",
              "    <tr>\n",
              "      <th>digixdao</th>\n",
              "      <td>-12.19</td>\n",
              "      <td>15.65</td>\n",
              "    </tr>\n",
              "    <tr>\n",
              "      <th>status</th>\n",
              "      <td>-11.95</td>\n",
              "      <td>201.88</td>\n",
              "    </tr>\n",
              "  </tbody>\n",
              "</table>\n",
              "</div>\n",
              "    <div class=\"colab-df-buttons\">\n",
              "\n",
              "  <div class=\"colab-df-container\">\n",
              "    <button class=\"colab-df-convert\" onclick=\"convertToInteractive('df-c4b4194e-d18a-4cde-bd2d-017d698bfc9c')\"\n",
              "            title=\"Convert this dataframe to an interactive table.\"\n",
              "            style=\"display:none;\">\n",
              "\n",
              "  <svg xmlns=\"http://www.w3.org/2000/svg\" height=\"24px\" viewBox=\"0 -960 960 960\">\n",
              "    <path d=\"M120-120v-720h720v720H120Zm60-500h600v-160H180v160Zm220 220h160v-160H400v160Zm0 220h160v-160H400v160ZM180-400h160v-160H180v160Zm440 0h160v-160H620v160ZM180-180h160v-160H180v160Zm440 0h160v-160H620v160Z\"/>\n",
              "  </svg>\n",
              "    </button>\n",
              "\n",
              "  <style>\n",
              "    .colab-df-container {\n",
              "      display:flex;\n",
              "      gap: 12px;\n",
              "    }\n",
              "\n",
              "    .colab-df-convert {\n",
              "      background-color: #E8F0FE;\n",
              "      border: none;\n",
              "      border-radius: 50%;\n",
              "      cursor: pointer;\n",
              "      display: none;\n",
              "      fill: #1967D2;\n",
              "      height: 32px;\n",
              "      padding: 0 0 0 0;\n",
              "      width: 32px;\n",
              "    }\n",
              "\n",
              "    .colab-df-convert:hover {\n",
              "      background-color: #E2EBFA;\n",
              "      box-shadow: 0px 1px 2px rgba(60, 64, 67, 0.3), 0px 1px 3px 1px rgba(60, 64, 67, 0.15);\n",
              "      fill: #174EA6;\n",
              "    }\n",
              "\n",
              "    .colab-df-buttons div {\n",
              "      margin-bottom: 4px;\n",
              "    }\n",
              "\n",
              "    [theme=dark] .colab-df-convert {\n",
              "      background-color: #3B4455;\n",
              "      fill: #D2E3FC;\n",
              "    }\n",
              "\n",
              "    [theme=dark] .colab-df-convert:hover {\n",
              "      background-color: #434B5C;\n",
              "      box-shadow: 0px 1px 3px 1px rgba(0, 0, 0, 0.15);\n",
              "      filter: drop-shadow(0px 1px 2px rgba(0, 0, 0, 0.3));\n",
              "      fill: #FFFFFF;\n",
              "    }\n",
              "  </style>\n",
              "\n",
              "    <script>\n",
              "      const buttonEl =\n",
              "        document.querySelector('#df-c4b4194e-d18a-4cde-bd2d-017d698bfc9c button.colab-df-convert');\n",
              "      buttonEl.style.display =\n",
              "        google.colab.kernel.accessAllowed ? 'block' : 'none';\n",
              "\n",
              "      async function convertToInteractive(key) {\n",
              "        const element = document.querySelector('#df-c4b4194e-d18a-4cde-bd2d-017d698bfc9c');\n",
              "        const dataTable =\n",
              "          await google.colab.kernel.invokeFunction('convertToInteractive',\n",
              "                                                    [key], {});\n",
              "        if (!dataTable) return;\n",
              "\n",
              "        const docLinkHtml = 'Like what you see? Visit the ' +\n",
              "          '<a target=\"_blank\" href=https://colab.research.google.com/notebooks/data_table.ipynb>data table notebook</a>'\n",
              "          + ' to learn more about interactive tables.';\n",
              "        element.innerHTML = '';\n",
              "        dataTable['output_type'] = 'display_data';\n",
              "        await google.colab.output.renderOutput(dataTable, element);\n",
              "        const docLink = document.createElement('div');\n",
              "        docLink.innerHTML = docLinkHtml;\n",
              "        element.appendChild(docLink);\n",
              "      }\n",
              "    </script>\n",
              "  </div>\n",
              "\n",
              "\n",
              "<div id=\"df-4ca90a00-7d36-423d-9973-8e5bedab9af7\">\n",
              "  <button class=\"colab-df-quickchart\" onclick=\"quickchart('df-4ca90a00-7d36-423d-9973-8e5bedab9af7')\"\n",
              "            title=\"Suggest charts\"\n",
              "            style=\"display:none;\">\n",
              "\n",
              "<svg xmlns=\"http://www.w3.org/2000/svg\" height=\"24px\"viewBox=\"0 0 24 24\"\n",
              "     width=\"24px\">\n",
              "    <g>\n",
              "        <path d=\"M19 3H5c-1.1 0-2 .9-2 2v14c0 1.1.9 2 2 2h14c1.1 0 2-.9 2-2V5c0-1.1-.9-2-2-2zM9 17H7v-7h2v7zm4 0h-2V7h2v10zm4 0h-2v-4h2v4z\"/>\n",
              "    </g>\n",
              "</svg>\n",
              "  </button>\n",
              "\n",
              "<style>\n",
              "  .colab-df-quickchart {\n",
              "      --bg-color: #E8F0FE;\n",
              "      --fill-color: #1967D2;\n",
              "      --hover-bg-color: #E2EBFA;\n",
              "      --hover-fill-color: #174EA6;\n",
              "      --disabled-fill-color: #AAA;\n",
              "      --disabled-bg-color: #DDD;\n",
              "  }\n",
              "\n",
              "  [theme=dark] .colab-df-quickchart {\n",
              "      --bg-color: #3B4455;\n",
              "      --fill-color: #D2E3FC;\n",
              "      --hover-bg-color: #434B5C;\n",
              "      --hover-fill-color: #FFFFFF;\n",
              "      --disabled-bg-color: #3B4455;\n",
              "      --disabled-fill-color: #666;\n",
              "  }\n",
              "\n",
              "  .colab-df-quickchart {\n",
              "    background-color: var(--bg-color);\n",
              "    border: none;\n",
              "    border-radius: 50%;\n",
              "    cursor: pointer;\n",
              "    display: none;\n",
              "    fill: var(--fill-color);\n",
              "    height: 32px;\n",
              "    padding: 0;\n",
              "    width: 32px;\n",
              "  }\n",
              "\n",
              "  .colab-df-quickchart:hover {\n",
              "    background-color: var(--hover-bg-color);\n",
              "    box-shadow: 0 1px 2px rgba(60, 64, 67, 0.3), 0 1px 3px 1px rgba(60, 64, 67, 0.15);\n",
              "    fill: var(--button-hover-fill-color);\n",
              "  }\n",
              "\n",
              "  .colab-df-quickchart-complete:disabled,\n",
              "  .colab-df-quickchart-complete:disabled:hover {\n",
              "    background-color: var(--disabled-bg-color);\n",
              "    fill: var(--disabled-fill-color);\n",
              "    box-shadow: none;\n",
              "  }\n",
              "\n",
              "  .colab-df-spinner {\n",
              "    border: 2px solid var(--fill-color);\n",
              "    border-color: transparent;\n",
              "    border-bottom-color: var(--fill-color);\n",
              "    animation:\n",
              "      spin 1s steps(1) infinite;\n",
              "  }\n",
              "\n",
              "  @keyframes spin {\n",
              "    0% {\n",
              "      border-color: transparent;\n",
              "      border-bottom-color: var(--fill-color);\n",
              "      border-left-color: var(--fill-color);\n",
              "    }\n",
              "    20% {\n",
              "      border-color: transparent;\n",
              "      border-left-color: var(--fill-color);\n",
              "      border-top-color: var(--fill-color);\n",
              "    }\n",
              "    30% {\n",
              "      border-color: transparent;\n",
              "      border-left-color: var(--fill-color);\n",
              "      border-top-color: var(--fill-color);\n",
              "      border-right-color: var(--fill-color);\n",
              "    }\n",
              "    40% {\n",
              "      border-color: transparent;\n",
              "      border-right-color: var(--fill-color);\n",
              "      border-top-color: var(--fill-color);\n",
              "    }\n",
              "    60% {\n",
              "      border-color: transparent;\n",
              "      border-right-color: var(--fill-color);\n",
              "    }\n",
              "    80% {\n",
              "      border-color: transparent;\n",
              "      border-right-color: var(--fill-color);\n",
              "      border-bottom-color: var(--fill-color);\n",
              "    }\n",
              "    90% {\n",
              "      border-color: transparent;\n",
              "      border-bottom-color: var(--fill-color);\n",
              "    }\n",
              "  }\n",
              "</style>\n",
              "\n",
              "  <script>\n",
              "    async function quickchart(key) {\n",
              "      const quickchartButtonEl =\n",
              "        document.querySelector('#' + key + ' button');\n",
              "      quickchartButtonEl.disabled = true;  // To prevent multiple clicks.\n",
              "      quickchartButtonEl.classList.add('colab-df-spinner');\n",
              "      try {\n",
              "        const charts = await google.colab.kernel.invokeFunction(\n",
              "            'suggestCharts', [key], {});\n",
              "      } catch (error) {\n",
              "        console.error('Error during call to suggestCharts:', error);\n",
              "      }\n",
              "      quickchartButtonEl.classList.remove('colab-df-spinner');\n",
              "      quickchartButtonEl.classList.add('colab-df-quickchart-complete');\n",
              "    }\n",
              "    (() => {\n",
              "      let quickchartButtonEl =\n",
              "        document.querySelector('#df-4ca90a00-7d36-423d-9973-8e5bedab9af7 button');\n",
              "      quickchartButtonEl.style.display =\n",
              "        google.colab.kernel.accessAllowed ? 'block' : 'none';\n",
              "    })();\n",
              "  </script>\n",
              "</div>\n",
              "\n",
              "    </div>\n",
              "  </div>\n"
            ],
            "application/vnd.google.colaboratory.intrinsic+json": {
              "type": "dataframe",
              "variable_name": "volatility",
              "summary": "{\n  \"name\": \"volatility\",\n  \"rows\": 100,\n  \"fields\": [\n    {\n      \"column\": \"id\",\n      \"properties\": {\n        \"dtype\": \"string\",\n        \"num_unique_values\": 100,\n        \"samples\": [\n          \"time-new-bank\",\n          \"bitconnect\",\n          \"power-ledger\"\n        ],\n        \"semantic_type\": \"\",\n        \"description\": \"\"\n      }\n    },\n    {\n      \"column\": \"percent_change_24h\",\n      \"properties\": {\n        \"dtype\": \"number\",\n        \"std\": 34.088135578707195,\n        \"min\": -20.83,\n        \"max\": 210.41,\n        \"num_unique_values\": 100,\n        \"samples\": [\n          19.68,\n          1.24,\n          6.53\n        ],\n        \"semantic_type\": \"\",\n        \"description\": \"\"\n      }\n    },\n    {\n      \"column\": \"percent_change_7d\",\n      \"properties\": {\n        \"dtype\": \"number\",\n        \"std\": 228.17529023117473,\n        \"min\": -16.09,\n        \"max\": 2099.78,\n        \"num_unique_values\": 98,\n        \"samples\": [\n          77.06,\n          11.93,\n          218.71\n        ],\n        \"semantic_type\": \"\",\n        \"description\": \"\"\n      }\n    }\n  ]\n}"
            }
          },
          "metadata": {},
          "execution_count": 10
        }
      ],
      "source": [
        "# Selecting the id, percent_change_24h and percent_change_7d columns\n",
        "volatility = dec6[['id', 'percent_change_24h', 'percent_change_7d']]\n",
        "\n",
        "# Setting the index to 'id' and dropping all NaN rows\n",
        "volatility = volatility.set_index('id').dropna()\n",
        "\n",
        "# Sorting the DataFrame by percent_change_24h in ascending order\n",
        "volatility = volatility.sort_values('percent_change_24h', ascending = True)\n",
        "\n",
        "# Checking the first few rows\n",
        "# ... YOUR CODE FOR TASK 6 ...\n",
        "volatility.head()"
      ],
      "cell_type": "code",
      "execution_count": null
    },
    {
      "metadata": {
        "trusted": true,
        "tags": [
          "sample_code"
        ],
        "dc": {
          "key": "46"
        },
        "colab": {
          "base_uri": "https://localhost:8080/",
          "height": 726
        },
        "id": "0E1D_2OIc-r8",
        "outputId": "41c60e6d-f78d-46bb-fd20-e342b79e0f02"
      },
      "outputs": [
        {
          "output_type": "display_data",
          "data": {
            "text/plain": [
              "<Figure size 1000x600 with 2 Axes>"
            ],
            "image/svg+xml": "<?xml version=\"1.0\" encoding=\"utf-8\" standalone=\"no\"?>\n<!DOCTYPE svg PUBLIC \"-//W3C//DTD SVG 1.1//EN\"\n  \"http://www.w3.org/Graphics/SVG/1.1/DTD/svg11.dtd\">\n<svg xmlns:xlink=\"http://www.w3.org/1999/xlink\" width=\"707.462688pt\" height=\"527.990813pt\" viewBox=\"0 0 707.462688 527.990813\" xmlns=\"http://www.w3.org/2000/svg\" version=\"1.1\">\n <metadata>\n  <rdf:RDF xmlns:dc=\"http://purl.org/dc/elements/1.1/\" xmlns:cc=\"http://creativecommons.org/ns#\" xmlns:rdf=\"http://www.w3.org/1999/02/22-rdf-syntax-ns#\">\n   <cc:Work>\n    <dc:type rdf:resource=\"http://purl.org/dc/dcmitype/StillImage\"/>\n    <dc:date>2024-04-19T09:46:15.967298</dc:date>\n    <dc:format>image/svg+xml</dc:format>\n    <dc:creator>\n     <cc:Agent>\n      <dc:title>Matplotlib v3.7.1, https://matplotlib.org/</dc:title>\n     </cc:Agent>\n    </dc:creator>\n   </cc:Work>\n  </rdf:RDF>\n </metadata>\n <defs>\n  <style type=\"text/css\">*{stroke-linejoin: round; stroke-linecap: butt}</style>\n </defs>\n <g id=\"figure_1\">\n  <g id=\"patch_1\">\n   <path d=\"M 0 527.990813 \nL 707.462688 527.990813 \nL 707.462688 0 \nL 0 0 \nz\n\" style=\"fill: #f0f0f0\"/>\n  </g>\n  <g id=\"axes_1\">\n   <g id=\"patch_2\">\n    <path d=\"M 73.862688 400.32 \nL 358.58996 400.32 \nL 358.58996 50.4 \nL 73.862688 50.4 \nz\n\" style=\"fill: #f0f0f0\"/>\n   </g>\n   <g id=\"matplotlib.axis_1\">\n    <g id=\"xtick_1\">\n     <g id=\"line2d_1\">\n      <path d=\"M 88.099051 400.32 \nL 88.099051 50.4 \n\" clip-path=\"url(#p3ebed5fdfc)\" style=\"fill: none; stroke: #cbcbcb\"/>\n     </g>\n     <g id=\"line2d_2\"/>\n     <g id=\"text_1\">\n      <!-- ardor -->\n      <g transform=\"translate(91.962176 441.119063) rotate(-90) scale(0.14 -0.14)\">\n       <defs>\n        <path id=\"DejaVuSans-61\" d=\"M 2194 1759 \nQ 1497 1759 1228 1600 \nQ 959 1441 959 1056 \nQ 959 750 1161 570 \nQ 1363 391 1709 391 \nQ 2188 391 2477 730 \nQ 2766 1069 2766 1631 \nL 2766 1759 \nL 2194 1759 \nz\nM 3341 1997 \nL 3341 0 \nL 2766 0 \nL 2766 531 \nQ 2569 213 2275 61 \nQ 1981 -91 1556 -91 \nQ 1019 -91 701 211 \nQ 384 513 384 1019 \nQ 384 1609 779 1909 \nQ 1175 2209 1959 2209 \nL 2766 2209 \nL 2766 2266 \nQ 2766 2663 2505 2880 \nQ 2244 3097 1772 3097 \nQ 1472 3097 1187 3025 \nQ 903 2953 641 2809 \nL 641 3341 \nQ 956 3463 1253 3523 \nQ 1550 3584 1831 3584 \nQ 2591 3584 2966 3190 \nQ 3341 2797 3341 1997 \nz\n\" transform=\"scale(0.015625)\"/>\n        <path id=\"DejaVuSans-72\" d=\"M 2631 2963 \nQ 2534 3019 2420 3045 \nQ 2306 3072 2169 3072 \nQ 1681 3072 1420 2755 \nQ 1159 2438 1159 1844 \nL 1159 0 \nL 581 0 \nL 581 3500 \nL 1159 3500 \nL 1159 2956 \nQ 1341 3275 1631 3429 \nQ 1922 3584 2338 3584 \nQ 2397 3584 2469 3576 \nQ 2541 3569 2628 3553 \nL 2631 2963 \nz\n\" transform=\"scale(0.015625)\"/>\n        <path id=\"DejaVuSans-64\" d=\"M 2906 2969 \nL 2906 4863 \nL 3481 4863 \nL 3481 0 \nL 2906 0 \nL 2906 525 \nQ 2725 213 2448 61 \nQ 2172 -91 1784 -91 \nQ 1150 -91 751 415 \nQ 353 922 353 1747 \nQ 353 2572 751 3078 \nQ 1150 3584 1784 3584 \nQ 2172 3584 2448 3432 \nQ 2725 3281 2906 2969 \nz\nM 947 1747 \nQ 947 1113 1208 752 \nQ 1469 391 1925 391 \nQ 2381 391 2643 752 \nQ 2906 1113 2906 1747 \nQ 2906 2381 2643 2742 \nQ 2381 3103 1925 3103 \nQ 1469 3103 1208 2742 \nQ 947 2381 947 1747 \nz\n\" transform=\"scale(0.015625)\"/>\n        <path id=\"DejaVuSans-6f\" d=\"M 1959 3097 \nQ 1497 3097 1228 2736 \nQ 959 2375 959 1747 \nQ 959 1119 1226 758 \nQ 1494 397 1959 397 \nQ 2419 397 2687 759 \nQ 2956 1122 2956 1747 \nQ 2956 2369 2687 2733 \nQ 2419 3097 1959 3097 \nz\nM 1959 3584 \nQ 2709 3584 3137 3096 \nQ 3566 2609 3566 1747 \nQ 3566 888 3137 398 \nQ 2709 -91 1959 -91 \nQ 1206 -91 779 398 \nQ 353 888 353 1747 \nQ 353 2609 779 3096 \nQ 1206 3584 1959 3584 \nz\n\" transform=\"scale(0.015625)\"/>\n       </defs>\n       <use xlink:href=\"#DejaVuSans-61\"/>\n       <use xlink:href=\"#DejaVuSans-72\" x=\"61.279297\"/>\n       <use xlink:href=\"#DejaVuSans-64\" x=\"100.642578\"/>\n       <use xlink:href=\"#DejaVuSans-6f\" x=\"164.119141\"/>\n       <use xlink:href=\"#DejaVuSans-72\" x=\"225.300781\"/>\n      </g>\n     </g>\n    </g>\n    <g id=\"xtick_2\">\n     <g id=\"line2d_3\">\n      <path d=\"M 116.571778 400.32 \nL 116.571778 50.4 \n\" clip-path=\"url(#p3ebed5fdfc)\" style=\"fill: none; stroke: #cbcbcb\"/>\n     </g>\n     <g id=\"line2d_4\"/>\n     <g id=\"text_2\">\n      <!-- tenx -->\n      <g transform=\"translate(120.434903 435.081563) rotate(-90) scale(0.14 -0.14)\">\n       <defs>\n        <path id=\"DejaVuSans-74\" d=\"M 1172 4494 \nL 1172 3500 \nL 2356 3500 \nL 2356 3053 \nL 1172 3053 \nL 1172 1153 \nQ 1172 725 1289 603 \nQ 1406 481 1766 481 \nL 2356 481 \nL 2356 0 \nL 1766 0 \nQ 1100 0 847 248 \nQ 594 497 594 1153 \nL 594 3053 \nL 172 3053 \nL 172 3500 \nL 594 3500 \nL 594 4494 \nL 1172 4494 \nz\n\" transform=\"scale(0.015625)\"/>\n        <path id=\"DejaVuSans-65\" d=\"M 3597 1894 \nL 3597 1613 \nL 953 1613 \nQ 991 1019 1311 708 \nQ 1631 397 2203 397 \nQ 2534 397 2845 478 \nQ 3156 559 3463 722 \nL 3463 178 \nQ 3153 47 2828 -22 \nQ 2503 -91 2169 -91 \nQ 1331 -91 842 396 \nQ 353 884 353 1716 \nQ 353 2575 817 3079 \nQ 1281 3584 2069 3584 \nQ 2775 3584 3186 3129 \nQ 3597 2675 3597 1894 \nz\nM 3022 2063 \nQ 3016 2534 2758 2815 \nQ 2500 3097 2075 3097 \nQ 1594 3097 1305 2825 \nQ 1016 2553 972 2059 \nL 3022 2063 \nz\n\" transform=\"scale(0.015625)\"/>\n        <path id=\"DejaVuSans-6e\" d=\"M 3513 2113 \nL 3513 0 \nL 2938 0 \nL 2938 2094 \nQ 2938 2591 2744 2837 \nQ 2550 3084 2163 3084 \nQ 1697 3084 1428 2787 \nQ 1159 2491 1159 1978 \nL 1159 0 \nL 581 0 \nL 581 3500 \nL 1159 3500 \nL 1159 2956 \nQ 1366 3272 1645 3428 \nQ 1925 3584 2291 3584 \nQ 2894 3584 3203 3211 \nQ 3513 2838 3513 2113 \nz\n\" transform=\"scale(0.015625)\"/>\n        <path id=\"DejaVuSans-78\" d=\"M 3513 3500 \nL 2247 1797 \nL 3578 0 \nL 2900 0 \nL 1881 1375 \nL 863 0 \nL 184 0 \nL 1544 1831 \nL 300 3500 \nL 978 3500 \nL 1906 2253 \nL 2834 3500 \nL 3513 3500 \nz\n\" transform=\"scale(0.015625)\"/>\n       </defs>\n       <use xlink:href=\"#DejaVuSans-74\"/>\n       <use xlink:href=\"#DejaVuSans-65\" x=\"39.208984\"/>\n       <use xlink:href=\"#DejaVuSans-6e\" x=\"100.732422\"/>\n       <use xlink:href=\"#DejaVuSans-78\" x=\"164.111328\"/>\n      </g>\n     </g>\n    </g>\n    <g id=\"xtick_3\">\n     <g id=\"line2d_5\">\n      <path d=\"M 145.044506 400.32 \nL 145.044506 50.4 \n\" clip-path=\"url(#p3ebed5fdfc)\" style=\"fill: none; stroke: #cbcbcb\"/>\n     </g>\n     <g id=\"line2d_6\"/>\n     <g id=\"text_3\">\n      <!-- tron -->\n      <g transform=\"translate(148.907631 432.1875) rotate(-90) scale(0.14 -0.14)\">\n       <use xlink:href=\"#DejaVuSans-74\"/>\n       <use xlink:href=\"#DejaVuSans-72\" x=\"39.208984\"/>\n       <use xlink:href=\"#DejaVuSans-6f\" x=\"78.072266\"/>\n       <use xlink:href=\"#DejaVuSans-6e\" x=\"139.253906\"/>\n      </g>\n     </g>\n    </g>\n    <g id=\"xtick_4\">\n     <g id=\"line2d_7\">\n      <path d=\"M 173.517233 400.32 \nL 173.517233 50.4 \n\" clip-path=\"url(#p3ebed5fdfc)\" style=\"fill: none; stroke: #cbcbcb\"/>\n     </g>\n     <g id=\"line2d_8\"/>\n     <g id=\"text_4\">\n      <!-- digixdao -->\n      <g transform=\"translate(177.380358 463.694063) rotate(-90) scale(0.14 -0.14)\">\n       <defs>\n        <path id=\"DejaVuSans-69\" d=\"M 603 3500 \nL 1178 3500 \nL 1178 0 \nL 603 0 \nL 603 3500 \nz\nM 603 4863 \nL 1178 4863 \nL 1178 4134 \nL 603 4134 \nL 603 4863 \nz\n\" transform=\"scale(0.015625)\"/>\n        <path id=\"DejaVuSans-67\" d=\"M 2906 1791 \nQ 2906 2416 2648 2759 \nQ 2391 3103 1925 3103 \nQ 1463 3103 1205 2759 \nQ 947 2416 947 1791 \nQ 947 1169 1205 825 \nQ 1463 481 1925 481 \nQ 2391 481 2648 825 \nQ 2906 1169 2906 1791 \nz\nM 3481 434 \nQ 3481 -459 3084 -895 \nQ 2688 -1331 1869 -1331 \nQ 1566 -1331 1297 -1286 \nQ 1028 -1241 775 -1147 \nL 775 -588 \nQ 1028 -725 1275 -790 \nQ 1522 -856 1778 -856 \nQ 2344 -856 2625 -561 \nQ 2906 -266 2906 331 \nL 2906 616 \nQ 2728 306 2450 153 \nQ 2172 0 1784 0 \nQ 1141 0 747 490 \nQ 353 981 353 1791 \nQ 353 2603 747 3093 \nQ 1141 3584 1784 3584 \nQ 2172 3584 2450 3431 \nQ 2728 3278 2906 2969 \nL 2906 3500 \nL 3481 3500 \nL 3481 434 \nz\n\" transform=\"scale(0.015625)\"/>\n       </defs>\n       <use xlink:href=\"#DejaVuSans-64\"/>\n       <use xlink:href=\"#DejaVuSans-69\" x=\"63.476562\"/>\n       <use xlink:href=\"#DejaVuSans-67\" x=\"91.259766\"/>\n       <use xlink:href=\"#DejaVuSans-69\" x=\"154.736328\"/>\n       <use xlink:href=\"#DejaVuSans-78\" x=\"182.519531\"/>\n       <use xlink:href=\"#DejaVuSans-64\" x=\"241.699219\"/>\n       <use xlink:href=\"#DejaVuSans-61\" x=\"305.175781\"/>\n       <use xlink:href=\"#DejaVuSans-6f\" x=\"366.455078\"/>\n      </g>\n     </g>\n    </g>\n    <g id=\"xtick_5\">\n     <g id=\"line2d_9\">\n      <path d=\"M 201.98996 400.32 \nL 201.98996 50.4 \n\" clip-path=\"url(#p3ebed5fdfc)\" style=\"fill: none; stroke: #cbcbcb\"/>\n     </g>\n     <g id=\"line2d_10\"/>\n     <g id=\"text_5\">\n      <!-- status -->\n      <g transform=\"translate(205.853085 446.835) rotate(-90) scale(0.14 -0.14)\">\n       <defs>\n        <path id=\"DejaVuSans-73\" d=\"M 2834 3397 \nL 2834 2853 \nQ 2591 2978 2328 3040 \nQ 2066 3103 1784 3103 \nQ 1356 3103 1142 2972 \nQ 928 2841 928 2578 \nQ 928 2378 1081 2264 \nQ 1234 2150 1697 2047 \nL 1894 2003 \nQ 2506 1872 2764 1633 \nQ 3022 1394 3022 966 \nQ 3022 478 2636 193 \nQ 2250 -91 1575 -91 \nQ 1294 -91 989 -36 \nQ 684 19 347 128 \nL 347 722 \nQ 666 556 975 473 \nQ 1284 391 1588 391 \nQ 1994 391 2212 530 \nQ 2431 669 2431 922 \nQ 2431 1156 2273 1281 \nQ 2116 1406 1581 1522 \nL 1381 1569 \nQ 847 1681 609 1914 \nQ 372 2147 372 2553 \nQ 372 3047 722 3315 \nQ 1072 3584 1716 3584 \nQ 2034 3584 2315 3537 \nQ 2597 3491 2834 3397 \nz\n\" transform=\"scale(0.015625)\"/>\n        <path id=\"DejaVuSans-75\" d=\"M 544 1381 \nL 544 3500 \nL 1119 3500 \nL 1119 1403 \nQ 1119 906 1312 657 \nQ 1506 409 1894 409 \nQ 2359 409 2629 706 \nQ 2900 1003 2900 1516 \nL 2900 3500 \nL 3475 3500 \nL 3475 0 \nL 2900 0 \nL 2900 538 \nQ 2691 219 2414 64 \nQ 2138 -91 1772 -91 \nQ 1169 -91 856 284 \nQ 544 659 544 1381 \nz\nM 1991 3584 \nL 1991 3584 \nz\n\" transform=\"scale(0.015625)\"/>\n       </defs>\n       <use xlink:href=\"#DejaVuSans-73\"/>\n       <use xlink:href=\"#DejaVuSans-74\" x=\"52.099609\"/>\n       <use xlink:href=\"#DejaVuSans-61\" x=\"91.308594\"/>\n       <use xlink:href=\"#DejaVuSans-74\" x=\"152.587891\"/>\n       <use xlink:href=\"#DejaVuSans-75\" x=\"191.796875\"/>\n       <use xlink:href=\"#DejaVuSans-73\" x=\"255.175781\"/>\n      </g>\n     </g>\n    </g>\n    <g id=\"xtick_6\">\n     <g id=\"line2d_11\">\n      <path d=\"M 230.462688 400.32 \nL 230.462688 50.4 \n\" clip-path=\"url(#p3ebed5fdfc)\" style=\"fill: none; stroke: #cbcbcb\"/>\n     </g>\n     <g id=\"line2d_12\"/>\n     <g id=\"text_6\">\n      <!-- bitcoindark -->\n      <g transform=\"translate(234.325813 482.440938) rotate(-90) scale(0.14 -0.14)\">\n       <defs>\n        <path id=\"DejaVuSans-62\" d=\"M 3116 1747 \nQ 3116 2381 2855 2742 \nQ 2594 3103 2138 3103 \nQ 1681 3103 1420 2742 \nQ 1159 2381 1159 1747 \nQ 1159 1113 1420 752 \nQ 1681 391 2138 391 \nQ 2594 391 2855 752 \nQ 3116 1113 3116 1747 \nz\nM 1159 2969 \nQ 1341 3281 1617 3432 \nQ 1894 3584 2278 3584 \nQ 2916 3584 3314 3078 \nQ 3713 2572 3713 1747 \nQ 3713 922 3314 415 \nQ 2916 -91 2278 -91 \nQ 1894 -91 1617 61 \nQ 1341 213 1159 525 \nL 1159 0 \nL 581 0 \nL 581 4863 \nL 1159 4863 \nL 1159 2969 \nz\n\" transform=\"scale(0.015625)\"/>\n        <path id=\"DejaVuSans-63\" d=\"M 3122 3366 \nL 3122 2828 \nQ 2878 2963 2633 3030 \nQ 2388 3097 2138 3097 \nQ 1578 3097 1268 2742 \nQ 959 2388 959 1747 \nQ 959 1106 1268 751 \nQ 1578 397 2138 397 \nQ 2388 397 2633 464 \nQ 2878 531 3122 666 \nL 3122 134 \nQ 2881 22 2623 -34 \nQ 2366 -91 2075 -91 \nQ 1284 -91 818 406 \nQ 353 903 353 1747 \nQ 353 2603 823 3093 \nQ 1294 3584 2113 3584 \nQ 2378 3584 2631 3529 \nQ 2884 3475 3122 3366 \nz\n\" transform=\"scale(0.015625)\"/>\n        <path id=\"DejaVuSans-6b\" d=\"M 581 4863 \nL 1159 4863 \nL 1159 1991 \nL 2875 3500 \nL 3609 3500 \nL 1753 1863 \nL 3688 0 \nL 2938 0 \nL 1159 1709 \nL 1159 0 \nL 581 0 \nL 581 4863 \nz\n\" transform=\"scale(0.015625)\"/>\n       </defs>\n       <use xlink:href=\"#DejaVuSans-62\"/>\n       <use xlink:href=\"#DejaVuSans-69\" x=\"63.476562\"/>\n       <use xlink:href=\"#DejaVuSans-74\" x=\"91.259766\"/>\n       <use xlink:href=\"#DejaVuSans-63\" x=\"130.46875\"/>\n       <use xlink:href=\"#DejaVuSans-6f\" x=\"185.449219\"/>\n       <use xlink:href=\"#DejaVuSans-69\" x=\"246.630859\"/>\n       <use xlink:href=\"#DejaVuSans-6e\" x=\"274.414062\"/>\n       <use xlink:href=\"#DejaVuSans-64\" x=\"337.792969\"/>\n       <use xlink:href=\"#DejaVuSans-61\" x=\"401.269531\"/>\n       <use xlink:href=\"#DejaVuSans-72\" x=\"462.548828\"/>\n       <use xlink:href=\"#DejaVuSans-6b\" x=\"503.662109\"/>\n      </g>\n     </g>\n    </g>\n    <g id=\"xtick_7\">\n     <g id=\"line2d_13\">\n      <path d=\"M 258.935415 400.32 \nL 258.935415 50.4 \n\" clip-path=\"url(#p3ebed5fdfc)\" style=\"fill: none; stroke: #cbcbcb\"/>\n     </g>\n     <g id=\"line2d_14\"/>\n     <g id=\"text_7\">\n      <!-- ripple -->\n      <g transform=\"translate(262.79854 443.744063) rotate(-90) scale(0.14 -0.14)\">\n       <defs>\n        <path id=\"DejaVuSans-70\" d=\"M 1159 525 \nL 1159 -1331 \nL 581 -1331 \nL 581 3500 \nL 1159 3500 \nL 1159 2969 \nQ 1341 3281 1617 3432 \nQ 1894 3584 2278 3584 \nQ 2916 3584 3314 3078 \nQ 3713 2572 3713 1747 \nQ 3713 922 3314 415 \nQ 2916 -91 2278 -91 \nQ 1894 -91 1617 61 \nQ 1341 213 1159 525 \nz\nM 3116 1747 \nQ 3116 2381 2855 2742 \nQ 2594 3103 2138 3103 \nQ 1681 3103 1420 2742 \nQ 1159 2381 1159 1747 \nQ 1159 1113 1420 752 \nQ 1681 391 2138 391 \nQ 2594 391 2855 752 \nQ 3116 1113 3116 1747 \nz\n\" transform=\"scale(0.015625)\"/>\n        <path id=\"DejaVuSans-6c\" d=\"M 603 4863 \nL 1178 4863 \nL 1178 0 \nL 603 0 \nL 603 4863 \nz\n\" transform=\"scale(0.015625)\"/>\n       </defs>\n       <use xlink:href=\"#DejaVuSans-72\"/>\n       <use xlink:href=\"#DejaVuSans-69\" x=\"41.113281\"/>\n       <use xlink:href=\"#DejaVuSans-70\" x=\"68.896484\"/>\n       <use xlink:href=\"#DejaVuSans-70\" x=\"132.373047\"/>\n       <use xlink:href=\"#DejaVuSans-6c\" x=\"195.849609\"/>\n       <use xlink:href=\"#DejaVuSans-65\" x=\"223.632812\"/>\n      </g>\n     </g>\n    </g>\n    <g id=\"xtick_8\">\n     <g id=\"line2d_15\">\n      <path d=\"M 287.408142 400.32 \nL 287.408142 50.4 \n\" clip-path=\"url(#p3ebed5fdfc)\" style=\"fill: none; stroke: #cbcbcb\"/>\n     </g>\n     <g id=\"line2d_16\"/>\n     <g id=\"text_8\">\n      <!-- monacoin -->\n      <g transform=\"translate(291.271267 472.500938) rotate(-90) scale(0.14 -0.14)\">\n       <defs>\n        <path id=\"DejaVuSans-6d\" d=\"M 3328 2828 \nQ 3544 3216 3844 3400 \nQ 4144 3584 4550 3584 \nQ 5097 3584 5394 3201 \nQ 5691 2819 5691 2113 \nL 5691 0 \nL 5113 0 \nL 5113 2094 \nQ 5113 2597 4934 2840 \nQ 4756 3084 4391 3084 \nQ 3944 3084 3684 2787 \nQ 3425 2491 3425 1978 \nL 3425 0 \nL 2847 0 \nL 2847 2094 \nQ 2847 2600 2669 2842 \nQ 2491 3084 2119 3084 \nQ 1678 3084 1418 2786 \nQ 1159 2488 1159 1978 \nL 1159 0 \nL 581 0 \nL 581 3500 \nL 1159 3500 \nL 1159 2956 \nQ 1356 3278 1631 3431 \nQ 1906 3584 2284 3584 \nQ 2666 3584 2933 3390 \nQ 3200 3197 3328 2828 \nz\n\" transform=\"scale(0.015625)\"/>\n       </defs>\n       <use xlink:href=\"#DejaVuSans-6d\"/>\n       <use xlink:href=\"#DejaVuSans-6f\" x=\"97.412109\"/>\n       <use xlink:href=\"#DejaVuSans-6e\" x=\"158.59375\"/>\n       <use xlink:href=\"#DejaVuSans-61\" x=\"221.972656\"/>\n       <use xlink:href=\"#DejaVuSans-63\" x=\"283.251953\"/>\n       <use xlink:href=\"#DejaVuSans-6f\" x=\"338.232422\"/>\n       <use xlink:href=\"#DejaVuSans-69\" x=\"399.414062\"/>\n       <use xlink:href=\"#DejaVuSans-6e\" x=\"427.197266\"/>\n      </g>\n     </g>\n    </g>\n    <g id=\"xtick_9\">\n     <g id=\"line2d_17\">\n      <path d=\"M 315.880869 400.32 \nL 315.880869 50.4 \n\" clip-path=\"url(#p3ebed5fdfc)\" style=\"fill: none; stroke: #cbcbcb\"/>\n     </g>\n     <g id=\"line2d_18\"/>\n     <g id=\"text_9\">\n      <!-- nxt -->\n      <g transform=\"translate(319.743994 426.467188) rotate(-90) scale(0.14 -0.14)\">\n       <use xlink:href=\"#DejaVuSans-6e\"/>\n       <use xlink:href=\"#DejaVuSans-78\" x=\"63.378906\"/>\n       <use xlink:href=\"#DejaVuSans-74\" x=\"122.558594\"/>\n      </g>\n     </g>\n    </g>\n    <g id=\"xtick_10\">\n     <g id=\"line2d_19\">\n      <path d=\"M 344.353597 400.32 \nL 344.353597 50.4 \n\" clip-path=\"url(#p3ebed5fdfc)\" style=\"fill: none; stroke: #cbcbcb\"/>\n     </g>\n     <g id=\"line2d_20\"/>\n     <g id=\"text_10\">\n      <!-- steem -->\n      <g transform=\"translate(348.216722 447.467188) rotate(-90) scale(0.14 -0.14)\">\n       <use xlink:href=\"#DejaVuSans-73\"/>\n       <use xlink:href=\"#DejaVuSans-74\" x=\"52.099609\"/>\n       <use xlink:href=\"#DejaVuSans-65\" x=\"91.308594\"/>\n       <use xlink:href=\"#DejaVuSans-65\" x=\"152.832031\"/>\n       <use xlink:href=\"#DejaVuSans-6d\" x=\"214.355469\"/>\n      </g>\n     </g>\n    </g>\n    <g id=\"text_11\">\n     <!-- id -->\n     <g transform=\"translate(208.560011 499.206313) scale(0.168 -0.168)\">\n      <use xlink:href=\"#DejaVuSans-69\"/>\n      <use xlink:href=\"#DejaVuSans-64\" x=\"27.783203\"/>\n     </g>\n    </g>\n   </g>\n   <g id=\"matplotlib.axis_2\">\n    <g id=\"ytick_1\">\n     <g id=\"line2d_21\">\n      <path d=\"M 73.862688 370.378054 \nL 358.58996 370.378054 \n\" clip-path=\"url(#p3ebed5fdfc)\" style=\"fill: none; stroke: #cbcbcb\"/>\n     </g>\n     <g id=\"line2d_22\"/>\n     <g id=\"text_12\">\n      <!-- −20.0 -->\n      <g transform=\"translate(27.45925 375.69696) scale(0.14 -0.14)\">\n       <defs>\n        <path id=\"DejaVuSans-2212\" d=\"M 678 2272 \nL 4684 2272 \nL 4684 1741 \nL 678 1741 \nL 678 2272 \nz\n\" transform=\"scale(0.015625)\"/>\n        <path id=\"DejaVuSans-32\" d=\"M 1228 531 \nL 3431 531 \nL 3431 0 \nL 469 0 \nL 469 531 \nQ 828 903 1448 1529 \nQ 2069 2156 2228 2338 \nQ 2531 2678 2651 2914 \nQ 2772 3150 2772 3378 \nQ 2772 3750 2511 3984 \nQ 2250 4219 1831 4219 \nQ 1534 4219 1204 4116 \nQ 875 4013 500 3803 \nL 500 4441 \nQ 881 4594 1212 4672 \nQ 1544 4750 1819 4750 \nQ 2544 4750 2975 4387 \nQ 3406 4025 3406 3419 \nQ 3406 3131 3298 2873 \nQ 3191 2616 2906 2266 \nQ 2828 2175 2409 1742 \nQ 1991 1309 1228 531 \nz\n\" transform=\"scale(0.015625)\"/>\n        <path id=\"DejaVuSans-30\" d=\"M 2034 4250 \nQ 1547 4250 1301 3770 \nQ 1056 3291 1056 2328 \nQ 1056 1369 1301 889 \nQ 1547 409 2034 409 \nQ 2525 409 2770 889 \nQ 3016 1369 3016 2328 \nQ 3016 3291 2770 3770 \nQ 2525 4250 2034 4250 \nz\nM 2034 4750 \nQ 2819 4750 3233 4129 \nQ 3647 3509 3647 2328 \nQ 3647 1150 3233 529 \nQ 2819 -91 2034 -91 \nQ 1250 -91 836 529 \nQ 422 1150 422 2328 \nQ 422 3509 836 4129 \nQ 1250 4750 2034 4750 \nz\n\" transform=\"scale(0.015625)\"/>\n        <path id=\"DejaVuSans-2e\" d=\"M 684 794 \nL 1344 794 \nL 1344 0 \nL 684 0 \nL 684 794 \nz\n\" transform=\"scale(0.015625)\"/>\n       </defs>\n       <use xlink:href=\"#DejaVuSans-2212\"/>\n       <use xlink:href=\"#DejaVuSans-32\" x=\"83.789062\"/>\n       <use xlink:href=\"#DejaVuSans-30\" x=\"147.412109\"/>\n       <use xlink:href=\"#DejaVuSans-2e\" x=\"211.035156\"/>\n       <use xlink:href=\"#DejaVuSans-30\" x=\"242.822266\"/>\n      </g>\n     </g>\n    </g>\n    <g id=\"ytick_2\">\n     <g id=\"line2d_23\">\n      <path d=\"M 73.862688 330.380797 \nL 358.58996 330.380797 \n\" clip-path=\"url(#p3ebed5fdfc)\" style=\"fill: none; stroke: #cbcbcb\"/>\n     </g>\n     <g id=\"line2d_24\"/>\n     <g id=\"text_13\">\n      <!-- −17.5 -->\n      <g transform=\"translate(27.45925 335.699703) scale(0.14 -0.14)\">\n       <defs>\n        <path id=\"DejaVuSans-31\" d=\"M 794 531 \nL 1825 531 \nL 1825 4091 \nL 703 3866 \nL 703 4441 \nL 1819 4666 \nL 2450 4666 \nL 2450 531 \nL 3481 531 \nL 3481 0 \nL 794 0 \nL 794 531 \nz\n\" transform=\"scale(0.015625)\"/>\n        <path id=\"DejaVuSans-37\" d=\"M 525 4666 \nL 3525 4666 \nL 3525 4397 \nL 1831 0 \nL 1172 0 \nL 2766 4134 \nL 525 4134 \nL 525 4666 \nz\n\" transform=\"scale(0.015625)\"/>\n        <path id=\"DejaVuSans-35\" d=\"M 691 4666 \nL 3169 4666 \nL 3169 4134 \nL 1269 4134 \nL 1269 2991 \nQ 1406 3038 1543 3061 \nQ 1681 3084 1819 3084 \nQ 2600 3084 3056 2656 \nQ 3513 2228 3513 1497 \nQ 3513 744 3044 326 \nQ 2575 -91 1722 -91 \nQ 1428 -91 1123 -41 \nQ 819 9 494 109 \nL 494 744 \nQ 775 591 1075 516 \nQ 1375 441 1709 441 \nQ 2250 441 2565 725 \nQ 2881 1009 2881 1497 \nQ 2881 1984 2565 2268 \nQ 2250 2553 1709 2553 \nQ 1456 2553 1204 2497 \nQ 953 2441 691 2322 \nL 691 4666 \nz\n\" transform=\"scale(0.015625)\"/>\n       </defs>\n       <use xlink:href=\"#DejaVuSans-2212\"/>\n       <use xlink:href=\"#DejaVuSans-31\" x=\"83.789062\"/>\n       <use xlink:href=\"#DejaVuSans-37\" x=\"147.412109\"/>\n       <use xlink:href=\"#DejaVuSans-2e\" x=\"211.035156\"/>\n       <use xlink:href=\"#DejaVuSans-35\" x=\"242.822266\"/>\n      </g>\n     </g>\n    </g>\n    <g id=\"ytick_3\">\n     <g id=\"line2d_25\">\n      <path d=\"M 73.862688 290.38354 \nL 358.58996 290.38354 \n\" clip-path=\"url(#p3ebed5fdfc)\" style=\"fill: none; stroke: #cbcbcb\"/>\n     </g>\n     <g id=\"line2d_26\"/>\n     <g id=\"text_14\">\n      <!-- −15.0 -->\n      <g transform=\"translate(27.45925 295.702446) scale(0.14 -0.14)\">\n       <use xlink:href=\"#DejaVuSans-2212\"/>\n       <use xlink:href=\"#DejaVuSans-31\" x=\"83.789062\"/>\n       <use xlink:href=\"#DejaVuSans-35\" x=\"147.412109\"/>\n       <use xlink:href=\"#DejaVuSans-2e\" x=\"211.035156\"/>\n       <use xlink:href=\"#DejaVuSans-30\" x=\"242.822266\"/>\n      </g>\n     </g>\n    </g>\n    <g id=\"ytick_4\">\n     <g id=\"line2d_27\">\n      <path d=\"M 73.862688 250.386284 \nL 358.58996 250.386284 \n\" clip-path=\"url(#p3ebed5fdfc)\" style=\"fill: none; stroke: #cbcbcb\"/>\n     </g>\n     <g id=\"line2d_28\"/>\n     <g id=\"text_15\">\n      <!-- −12.5 -->\n      <g transform=\"translate(27.45925 255.70519) scale(0.14 -0.14)\">\n       <use xlink:href=\"#DejaVuSans-2212\"/>\n       <use xlink:href=\"#DejaVuSans-31\" x=\"83.789062\"/>\n       <use xlink:href=\"#DejaVuSans-32\" x=\"147.412109\"/>\n       <use xlink:href=\"#DejaVuSans-2e\" x=\"211.035156\"/>\n       <use xlink:href=\"#DejaVuSans-35\" x=\"242.822266\"/>\n      </g>\n     </g>\n    </g>\n    <g id=\"ytick_5\">\n     <g id=\"line2d_29\">\n      <path d=\"M 73.862688 210.389027 \nL 358.58996 210.389027 \n\" clip-path=\"url(#p3ebed5fdfc)\" style=\"fill: none; stroke: #cbcbcb\"/>\n     </g>\n     <g id=\"line2d_30\"/>\n     <g id=\"text_16\">\n      <!-- −10.0 -->\n      <g transform=\"translate(27.45925 215.707933) scale(0.14 -0.14)\">\n       <use xlink:href=\"#DejaVuSans-2212\"/>\n       <use xlink:href=\"#DejaVuSans-31\" x=\"83.789062\"/>\n       <use xlink:href=\"#DejaVuSans-30\" x=\"147.412109\"/>\n       <use xlink:href=\"#DejaVuSans-2e\" x=\"211.035156\"/>\n       <use xlink:href=\"#DejaVuSans-30\" x=\"242.822266\"/>\n      </g>\n     </g>\n    </g>\n    <g id=\"ytick_6\">\n     <g id=\"line2d_31\">\n      <path d=\"M 73.862688 170.39177 \nL 358.58996 170.39177 \n\" clip-path=\"url(#p3ebed5fdfc)\" style=\"fill: none; stroke: #cbcbcb\"/>\n     </g>\n     <g id=\"line2d_32\"/>\n     <g id=\"text_17\">\n      <!-- −7.5 -->\n      <g transform=\"translate(36.36675 175.710676) scale(0.14 -0.14)\">\n       <use xlink:href=\"#DejaVuSans-2212\"/>\n       <use xlink:href=\"#DejaVuSans-37\" x=\"83.789062\"/>\n       <use xlink:href=\"#DejaVuSans-2e\" x=\"147.412109\"/>\n       <use xlink:href=\"#DejaVuSans-35\" x=\"179.199219\"/>\n      </g>\n     </g>\n    </g>\n    <g id=\"ytick_7\">\n     <g id=\"line2d_33\">\n      <path d=\"M 73.862688 130.394513 \nL 358.58996 130.394513 \n\" clip-path=\"url(#p3ebed5fdfc)\" style=\"fill: none; stroke: #cbcbcb\"/>\n     </g>\n     <g id=\"line2d_34\"/>\n     <g id=\"text_18\">\n      <!-- −5.0 -->\n      <g transform=\"translate(36.36675 135.71342) scale(0.14 -0.14)\">\n       <use xlink:href=\"#DejaVuSans-2212\"/>\n       <use xlink:href=\"#DejaVuSans-35\" x=\"83.789062\"/>\n       <use xlink:href=\"#DejaVuSans-2e\" x=\"147.412109\"/>\n       <use xlink:href=\"#DejaVuSans-30\" x=\"179.199219\"/>\n      </g>\n     </g>\n    </g>\n    <g id=\"ytick_8\">\n     <g id=\"line2d_35\">\n      <path d=\"M 73.862688 90.397257 \nL 358.58996 90.397257 \n\" clip-path=\"url(#p3ebed5fdfc)\" style=\"fill: none; stroke: #cbcbcb\"/>\n     </g>\n     <g id=\"line2d_36\"/>\n     <g id=\"text_19\">\n      <!-- −2.5 -->\n      <g transform=\"translate(36.36675 95.716163) scale(0.14 -0.14)\">\n       <use xlink:href=\"#DejaVuSans-2212\"/>\n       <use xlink:href=\"#DejaVuSans-32\" x=\"83.789062\"/>\n       <use xlink:href=\"#DejaVuSans-2e\" x=\"147.412109\"/>\n       <use xlink:href=\"#DejaVuSans-35\" x=\"179.199219\"/>\n      </g>\n     </g>\n    </g>\n    <g id=\"ytick_9\">\n     <g id=\"line2d_37\">\n      <path d=\"M 73.862688 50.4 \nL 358.58996 50.4 \n\" clip-path=\"url(#p3ebed5fdfc)\" style=\"fill: none; stroke: #cbcbcb\"/>\n     </g>\n     <g id=\"line2d_38\"/>\n     <g id=\"text_20\">\n      <!-- 0.0 -->\n      <g transform=\"translate(48.098313 55.718906) scale(0.14 -0.14)\">\n       <use xlink:href=\"#DejaVuSans-30\"/>\n       <use xlink:href=\"#DejaVuSans-2e\" x=\"63.623047\"/>\n       <use xlink:href=\"#DejaVuSans-30\" x=\"95.410156\"/>\n      </g>\n     </g>\n    </g>\n    <g id=\"text_21\">\n     <!-- % change -->\n     <g transform=\"translate(19.965375 266.925563) rotate(-90) scale(0.168 -0.168)\">\n      <defs>\n       <path id=\"DejaVuSans-25\" d=\"M 4653 2053 \nQ 4381 2053 4226 1822 \nQ 4072 1591 4072 1178 \nQ 4072 772 4226 539 \nQ 4381 306 4653 306 \nQ 4919 306 5073 539 \nQ 5228 772 5228 1178 \nQ 5228 1588 5073 1820 \nQ 4919 2053 4653 2053 \nz\nM 4653 2450 \nQ 5147 2450 5437 2106 \nQ 5728 1763 5728 1178 \nQ 5728 594 5436 251 \nQ 5144 -91 4653 -91 \nQ 4153 -91 3862 251 \nQ 3572 594 3572 1178 \nQ 3572 1766 3864 2108 \nQ 4156 2450 4653 2450 \nz\nM 1428 4353 \nQ 1159 4353 1004 4120 \nQ 850 3888 850 3481 \nQ 850 3069 1003 2837 \nQ 1156 2606 1428 2606 \nQ 1700 2606 1854 2837 \nQ 2009 3069 2009 3481 \nQ 2009 3884 1853 4118 \nQ 1697 4353 1428 4353 \nz\nM 4250 4750 \nL 4750 4750 \nL 1831 -91 \nL 1331 -91 \nL 4250 4750 \nz\nM 1428 4750 \nQ 1922 4750 2215 4408 \nQ 2509 4066 2509 3481 \nQ 2509 2891 2217 2550 \nQ 1925 2209 1428 2209 \nQ 931 2209 642 2551 \nQ 353 2894 353 3481 \nQ 353 4063 643 4406 \nQ 934 4750 1428 4750 \nz\n\" transform=\"scale(0.015625)\"/>\n       <path id=\"DejaVuSans-20\" transform=\"scale(0.015625)\"/>\n       <path id=\"DejaVuSans-68\" d=\"M 3513 2113 \nL 3513 0 \nL 2938 0 \nL 2938 2094 \nQ 2938 2591 2744 2837 \nQ 2550 3084 2163 3084 \nQ 1697 3084 1428 2787 \nQ 1159 2491 1159 1978 \nL 1159 0 \nL 581 0 \nL 581 4863 \nL 1159 4863 \nL 1159 2956 \nQ 1366 3272 1645 3428 \nQ 1925 3584 2291 3584 \nQ 2894 3584 3203 3211 \nQ 3513 2838 3513 2113 \nz\n\" transform=\"scale(0.015625)\"/>\n      </defs>\n      <use xlink:href=\"#DejaVuSans-25\"/>\n      <use xlink:href=\"#DejaVuSans-20\" x=\"95.019531\"/>\n      <use xlink:href=\"#DejaVuSans-63\" x=\"126.806641\"/>\n      <use xlink:href=\"#DejaVuSans-68\" x=\"181.787109\"/>\n      <use xlink:href=\"#DejaVuSans-61\" x=\"245.166016\"/>\n      <use xlink:href=\"#DejaVuSans-6e\" x=\"306.445312\"/>\n      <use xlink:href=\"#DejaVuSans-67\" x=\"369.824219\"/>\n      <use xlink:href=\"#DejaVuSans-65\" x=\"433.300781\"/>\n     </g>\n    </g>\n   </g>\n   <g id=\"patch_3\">\n    <path d=\"M 80.980869 50.4 \nL 95.217233 50.4 \nL 95.217233 383.657143 \nL 80.980869 383.657143 \nz\n\" clip-path=\"url(#p3ebed5fdfc)\" style=\"fill: #8b0000\"/>\n   </g>\n   <g id=\"patch_4\">\n    <path d=\"M 109.453597 50.4 \nL 123.68996 50.4 \nL 123.68996 303.342651 \nL 109.453597 303.342651 \nz\n\" clip-path=\"url(#p3ebed5fdfc)\" style=\"fill: #8b0000\"/>\n   </g>\n   <g id=\"patch_5\">\n    <path d=\"M 137.926324 50.4 \nL 152.162688 50.4 \nL 152.162688 252.466141 \nL 137.926324 252.466141 \nz\n\" clip-path=\"url(#p3ebed5fdfc)\" style=\"fill: #8b0000\"/>\n   </g>\n   <g id=\"patch_6\">\n    <path d=\"M 166.399051 50.4 \nL 180.635415 50.4 \nL 180.635415 245.426624 \nL 166.399051 245.426624 \nz\n\" clip-path=\"url(#p3ebed5fdfc)\" style=\"fill: #8b0000\"/>\n   </g>\n   <g id=\"patch_7\">\n    <path d=\"M 194.871778 50.4 \nL 209.108142 50.4 \nL 209.108142 241.586887 \nL 194.871778 241.586887 \nz\n\" clip-path=\"url(#p3ebed5fdfc)\" style=\"fill: #8b0000\"/>\n   </g>\n   <g id=\"patch_8\">\n    <path d=\"M 223.344506 50.4 \nL 237.580869 50.4 \nL 237.580869 222.228215 \nL 223.344506 222.228215 \nz\n\" clip-path=\"url(#p3ebed5fdfc)\" style=\"fill: #8b0000\"/>\n   </g>\n   <g id=\"patch_9\">\n    <path d=\"M 251.817233 50.4 \nL 266.053597 50.4 \nL 266.053597 198.069872 \nL 251.817233 198.069872 \nz\n\" clip-path=\"url(#p3ebed5fdfc)\" style=\"fill: #8b0000\"/>\n   </g>\n   <g id=\"patch_10\">\n    <path d=\"M 280.28996 50.4 \nL 294.526324 50.4 \nL 294.526324 193.110212 \nL 280.28996 193.110212 \nz\n\" clip-path=\"url(#p3ebed5fdfc)\" style=\"fill: #8b0000\"/>\n   </g>\n   <g id=\"patch_11\">\n    <path d=\"M 308.762688 50.4 \nL 322.999051 50.4 \nL 322.999051 175.511419 \nL 308.762688 175.511419 \nz\n\" clip-path=\"url(#p3ebed5fdfc)\" style=\"fill: #8b0000\"/>\n   </g>\n   <g id=\"patch_12\">\n    <path d=\"M 337.235415 50.4 \nL 351.471778 50.4 \nL 351.471778 175.031452 \nL 337.235415 175.031452 \nz\n\" clip-path=\"url(#p3ebed5fdfc)\" style=\"fill: #8b0000\"/>\n   </g>\n   <g id=\"patch_13\">\n    <path d=\"M 73.862688 400.32 \nL 73.862688 50.4 \n\" style=\"fill: none; stroke: #f0f0f0; stroke-width: 3; stroke-linejoin: miter; stroke-linecap: square\"/>\n   </g>\n   <g id=\"patch_14\">\n    <path d=\"M 358.58996 400.32 \nL 358.58996 50.4 \n\" style=\"fill: none; stroke: #f0f0f0; stroke-width: 3; stroke-linejoin: miter; stroke-linecap: square\"/>\n   </g>\n   <g id=\"patch_15\">\n    <path d=\"M 73.862688 400.32 \nL 358.58996 400.32 \n\" style=\"fill: none; stroke: #f0f0f0; stroke-width: 3; stroke-linejoin: miter; stroke-linecap: square\"/>\n   </g>\n   <g id=\"patch_16\">\n    <path d=\"M 73.862688 50.4 \nL 358.58996 50.4 \n\" style=\"fill: none; stroke: #f0f0f0; stroke-width: 3; stroke-linejoin: miter; stroke-linecap: square\"/>\n   </g>\n  </g>\n  <g id=\"axes_2\">\n   <g id=\"patch_17\">\n    <path d=\"M 415.535415 400.32 \nL 700.262687 400.32 \nL 700.262687 50.4 \nL 415.535415 50.4 \nz\n\" style=\"fill: #f0f0f0\"/>\n   </g>\n   <g id=\"matplotlib.axis_3\">\n    <g id=\"xtick_11\">\n     <g id=\"line2d_39\">\n      <path d=\"M 429.771778 400.32 \nL 429.771778 50.4 \n\" clip-path=\"url(#p02e95a874a)\" style=\"fill: none; stroke: #cbcbcb\"/>\n     </g>\n     <g id=\"line2d_40\"/>\n     <g id=\"text_22\">\n      <!-- binance-coin -->\n      <g transform=\"translate(433.634903 493.310625) rotate(-90) scale(0.14 -0.14)\">\n       <defs>\n        <path id=\"DejaVuSans-2d\" d=\"M 313 2009 \nL 1997 2009 \nL 1997 1497 \nL 313 1497 \nL 313 2009 \nz\n\" transform=\"scale(0.015625)\"/>\n       </defs>\n       <use xlink:href=\"#DejaVuSans-62\"/>\n       <use xlink:href=\"#DejaVuSans-69\" x=\"63.476562\"/>\n       <use xlink:href=\"#DejaVuSans-6e\" x=\"91.259766\"/>\n       <use xlink:href=\"#DejaVuSans-61\" x=\"154.638672\"/>\n       <use xlink:href=\"#DejaVuSans-6e\" x=\"215.917969\"/>\n       <use xlink:href=\"#DejaVuSans-63\" x=\"279.296875\"/>\n       <use xlink:href=\"#DejaVuSans-65\" x=\"334.277344\"/>\n       <use xlink:href=\"#DejaVuSans-2d\" x=\"395.800781\"/>\n       <use xlink:href=\"#DejaVuSans-63\" x=\"431.884766\"/>\n       <use xlink:href=\"#DejaVuSans-6f\" x=\"486.865234\"/>\n       <use xlink:href=\"#DejaVuSans-69\" x=\"548.046875\"/>\n       <use xlink:href=\"#DejaVuSans-6e\" x=\"575.830078\"/>\n      </g>\n     </g>\n    </g>\n    <g id=\"xtick_12\">\n     <g id=\"line2d_41\">\n      <path d=\"M 458.244506 400.32 \nL 458.244506 50.4 \n\" clip-path=\"url(#p02e95a874a)\" style=\"fill: none; stroke: #cbcbcb\"/>\n     </g>\n     <g id=\"line2d_42\"/>\n     <g id=\"text_23\">\n      <!-- nexus -->\n      <g transform=\"translate(462.107631 445.51375) rotate(-90) scale(0.14 -0.14)\">\n       <use xlink:href=\"#DejaVuSans-6e\"/>\n       <use xlink:href=\"#DejaVuSans-65\" x=\"63.378906\"/>\n       <use xlink:href=\"#DejaVuSans-78\" x=\"123.152344\"/>\n       <use xlink:href=\"#DejaVuSans-75\" x=\"182.332031\"/>\n       <use xlink:href=\"#DejaVuSans-73\" x=\"245.710938\"/>\n      </g>\n     </g>\n    </g>\n    <g id=\"xtick_13\">\n     <g id=\"line2d_43\">\n      <path d=\"M 486.717233 400.32 \nL 486.717233 50.4 \n\" clip-path=\"url(#p02e95a874a)\" style=\"fill: none; stroke: #cbcbcb\"/>\n     </g>\n     <g id=\"line2d_44\"/>\n     <g id=\"text_24\">\n      <!-- electroneum -->\n      <g transform=\"translate(490.580358 492.127188) rotate(-90) scale(0.14 -0.14)\">\n       <use xlink:href=\"#DejaVuSans-65\"/>\n       <use xlink:href=\"#DejaVuSans-6c\" x=\"61.523438\"/>\n       <use xlink:href=\"#DejaVuSans-65\" x=\"89.306641\"/>\n       <use xlink:href=\"#DejaVuSans-63\" x=\"150.830078\"/>\n       <use xlink:href=\"#DejaVuSans-74\" x=\"205.810547\"/>\n       <use xlink:href=\"#DejaVuSans-72\" x=\"245.019531\"/>\n       <use xlink:href=\"#DejaVuSans-6f\" x=\"283.882812\"/>\n       <use xlink:href=\"#DejaVuSans-6e\" x=\"345.064453\"/>\n       <use xlink:href=\"#DejaVuSans-65\" x=\"408.443359\"/>\n       <use xlink:href=\"#DejaVuSans-75\" x=\"469.966797\"/>\n       <use xlink:href=\"#DejaVuSans-6d\" x=\"533.345703\"/>\n      </g>\n     </g>\n    </g>\n    <g id=\"xtick_14\">\n     <g id=\"line2d_45\">\n      <path d=\"M 515.18996 400.32 \nL 515.18996 50.4 \n\" clip-path=\"url(#p02e95a874a)\" style=\"fill: none; stroke: #cbcbcb\"/>\n     </g>\n     <g id=\"line2d_46\"/>\n     <g id=\"text_25\">\n      <!-- dentacoin -->\n      <g transform=\"translate(519.053085 473.288438) rotate(-90) scale(0.14 -0.14)\">\n       <use xlink:href=\"#DejaVuSans-64\"/>\n       <use xlink:href=\"#DejaVuSans-65\" x=\"63.476562\"/>\n       <use xlink:href=\"#DejaVuSans-6e\" x=\"125\"/>\n       <use xlink:href=\"#DejaVuSans-74\" x=\"188.378906\"/>\n       <use xlink:href=\"#DejaVuSans-61\" x=\"227.587891\"/>\n       <use xlink:href=\"#DejaVuSans-63\" x=\"288.867188\"/>\n       <use xlink:href=\"#DejaVuSans-6f\" x=\"343.847656\"/>\n       <use xlink:href=\"#DejaVuSans-69\" x=\"405.029297\"/>\n       <use xlink:href=\"#DejaVuSans-6e\" x=\"432.8125\"/>\n      </g>\n     </g>\n    </g>\n    <g id=\"xtick_15\">\n     <g id=\"line2d_47\">\n      <path d=\"M 543.662688 400.32 \nL 543.662688 50.4 \n\" clip-path=\"url(#p02e95a874a)\" style=\"fill: none; stroke: #cbcbcb\"/>\n     </g>\n     <g id=\"line2d_48\"/>\n     <g id=\"text_26\">\n      <!-- kucoin-shares -->\n      <g transform=\"translate(547.525813 500.531563) rotate(-90) scale(0.14 -0.14)\">\n       <use xlink:href=\"#DejaVuSans-6b\"/>\n       <use xlink:href=\"#DejaVuSans-75\" x=\"54.785156\"/>\n       <use xlink:href=\"#DejaVuSans-63\" x=\"118.164062\"/>\n       <use xlink:href=\"#DejaVuSans-6f\" x=\"173.144531\"/>\n       <use xlink:href=\"#DejaVuSans-69\" x=\"234.326172\"/>\n       <use xlink:href=\"#DejaVuSans-6e\" x=\"262.109375\"/>\n       <use xlink:href=\"#DejaVuSans-2d\" x=\"325.488281\"/>\n       <use xlink:href=\"#DejaVuSans-73\" x=\"361.572266\"/>\n       <use xlink:href=\"#DejaVuSans-68\" x=\"413.671875\"/>\n       <use xlink:href=\"#DejaVuSans-61\" x=\"477.050781\"/>\n       <use xlink:href=\"#DejaVuSans-72\" x=\"538.330078\"/>\n       <use xlink:href=\"#DejaVuSans-65\" x=\"577.193359\"/>\n       <use xlink:href=\"#DejaVuSans-73\" x=\"638.716797\"/>\n      </g>\n     </g>\n    </g>\n    <g id=\"xtick_16\">\n     <g id=\"line2d_49\">\n      <path d=\"M 572.135415 400.32 \nL 572.135415 50.4 \n\" clip-path=\"url(#p02e95a874a)\" style=\"fill: none; stroke: #cbcbcb\"/>\n     </g>\n     <g id=\"line2d_50\"/>\n     <g id=\"text_27\">\n      <!-- bytecoin-bcn -->\n      <g transform=\"translate(575.99854 494.631875) rotate(-90) scale(0.14 -0.14)\">\n       <defs>\n        <path id=\"DejaVuSans-79\" d=\"M 2059 -325 \nQ 1816 -950 1584 -1140 \nQ 1353 -1331 966 -1331 \nL 506 -1331 \nL 506 -850 \nL 844 -850 \nQ 1081 -850 1212 -737 \nQ 1344 -625 1503 -206 \nL 1606 56 \nL 191 3500 \nL 800 3500 \nL 1894 763 \nL 2988 3500 \nL 3597 3500 \nL 2059 -325 \nz\n\" transform=\"scale(0.015625)\"/>\n       </defs>\n       <use xlink:href=\"#DejaVuSans-62\"/>\n       <use xlink:href=\"#DejaVuSans-79\" x=\"63.476562\"/>\n       <use xlink:href=\"#DejaVuSans-74\" x=\"122.65625\"/>\n       <use xlink:href=\"#DejaVuSans-65\" x=\"161.865234\"/>\n       <use xlink:href=\"#DejaVuSans-63\" x=\"223.388672\"/>\n       <use xlink:href=\"#DejaVuSans-6f\" x=\"278.369141\"/>\n       <use xlink:href=\"#DejaVuSans-69\" x=\"339.550781\"/>\n       <use xlink:href=\"#DejaVuSans-6e\" x=\"367.333984\"/>\n       <use xlink:href=\"#DejaVuSans-2d\" x=\"430.712891\"/>\n       <use xlink:href=\"#DejaVuSans-62\" x=\"466.796875\"/>\n       <use xlink:href=\"#DejaVuSans-63\" x=\"530.273438\"/>\n       <use xlink:href=\"#DejaVuSans-6e\" x=\"585.253906\"/>\n      </g>\n     </g>\n    </g>\n    <g id=\"xtick_17\">\n     <g id=\"line2d_51\">\n      <path d=\"M 600.608142 400.32 \nL 600.608142 50.4 \n\" clip-path=\"url(#p02e95a874a)\" style=\"fill: none; stroke: #cbcbcb\"/>\n     </g>\n     <g id=\"line2d_52\"/>\n     <g id=\"text_28\">\n      <!-- siacoin -->\n      <g transform=\"translate(604.471267 452.607813) rotate(-90) scale(0.14 -0.14)\">\n       <use xlink:href=\"#DejaVuSans-73\"/>\n       <use xlink:href=\"#DejaVuSans-69\" x=\"52.099609\"/>\n       <use xlink:href=\"#DejaVuSans-61\" x=\"79.882812\"/>\n       <use xlink:href=\"#DejaVuSans-63\" x=\"141.162109\"/>\n       <use xlink:href=\"#DejaVuSans-6f\" x=\"196.142578\"/>\n       <use xlink:href=\"#DejaVuSans-69\" x=\"257.324219\"/>\n       <use xlink:href=\"#DejaVuSans-6e\" x=\"285.107422\"/>\n      </g>\n     </g>\n    </g>\n    <g id=\"xtick_18\">\n     <g id=\"line2d_53\">\n      <path d=\"M 629.080869 400.32 \nL 629.080869 50.4 \n\" clip-path=\"url(#p02e95a874a)\" style=\"fill: none; stroke: #cbcbcb\"/>\n     </g>\n     <g id=\"line2d_54\"/>\n     <g id=\"text_29\">\n      <!-- kin -->\n      <g transform=\"translate(632.943994 424.68875) rotate(-90) scale(0.14 -0.14)\">\n       <use xlink:href=\"#DejaVuSans-6b\"/>\n       <use xlink:href=\"#DejaVuSans-69\" x=\"57.910156\"/>\n       <use xlink:href=\"#DejaVuSans-6e\" x=\"85.693359\"/>\n      </g>\n     </g>\n    </g>\n    <g id=\"xtick_19\">\n     <g id=\"line2d_55\">\n      <path d=\"M 657.553597 400.32 \nL 657.553597 50.4 \n\" clip-path=\"url(#p02e95a874a)\" style=\"fill: none; stroke: #cbcbcb\"/>\n     </g>\n     <g id=\"line2d_56\"/>\n     <g id=\"text_30\">\n      <!-- digitalnote -->\n      <g transform=\"translate(661.416722 478.873125) rotate(-90) scale(0.14 -0.14)\">\n       <use xlink:href=\"#DejaVuSans-64\"/>\n       <use xlink:href=\"#DejaVuSans-69\" x=\"63.476562\"/>\n       <use xlink:href=\"#DejaVuSans-67\" x=\"91.259766\"/>\n       <use xlink:href=\"#DejaVuSans-69\" x=\"154.736328\"/>\n       <use xlink:href=\"#DejaVuSans-74\" x=\"182.519531\"/>\n       <use xlink:href=\"#DejaVuSans-61\" x=\"221.728516\"/>\n       <use xlink:href=\"#DejaVuSans-6c\" x=\"283.007812\"/>\n       <use xlink:href=\"#DejaVuSans-6e\" x=\"310.791016\"/>\n       <use xlink:href=\"#DejaVuSans-6f\" x=\"374.169922\"/>\n       <use xlink:href=\"#DejaVuSans-74\" x=\"435.351562\"/>\n       <use xlink:href=\"#DejaVuSans-65\" x=\"474.560547\"/>\n      </g>\n     </g>\n    </g>\n    <g id=\"xtick_20\">\n     <g id=\"line2d_57\">\n      <path d=\"M 686.026324 400.32 \nL 686.026324 50.4 \n\" clip-path=\"url(#p02e95a874a)\" style=\"fill: none; stroke: #cbcbcb\"/>\n     </g>\n     <g id=\"line2d_58\"/>\n     <g id=\"text_31\">\n      <!-- paccoin -->\n      <g transform=\"translate(689.889449 458.010938) rotate(-90) scale(0.14 -0.14)\">\n       <use xlink:href=\"#DejaVuSans-70\"/>\n       <use xlink:href=\"#DejaVuSans-61\" x=\"63.476562\"/>\n       <use xlink:href=\"#DejaVuSans-63\" x=\"124.755859\"/>\n       <use xlink:href=\"#DejaVuSans-63\" x=\"179.736328\"/>\n       <use xlink:href=\"#DejaVuSans-6f\" x=\"234.716797\"/>\n       <use xlink:href=\"#DejaVuSans-69\" x=\"295.898438\"/>\n       <use xlink:href=\"#DejaVuSans-6e\" x=\"323.681641\"/>\n      </g>\n     </g>\n    </g>\n    <g id=\"text_32\">\n     <!-- id -->\n     <g transform=\"translate(550.232739 517.296938) scale(0.168 -0.168)\">\n      <use xlink:href=\"#DejaVuSans-69\"/>\n      <use xlink:href=\"#DejaVuSans-64\" x=\"27.783203\"/>\n     </g>\n    </g>\n   </g>\n   <g id=\"matplotlib.axis_4\">\n    <g id=\"ytick_10\">\n     <g id=\"line2d_59\">\n      <path d=\"M 415.535415 400.32 \nL 700.262687 400.32 \n\" clip-path=\"url(#p02e95a874a)\" style=\"fill: none; stroke: #cbcbcb\"/>\n     </g>\n     <g id=\"line2d_60\"/>\n     <g id=\"text_33\">\n      <!-- 0 -->\n      <g transform=\"translate(403.127915 405.638906) scale(0.14 -0.14)\">\n       <use xlink:href=\"#DejaVuSans-30\"/>\n      </g>\n     </g>\n    </g>\n    <g id=\"ytick_11\">\n     <g id=\"line2d_61\">\n      <path d=\"M 415.535415 360.723837 \nL 700.262687 360.723837 \n\" clip-path=\"url(#p02e95a874a)\" style=\"fill: none; stroke: #cbcbcb\"/>\n     </g>\n     <g id=\"line2d_62\"/>\n     <g id=\"text_34\">\n      <!-- 25 -->\n      <g transform=\"translate(394.220415 366.042744) scale(0.14 -0.14)\">\n       <use xlink:href=\"#DejaVuSans-32\"/>\n       <use xlink:href=\"#DejaVuSans-35\" x=\"63.623047\"/>\n      </g>\n     </g>\n    </g>\n    <g id=\"ytick_12\">\n     <g id=\"line2d_63\">\n      <path d=\"M 415.535415 321.127675 \nL 700.262687 321.127675 \n\" clip-path=\"url(#p02e95a874a)\" style=\"fill: none; stroke: #cbcbcb\"/>\n     </g>\n     <g id=\"line2d_64\"/>\n     <g id=\"text_35\">\n      <!-- 50 -->\n      <g transform=\"translate(394.220415 326.446581) scale(0.14 -0.14)\">\n       <use xlink:href=\"#DejaVuSans-35\"/>\n       <use xlink:href=\"#DejaVuSans-30\" x=\"63.623047\"/>\n      </g>\n     </g>\n    </g>\n    <g id=\"ytick_13\">\n     <g id=\"line2d_65\">\n      <path d=\"M 415.535415 281.531512 \nL 700.262687 281.531512 \n\" clip-path=\"url(#p02e95a874a)\" style=\"fill: none; stroke: #cbcbcb\"/>\n     </g>\n     <g id=\"line2d_66\"/>\n     <g id=\"text_36\">\n      <!-- 75 -->\n      <g transform=\"translate(394.220415 286.850418) scale(0.14 -0.14)\">\n       <use xlink:href=\"#DejaVuSans-37\"/>\n       <use xlink:href=\"#DejaVuSans-35\" x=\"63.623047\"/>\n      </g>\n     </g>\n    </g>\n    <g id=\"ytick_14\">\n     <g id=\"line2d_67\">\n      <path d=\"M 415.535415 241.93535 \nL 700.262687 241.93535 \n\" clip-path=\"url(#p02e95a874a)\" style=\"fill: none; stroke: #cbcbcb\"/>\n     </g>\n     <g id=\"line2d_68\"/>\n     <g id=\"text_37\">\n      <!-- 100 -->\n      <g transform=\"translate(385.312915 247.254256) scale(0.14 -0.14)\">\n       <use xlink:href=\"#DejaVuSans-31\"/>\n       <use xlink:href=\"#DejaVuSans-30\" x=\"63.623047\"/>\n       <use xlink:href=\"#DejaVuSans-30\" x=\"127.246094\"/>\n      </g>\n     </g>\n    </g>\n    <g id=\"ytick_15\">\n     <g id=\"line2d_69\">\n      <path d=\"M 415.535415 202.339187 \nL 700.262687 202.339187 \n\" clip-path=\"url(#p02e95a874a)\" style=\"fill: none; stroke: #cbcbcb\"/>\n     </g>\n     <g id=\"line2d_70\"/>\n     <g id=\"text_38\">\n      <!-- 125 -->\n      <g transform=\"translate(385.312915 207.658093) scale(0.14 -0.14)\">\n       <use xlink:href=\"#DejaVuSans-31\"/>\n       <use xlink:href=\"#DejaVuSans-32\" x=\"63.623047\"/>\n       <use xlink:href=\"#DejaVuSans-35\" x=\"127.246094\"/>\n      </g>\n     </g>\n    </g>\n    <g id=\"ytick_16\">\n     <g id=\"line2d_71\">\n      <path d=\"M 415.535415 162.743024 \nL 700.262687 162.743024 \n\" clip-path=\"url(#p02e95a874a)\" style=\"fill: none; stroke: #cbcbcb\"/>\n     </g>\n     <g id=\"line2d_72\"/>\n     <g id=\"text_39\">\n      <!-- 150 -->\n      <g transform=\"translate(385.312915 168.061931) scale(0.14 -0.14)\">\n       <use xlink:href=\"#DejaVuSans-31\"/>\n       <use xlink:href=\"#DejaVuSans-35\" x=\"63.623047\"/>\n       <use xlink:href=\"#DejaVuSans-30\" x=\"127.246094\"/>\n      </g>\n     </g>\n    </g>\n    <g id=\"ytick_17\">\n     <g id=\"line2d_73\">\n      <path d=\"M 415.535415 123.146862 \nL 700.262687 123.146862 \n\" clip-path=\"url(#p02e95a874a)\" style=\"fill: none; stroke: #cbcbcb\"/>\n     </g>\n     <g id=\"line2d_74\"/>\n     <g id=\"text_40\">\n      <!-- 175 -->\n      <g transform=\"translate(385.312915 128.465768) scale(0.14 -0.14)\">\n       <use xlink:href=\"#DejaVuSans-31\"/>\n       <use xlink:href=\"#DejaVuSans-37\" x=\"63.623047\"/>\n       <use xlink:href=\"#DejaVuSans-35\" x=\"127.246094\"/>\n      </g>\n     </g>\n    </g>\n    <g id=\"ytick_18\">\n     <g id=\"line2d_75\">\n      <path d=\"M 415.535415 83.550699 \nL 700.262687 83.550699 \n\" clip-path=\"url(#p02e95a874a)\" style=\"fill: none; stroke: #cbcbcb\"/>\n     </g>\n     <g id=\"line2d_76\"/>\n     <g id=\"text_41\">\n      <!-- 200 -->\n      <g transform=\"translate(385.312915 88.869605) scale(0.14 -0.14)\">\n       <use xlink:href=\"#DejaVuSans-32\"/>\n       <use xlink:href=\"#DejaVuSans-30\" x=\"63.623047\"/>\n       <use xlink:href=\"#DejaVuSans-30\" x=\"127.246094\"/>\n      </g>\n     </g>\n    </g>\n   </g>\n   <g id=\"patch_18\">\n    <path d=\"M 422.653597 400.32 \nL 436.88996 400.32 \nL 436.88996 341.020787 \nL 422.653597 341.020787 \nz\n\" clip-path=\"url(#p02e95a874a)\" style=\"fill: #00008b\"/>\n   </g>\n   <g id=\"patch_19\">\n    <path d=\"M 451.126324 400.32 \nL 465.362688 400.32 \nL 465.362688 324.089468 \nL 451.126324 324.089468 \nz\n\" clip-path=\"url(#p02e95a874a)\" style=\"fill: #00008b\"/>\n   </g>\n   <g id=\"patch_20\">\n    <path d=\"M 479.599051 400.32 \nL 493.835415 400.32 \nL 493.835415 320.494136 \nL 479.599051 320.494136 \nz\n\" clip-path=\"url(#p02e95a874a)\" style=\"fill: #00008b\"/>\n   </g>\n   <g id=\"patch_21\">\n    <path d=\"M 508.071778 400.32 \nL 522.308142 400.32 \nL 522.308142 315.425827 \nL 508.071778 315.425827 \nz\n\" clip-path=\"url(#p02e95a874a)\" style=\"fill: #00008b\"/>\n   </g>\n   <g id=\"patch_22\">\n    <path d=\"M 536.544506 400.32 \nL 550.780869 400.32 \nL 550.780869 311.387019 \nL 536.544506 311.387019 \nz\n\" clip-path=\"url(#p02e95a874a)\" style=\"fill: #00008b\"/>\n   </g>\n   <g id=\"patch_23\">\n    <path d=\"M 565.017233 400.32 \nL 579.253597 400.32 \nL 579.253597 272.218495 \nL 565.017233 272.218495 \nz\n\" clip-path=\"url(#p02e95a874a)\" style=\"fill: #00008b\"/>\n   </g>\n   <g id=\"patch_24\">\n    <path d=\"M 593.48996 400.32 \nL 607.726324 400.32 \nL 607.726324 253.845875 \nL 593.48996 253.845875 \nz\n\" clip-path=\"url(#p02e95a874a)\" style=\"fill: #00008b\"/>\n   </g>\n   <g id=\"patch_25\">\n    <path d=\"M 621.962688 400.32 \nL 636.199051 400.32 \nL 636.199051 191.046361 \nL 621.962688 191.046361 \nz\n\" clip-path=\"url(#p02e95a874a)\" style=\"fill: #00008b\"/>\n   </g>\n   <g id=\"patch_26\">\n    <path d=\"M 650.435415 400.32 \nL 664.671778 400.32 \nL 664.671778 133.014226 \nL 650.435415 133.014226 \nz\n\" clip-path=\"url(#p02e95a874a)\" style=\"fill: #00008b\"/>\n   </g>\n   <g id=\"patch_27\">\n    <path d=\"M 678.908142 400.32 \nL 693.144506 400.32 \nL 693.144506 67.062857 \nL 678.908142 67.062857 \nz\n\" clip-path=\"url(#p02e95a874a)\" style=\"fill: #00008b\"/>\n   </g>\n   <g id=\"patch_28\">\n    <path d=\"M 415.535415 400.32 \nL 415.535415 50.4 \n\" style=\"fill: none; stroke: #f0f0f0; stroke-width: 3; stroke-linejoin: miter; stroke-linecap: square\"/>\n   </g>\n   <g id=\"patch_29\">\n    <path d=\"M 700.262687 400.32 \nL 700.262687 50.4 \n\" style=\"fill: none; stroke: #f0f0f0; stroke-width: 3; stroke-linejoin: miter; stroke-linecap: square\"/>\n   </g>\n   <g id=\"patch_30\">\n    <path d=\"M 415.535415 400.32 \nL 700.262688 400.32 \n\" style=\"fill: none; stroke: #f0f0f0; stroke-width: 3; stroke-linejoin: miter; stroke-linecap: square\"/>\n   </g>\n   <g id=\"patch_31\">\n    <path d=\"M 415.535415 50.4 \nL 700.262688 50.4 \n\" style=\"fill: none; stroke: #f0f0f0; stroke-width: 3; stroke-linejoin: miter; stroke-linecap: square\"/>\n   </g>\n  </g>\n  <g id=\"text_42\">\n   <!-- 24 hours top losers and winners -->\n   <g transform=\"translate(241.345563 19.965375) scale(0.168 -0.168)\">\n    <defs>\n     <path id=\"DejaVuSans-34\" d=\"M 2419 4116 \nL 825 1625 \nL 2419 1625 \nL 2419 4116 \nz\nM 2253 4666 \nL 3047 4666 \nL 3047 1625 \nL 3713 1625 \nL 3713 1100 \nL 3047 1100 \nL 3047 0 \nL 2419 0 \nL 2419 1100 \nL 313 1100 \nL 313 1709 \nL 2253 4666 \nz\n\" transform=\"scale(0.015625)\"/>\n     <path id=\"DejaVuSans-77\" d=\"M 269 3500 \nL 844 3500 \nL 1563 769 \nL 2278 3500 \nL 2956 3500 \nL 3675 769 \nL 4391 3500 \nL 4966 3500 \nL 4050 0 \nL 3372 0 \nL 2619 2869 \nL 1863 0 \nL 1184 0 \nL 269 3500 \nz\n\" transform=\"scale(0.015625)\"/>\n    </defs>\n    <use xlink:href=\"#DejaVuSans-32\"/>\n    <use xlink:href=\"#DejaVuSans-34\" x=\"63.623047\"/>\n    <use xlink:href=\"#DejaVuSans-20\" x=\"127.246094\"/>\n    <use xlink:href=\"#DejaVuSans-68\" x=\"159.033203\"/>\n    <use xlink:href=\"#DejaVuSans-6f\" x=\"222.412109\"/>\n    <use xlink:href=\"#DejaVuSans-75\" x=\"283.59375\"/>\n    <use xlink:href=\"#DejaVuSans-72\" x=\"346.972656\"/>\n    <use xlink:href=\"#DejaVuSans-73\" x=\"388.085938\"/>\n    <use xlink:href=\"#DejaVuSans-20\" x=\"440.185547\"/>\n    <use xlink:href=\"#DejaVuSans-74\" x=\"471.972656\"/>\n    <use xlink:href=\"#DejaVuSans-6f\" x=\"511.181641\"/>\n    <use xlink:href=\"#DejaVuSans-70\" x=\"572.363281\"/>\n    <use xlink:href=\"#DejaVuSans-20\" x=\"635.839844\"/>\n    <use xlink:href=\"#DejaVuSans-6c\" x=\"667.626953\"/>\n    <use xlink:href=\"#DejaVuSans-6f\" x=\"695.410156\"/>\n    <use xlink:href=\"#DejaVuSans-73\" x=\"756.591797\"/>\n    <use xlink:href=\"#DejaVuSans-65\" x=\"808.691406\"/>\n    <use xlink:href=\"#DejaVuSans-72\" x=\"870.214844\"/>\n    <use xlink:href=\"#DejaVuSans-73\" x=\"911.328125\"/>\n    <use xlink:href=\"#DejaVuSans-20\" x=\"963.427734\"/>\n    <use xlink:href=\"#DejaVuSans-61\" x=\"995.214844\"/>\n    <use xlink:href=\"#DejaVuSans-6e\" x=\"1056.494141\"/>\n    <use xlink:href=\"#DejaVuSans-64\" x=\"1119.873047\"/>\n    <use xlink:href=\"#DejaVuSans-20\" x=\"1183.349609\"/>\n    <use xlink:href=\"#DejaVuSans-77\" x=\"1215.136719\"/>\n    <use xlink:href=\"#DejaVuSans-69\" x=\"1296.923828\"/>\n    <use xlink:href=\"#DejaVuSans-6e\" x=\"1324.707031\"/>\n    <use xlink:href=\"#DejaVuSans-6e\" x=\"1388.085938\"/>\n    <use xlink:href=\"#DejaVuSans-65\" x=\"1451.464844\"/>\n    <use xlink:href=\"#DejaVuSans-72\" x=\"1512.988281\"/>\n    <use xlink:href=\"#DejaVuSans-73\" x=\"1554.101562\"/>\n   </g>\n  </g>\n </g>\n <defs>\n  <clipPath id=\"p3ebed5fdfc\">\n   <rect x=\"73.862688\" y=\"50.4\" width=\"284.727273\" height=\"349.92\"/>\n  </clipPath>\n  <clipPath id=\"p02e95a874a\">\n   <rect x=\"415.535415\" y=\"50.4\" width=\"284.727273\" height=\"349.92\"/>\n  </clipPath>\n </defs>\n</svg>\n"
          },
          "metadata": {}
        }
      ],
      "source": [
        "#Defining a function with 2 parameters, the series to plot and the title\n",
        "def top10_subplot(volatility_series, title):\n",
        "    # Making the subplot and the figure for two side by side plots\n",
        "    fig, axes = plt.subplots(nrows=1, ncols=2, figsize=(10, 6))\n",
        "\n",
        "    # Plotting with pandas the barchart for the top 10 losers\n",
        "    ax = (volatility_series[:10].plot.bar(color = 'darkred', ax = axes[0]))\n",
        "\n",
        "    # Setting the figure's main title to the text passed as parameter\n",
        "    # ... YOUR CODE FOR TASK 7 ...\n",
        "    fig.suptitle(title)\n",
        "    # Setting the ylabel to '% change'\n",
        "    # ... YOUR CODE FOR TASK 7 ...\n",
        "    ax.set_ylabel('% change')\n",
        "    # Same as above, but for the top 10 winners\n",
        "    ax = (volatility_series[-10:].plot.bar(color = 'darkblue', ax = axes[1]))\n",
        "\n",
        "    # Returning this for good practice, might use later\n",
        "    return fig, ax\n",
        "\n",
        "DTITLE = \"24 hours top losers and winners\"\n",
        "\n",
        "# Calling the function above with the 24 hours period series and title DTITLE\n",
        "fig, ax = top10_subplot(volatility.percent_change_24h, DTITLE)"
      ],
      "cell_type": "code",
      "execution_count": null
    },
    {
      "metadata": {
        "trusted": true,
        "tags": [
          "sample_code"
        ],
        "dc": {
          "key": "53"
        },
        "colab": {
          "base_uri": "https://localhost:8080/",
          "height": 764
        },
        "id": "42tfk92Ic-r9",
        "outputId": "5edfa50d-7d8f-4483-c99d-b7f9a54a52b0"
      },
      "outputs": [
        {
          "output_type": "display_data",
          "data": {
            "text/plain": [
              "<Figure size 1000x600 with 2 Axes>"
            ],
            "image/svg+xml": "<?xml version=\"1.0\" encoding=\"utf-8\" standalone=\"no\"?>\n<!DOCTYPE svg PUBLIC \"-//W3C//DTD SVG 1.1//EN\"\n  \"http://www.w3.org/Graphics/SVG/1.1/DTD/svg11.dtd\">\n<svg xmlns:xlink=\"http://www.w3.org/1999/xlink\" width=\"707.462688pt\" height=\"556.92925pt\" viewBox=\"0 0 707.462688 556.92925\" xmlns=\"http://www.w3.org/2000/svg\" version=\"1.1\">\n <metadata>\n  <rdf:RDF xmlns:dc=\"http://purl.org/dc/elements/1.1/\" xmlns:cc=\"http://creativecommons.org/ns#\" xmlns:rdf=\"http://www.w3.org/1999/02/22-rdf-syntax-ns#\">\n   <cc:Work>\n    <dc:type rdf:resource=\"http://purl.org/dc/dcmitype/StillImage\"/>\n    <dc:date>2024-04-19T09:46:18.674493</dc:date>\n    <dc:format>image/svg+xml</dc:format>\n    <dc:creator>\n     <cc:Agent>\n      <dc:title>Matplotlib v3.7.1, https://matplotlib.org/</dc:title>\n     </cc:Agent>\n    </dc:creator>\n   </cc:Work>\n  </rdf:RDF>\n </metadata>\n <defs>\n  <style type=\"text/css\">*{stroke-linejoin: round; stroke-linecap: butt}</style>\n </defs>\n <g id=\"figure_1\">\n  <g id=\"patch_1\">\n   <path d=\"M 0 556.92925 \nL 707.462688 556.92925 \nL 707.462688 -0 \nL 0 -0 \nz\n\" style=\"fill: #f0f0f0\"/>\n  </g>\n  <g id=\"axes_1\">\n   <g id=\"patch_2\">\n    <path d=\"M 73.862688 400.32 \nL 358.58996 400.32 \nL 358.58996 50.4 \nL 73.862688 50.4 \nz\n\" style=\"fill: #f0f0f0\"/>\n   </g>\n   <g id=\"matplotlib.axis_1\">\n    <g id=\"xtick_1\">\n     <g id=\"line2d_1\">\n      <path d=\"M 88.099051 400.32 \nL 88.099051 50.4 \n\" clip-path=\"url(#pdd08f3a698)\" style=\"fill: none; stroke: #cbcbcb\"/>\n     </g>\n     <g id=\"line2d_2\"/>\n     <g id=\"text_1\">\n      <!-- monacoin -->\n      <g transform=\"translate(91.962176 472.500937) rotate(-90) scale(0.14 -0.14)\">\n       <defs>\n        <path id=\"DejaVuSans-6d\" d=\"M 3328 2828 \nQ 3544 3216 3844 3400 \nQ 4144 3584 4550 3584 \nQ 5097 3584 5394 3201 \nQ 5691 2819 5691 2113 \nL 5691 0 \nL 5113 0 \nL 5113 2094 \nQ 5113 2597 4934 2840 \nQ 4756 3084 4391 3084 \nQ 3944 3084 3684 2787 \nQ 3425 2491 3425 1978 \nL 3425 0 \nL 2847 0 \nL 2847 2094 \nQ 2847 2600 2669 2842 \nQ 2491 3084 2119 3084 \nQ 1678 3084 1418 2786 \nQ 1159 2488 1159 1978 \nL 1159 0 \nL 581 0 \nL 581 3500 \nL 1159 3500 \nL 1159 2956 \nQ 1356 3278 1631 3431 \nQ 1906 3584 2284 3584 \nQ 2666 3584 2933 3390 \nQ 3200 3197 3328 2828 \nz\n\" transform=\"scale(0.015625)\"/>\n        <path id=\"DejaVuSans-6f\" d=\"M 1959 3097 \nQ 1497 3097 1228 2736 \nQ 959 2375 959 1747 \nQ 959 1119 1226 758 \nQ 1494 397 1959 397 \nQ 2419 397 2687 759 \nQ 2956 1122 2956 1747 \nQ 2956 2369 2687 2733 \nQ 2419 3097 1959 3097 \nz\nM 1959 3584 \nQ 2709 3584 3137 3096 \nQ 3566 2609 3566 1747 \nQ 3566 888 3137 398 \nQ 2709 -91 1959 -91 \nQ 1206 -91 779 398 \nQ 353 888 353 1747 \nQ 353 2609 779 3096 \nQ 1206 3584 1959 3584 \nz\n\" transform=\"scale(0.015625)\"/>\n        <path id=\"DejaVuSans-6e\" d=\"M 3513 2113 \nL 3513 0 \nL 2938 0 \nL 2938 2094 \nQ 2938 2591 2744 2837 \nQ 2550 3084 2163 3084 \nQ 1697 3084 1428 2787 \nQ 1159 2491 1159 1978 \nL 1159 0 \nL 581 0 \nL 581 3500 \nL 1159 3500 \nL 1159 2956 \nQ 1366 3272 1645 3428 \nQ 1925 3584 2291 3584 \nQ 2894 3584 3203 3211 \nQ 3513 2838 3513 2113 \nz\n\" transform=\"scale(0.015625)\"/>\n        <path id=\"DejaVuSans-61\" d=\"M 2194 1759 \nQ 1497 1759 1228 1600 \nQ 959 1441 959 1056 \nQ 959 750 1161 570 \nQ 1363 391 1709 391 \nQ 2188 391 2477 730 \nQ 2766 1069 2766 1631 \nL 2766 1759 \nL 2194 1759 \nz\nM 3341 1997 \nL 3341 0 \nL 2766 0 \nL 2766 531 \nQ 2569 213 2275 61 \nQ 1981 -91 1556 -91 \nQ 1019 -91 701 211 \nQ 384 513 384 1019 \nQ 384 1609 779 1909 \nQ 1175 2209 1959 2209 \nL 2766 2209 \nL 2766 2266 \nQ 2766 2663 2505 2880 \nQ 2244 3097 1772 3097 \nQ 1472 3097 1187 3025 \nQ 903 2953 641 2809 \nL 641 3341 \nQ 956 3463 1253 3523 \nQ 1550 3584 1831 3584 \nQ 2591 3584 2966 3190 \nQ 3341 2797 3341 1997 \nz\n\" transform=\"scale(0.015625)\"/>\n        <path id=\"DejaVuSans-63\" d=\"M 3122 3366 \nL 3122 2828 \nQ 2878 2963 2633 3030 \nQ 2388 3097 2138 3097 \nQ 1578 3097 1268 2742 \nQ 959 2388 959 1747 \nQ 959 1106 1268 751 \nQ 1578 397 2138 397 \nQ 2388 397 2633 464 \nQ 2878 531 3122 666 \nL 3122 134 \nQ 2881 22 2623 -34 \nQ 2366 -91 2075 -91 \nQ 1284 -91 818 406 \nQ 353 903 353 1747 \nQ 353 2603 823 3093 \nQ 1294 3584 2113 3584 \nQ 2378 3584 2631 3529 \nQ 2884 3475 3122 3366 \nz\n\" transform=\"scale(0.015625)\"/>\n        <path id=\"DejaVuSans-69\" d=\"M 603 3500 \nL 1178 3500 \nL 1178 0 \nL 603 0 \nL 603 3500 \nz\nM 603 4863 \nL 1178 4863 \nL 1178 4134 \nL 603 4134 \nL 603 4863 \nz\n\" transform=\"scale(0.015625)\"/>\n       </defs>\n       <use xlink:href=\"#DejaVuSans-6d\"/>\n       <use xlink:href=\"#DejaVuSans-6f\" x=\"97.412109\"/>\n       <use xlink:href=\"#DejaVuSans-6e\" x=\"158.59375\"/>\n       <use xlink:href=\"#DejaVuSans-61\" x=\"221.972656\"/>\n       <use xlink:href=\"#DejaVuSans-63\" x=\"283.251953\"/>\n       <use xlink:href=\"#DejaVuSans-6f\" x=\"338.232422\"/>\n       <use xlink:href=\"#DejaVuSans-69\" x=\"399.414062\"/>\n       <use xlink:href=\"#DejaVuSans-6e\" x=\"427.197266\"/>\n      </g>\n     </g>\n    </g>\n    <g id=\"xtick_2\">\n     <g id=\"line2d_3\">\n      <path d=\"M 116.571778 400.32 \nL 116.571778 50.4 \n\" clip-path=\"url(#pdd08f3a698)\" style=\"fill: none; stroke: #cbcbcb\"/>\n     </g>\n     <g id=\"line2d_4\"/>\n     <g id=\"text_2\">\n      <!-- hshare -->\n      <g transform=\"translate(120.434903 451.492187) rotate(-90) scale(0.14 -0.14)\">\n       <defs>\n        <path id=\"DejaVuSans-68\" d=\"M 3513 2113 \nL 3513 0 \nL 2938 0 \nL 2938 2094 \nQ 2938 2591 2744 2837 \nQ 2550 3084 2163 3084 \nQ 1697 3084 1428 2787 \nQ 1159 2491 1159 1978 \nL 1159 0 \nL 581 0 \nL 581 4863 \nL 1159 4863 \nL 1159 2956 \nQ 1366 3272 1645 3428 \nQ 1925 3584 2291 3584 \nQ 2894 3584 3203 3211 \nQ 3513 2838 3513 2113 \nz\n\" transform=\"scale(0.015625)\"/>\n        <path id=\"DejaVuSans-73\" d=\"M 2834 3397 \nL 2834 2853 \nQ 2591 2978 2328 3040 \nQ 2066 3103 1784 3103 \nQ 1356 3103 1142 2972 \nQ 928 2841 928 2578 \nQ 928 2378 1081 2264 \nQ 1234 2150 1697 2047 \nL 1894 2003 \nQ 2506 1872 2764 1633 \nQ 3022 1394 3022 966 \nQ 3022 478 2636 193 \nQ 2250 -91 1575 -91 \nQ 1294 -91 989 -36 \nQ 684 19 347 128 \nL 347 722 \nQ 666 556 975 473 \nQ 1284 391 1588 391 \nQ 1994 391 2212 530 \nQ 2431 669 2431 922 \nQ 2431 1156 2273 1281 \nQ 2116 1406 1581 1522 \nL 1381 1569 \nQ 847 1681 609 1914 \nQ 372 2147 372 2553 \nQ 372 3047 722 3315 \nQ 1072 3584 1716 3584 \nQ 2034 3584 2315 3537 \nQ 2597 3491 2834 3397 \nz\n\" transform=\"scale(0.015625)\"/>\n        <path id=\"DejaVuSans-72\" d=\"M 2631 2963 \nQ 2534 3019 2420 3045 \nQ 2306 3072 2169 3072 \nQ 1681 3072 1420 2755 \nQ 1159 2438 1159 1844 \nL 1159 0 \nL 581 0 \nL 581 3500 \nL 1159 3500 \nL 1159 2956 \nQ 1341 3275 1631 3429 \nQ 1922 3584 2338 3584 \nQ 2397 3584 2469 3576 \nQ 2541 3569 2628 3553 \nL 2631 2963 \nz\n\" transform=\"scale(0.015625)\"/>\n        <path id=\"DejaVuSans-65\" d=\"M 3597 1894 \nL 3597 1613 \nL 953 1613 \nQ 991 1019 1311 708 \nQ 1631 397 2203 397 \nQ 2534 397 2845 478 \nQ 3156 559 3463 722 \nL 3463 178 \nQ 3153 47 2828 -22 \nQ 2503 -91 2169 -91 \nQ 1331 -91 842 396 \nQ 353 884 353 1716 \nQ 353 2575 817 3079 \nQ 1281 3584 2069 3584 \nQ 2775 3584 3186 3129 \nQ 3597 2675 3597 1894 \nz\nM 3022 2063 \nQ 3016 2534 2758 2815 \nQ 2500 3097 2075 3097 \nQ 1594 3097 1305 2825 \nQ 1016 2553 972 2059 \nL 3022 2063 \nz\n\" transform=\"scale(0.015625)\"/>\n       </defs>\n       <use xlink:href=\"#DejaVuSans-68\"/>\n       <use xlink:href=\"#DejaVuSans-73\" x=\"63.378906\"/>\n       <use xlink:href=\"#DejaVuSans-68\" x=\"115.478516\"/>\n       <use xlink:href=\"#DejaVuSans-61\" x=\"178.857422\"/>\n       <use xlink:href=\"#DejaVuSans-72\" x=\"240.136719\"/>\n       <use xlink:href=\"#DejaVuSans-65\" x=\"279\"/>\n      </g>\n     </g>\n    </g>\n    <g id=\"xtick_3\">\n     <g id=\"line2d_5\">\n      <path d=\"M 145.044506 400.32 \nL 145.044506 50.4 \n\" clip-path=\"url(#pdd08f3a698)\" style=\"fill: none; stroke: #cbcbcb\"/>\n     </g>\n     <g id=\"line2d_6\"/>\n     <g id=\"text_3\">\n      <!-- wax -->\n      <g transform=\"translate(148.907631 432.135) rotate(-90) scale(0.14 -0.14)\">\n       <defs>\n        <path id=\"DejaVuSans-77\" d=\"M 269 3500 \nL 844 3500 \nL 1563 769 \nL 2278 3500 \nL 2956 3500 \nL 3675 769 \nL 4391 3500 \nL 4966 3500 \nL 4050 0 \nL 3372 0 \nL 2619 2869 \nL 1863 0 \nL 1184 0 \nL 269 3500 \nz\n\" transform=\"scale(0.015625)\"/>\n        <path id=\"DejaVuSans-78\" d=\"M 3513 3500 \nL 2247 1797 \nL 3578 0 \nL 2900 0 \nL 1881 1375 \nL 863 0 \nL 184 0 \nL 1544 1831 \nL 300 3500 \nL 978 3500 \nL 1906 2253 \nL 2834 3500 \nL 3513 3500 \nz\n\" transform=\"scale(0.015625)\"/>\n       </defs>\n       <use xlink:href=\"#DejaVuSans-77\"/>\n       <use xlink:href=\"#DejaVuSans-61\" x=\"81.787109\"/>\n       <use xlink:href=\"#DejaVuSans-78\" x=\"143.066406\"/>\n      </g>\n     </g>\n    </g>\n    <g id=\"xtick_4\">\n     <g id=\"line2d_7\">\n      <path d=\"M 173.517233 400.32 \nL 173.517233 50.4 \n\" clip-path=\"url(#pdd08f3a698)\" style=\"fill: none; stroke: #cbcbcb\"/>\n     </g>\n     <g id=\"line2d_8\"/>\n     <g id=\"text_4\">\n      <!-- salt -->\n      <g transform=\"translate(177.380358 429.070312) rotate(-90) scale(0.14 -0.14)\">\n       <defs>\n        <path id=\"DejaVuSans-6c\" d=\"M 603 4863 \nL 1178 4863 \nL 1178 0 \nL 603 0 \nL 603 4863 \nz\n\" transform=\"scale(0.015625)\"/>\n        <path id=\"DejaVuSans-74\" d=\"M 1172 4494 \nL 1172 3500 \nL 2356 3500 \nL 2356 3053 \nL 1172 3053 \nL 1172 1153 \nQ 1172 725 1289 603 \nQ 1406 481 1766 481 \nL 2356 481 \nL 2356 0 \nL 1766 0 \nQ 1100 0 847 248 \nQ 594 497 594 1153 \nL 594 3053 \nL 172 3053 \nL 172 3500 \nL 594 3500 \nL 594 4494 \nL 1172 4494 \nz\n\" transform=\"scale(0.015625)\"/>\n       </defs>\n       <use xlink:href=\"#DejaVuSans-73\"/>\n       <use xlink:href=\"#DejaVuSans-61\" x=\"52.099609\"/>\n       <use xlink:href=\"#DejaVuSans-6c\" x=\"113.378906\"/>\n       <use xlink:href=\"#DejaVuSans-74\" x=\"141.162109\"/>\n      </g>\n     </g>\n    </g>\n    <g id=\"xtick_5\">\n     <g id=\"line2d_9\">\n      <path d=\"M 201.98996 400.32 \nL 201.98996 50.4 \n\" clip-path=\"url(#pdd08f3a698)\" style=\"fill: none; stroke: #cbcbcb\"/>\n     </g>\n     <g id=\"line2d_10\"/>\n     <g id=\"text_5\">\n      <!-- komodo -->\n      <g transform=\"translate(205.853085 459.642812) rotate(-90) scale(0.14 -0.14)\">\n       <defs>\n        <path id=\"DejaVuSans-6b\" d=\"M 581 4863 \nL 1159 4863 \nL 1159 1991 \nL 2875 3500 \nL 3609 3500 \nL 1753 1863 \nL 3688 0 \nL 2938 0 \nL 1159 1709 \nL 1159 0 \nL 581 0 \nL 581 4863 \nz\n\" transform=\"scale(0.015625)\"/>\n        <path id=\"DejaVuSans-64\" d=\"M 2906 2969 \nL 2906 4863 \nL 3481 4863 \nL 3481 0 \nL 2906 0 \nL 2906 525 \nQ 2725 213 2448 61 \nQ 2172 -91 1784 -91 \nQ 1150 -91 751 415 \nQ 353 922 353 1747 \nQ 353 2572 751 3078 \nQ 1150 3584 1784 3584 \nQ 2172 3584 2448 3432 \nQ 2725 3281 2906 2969 \nz\nM 947 1747 \nQ 947 1113 1208 752 \nQ 1469 391 1925 391 \nQ 2381 391 2643 752 \nQ 2906 1113 2906 1747 \nQ 2906 2381 2643 2742 \nQ 2381 3103 1925 3103 \nQ 1469 3103 1208 2742 \nQ 947 2381 947 1747 \nz\n\" transform=\"scale(0.015625)\"/>\n       </defs>\n       <use xlink:href=\"#DejaVuSans-6b\"/>\n       <use xlink:href=\"#DejaVuSans-6f\" x=\"54.285156\"/>\n       <use xlink:href=\"#DejaVuSans-6d\" x=\"115.466797\"/>\n       <use xlink:href=\"#DejaVuSans-6f\" x=\"212.878906\"/>\n       <use xlink:href=\"#DejaVuSans-64\" x=\"274.060547\"/>\n       <use xlink:href=\"#DejaVuSans-6f\" x=\"337.537109\"/>\n      </g>\n     </g>\n    </g>\n    <g id=\"xtick_6\">\n     <g id=\"line2d_11\">\n      <path d=\"M 230.462688 400.32 \nL 230.462688 50.4 \n\" clip-path=\"url(#pdd08f3a698)\" style=\"fill: none; stroke: #cbcbcb\"/>\n     </g>\n     <g id=\"line2d_12\"/>\n     <g id=\"text_6\">\n      <!-- tether -->\n      <g transform=\"translate(234.325813 446.653437) rotate(-90) scale(0.14 -0.14)\">\n       <use xlink:href=\"#DejaVuSans-74\"/>\n       <use xlink:href=\"#DejaVuSans-65\" x=\"39.208984\"/>\n       <use xlink:href=\"#DejaVuSans-74\" x=\"100.732422\"/>\n       <use xlink:href=\"#DejaVuSans-68\" x=\"139.941406\"/>\n       <use xlink:href=\"#DejaVuSans-65\" x=\"203.320312\"/>\n       <use xlink:href=\"#DejaVuSans-72\" x=\"264.84375\"/>\n      </g>\n     </g>\n    </g>\n    <g id=\"xtick_7\">\n     <g id=\"line2d_13\">\n      <path d=\"M 258.935415 400.32 \nL 258.935415 50.4 \n\" clip-path=\"url(#pdd08f3a698)\" style=\"fill: none; stroke: #cbcbcb\"/>\n     </g>\n     <g id=\"line2d_14\"/>\n     <g id=\"text_7\">\n      <!-- syscoin -->\n      <g transform=\"translate(262.79854 455.718437) rotate(-90) scale(0.14 -0.14)\">\n       <defs>\n        <path id=\"DejaVuSans-79\" d=\"M 2059 -325 \nQ 1816 -950 1584 -1140 \nQ 1353 -1331 966 -1331 \nL 506 -1331 \nL 506 -850 \nL 844 -850 \nQ 1081 -850 1212 -737 \nQ 1344 -625 1503 -206 \nL 1606 56 \nL 191 3500 \nL 800 3500 \nL 1894 763 \nL 2988 3500 \nL 3597 3500 \nL 2059 -325 \nz\n\" transform=\"scale(0.015625)\"/>\n       </defs>\n       <use xlink:href=\"#DejaVuSans-73\"/>\n       <use xlink:href=\"#DejaVuSans-79\" x=\"52.099609\"/>\n       <use xlink:href=\"#DejaVuSans-73\" x=\"111.279297\"/>\n       <use xlink:href=\"#DejaVuSans-63\" x=\"163.378906\"/>\n       <use xlink:href=\"#DejaVuSans-6f\" x=\"218.359375\"/>\n       <use xlink:href=\"#DejaVuSans-69\" x=\"279.541016\"/>\n       <use xlink:href=\"#DejaVuSans-6e\" x=\"307.324219\"/>\n      </g>\n     </g>\n    </g>\n    <g id=\"xtick_8\">\n     <g id=\"line2d_15\">\n      <path d=\"M 287.408142 400.32 \nL 287.408142 50.4 \n\" clip-path=\"url(#pdd08f3a698)\" style=\"fill: none; stroke: #cbcbcb\"/>\n     </g>\n     <g id=\"line2d_16\"/>\n     <g id=\"text_8\">\n      <!-- zcoin -->\n      <g transform=\"translate(291.271267 440.19375) rotate(-90) scale(0.14 -0.14)\">\n       <defs>\n        <path id=\"DejaVuSans-7a\" d=\"M 353 3500 \nL 3084 3500 \nL 3084 2975 \nL 922 459 \nL 3084 459 \nL 3084 0 \nL 275 0 \nL 275 525 \nL 2438 3041 \nL 353 3041 \nL 353 3500 \nz\n\" transform=\"scale(0.015625)\"/>\n       </defs>\n       <use xlink:href=\"#DejaVuSans-7a\"/>\n       <use xlink:href=\"#DejaVuSans-63\" x=\"52.490234\"/>\n       <use xlink:href=\"#DejaVuSans-6f\" x=\"107.470703\"/>\n       <use xlink:href=\"#DejaVuSans-69\" x=\"168.652344\"/>\n       <use xlink:href=\"#DejaVuSans-6e\" x=\"196.435547\"/>\n      </g>\n     </g>\n    </g>\n    <g id=\"xtick_9\">\n     <g id=\"line2d_17\">\n      <path d=\"M 315.880869 400.32 \nL 315.880869 50.4 \n\" clip-path=\"url(#pdd08f3a698)\" style=\"fill: none; stroke: #cbcbcb\"/>\n     </g>\n     <g id=\"line2d_18\"/>\n     <g id=\"text_9\">\n      <!-- waves -->\n      <g transform=\"translate(319.743994 448.0425) rotate(-90) scale(0.14 -0.14)\">\n       <defs>\n        <path id=\"DejaVuSans-76\" d=\"M 191 3500 \nL 800 3500 \nL 1894 563 \nL 2988 3500 \nL 3597 3500 \nL 2284 0 \nL 1503 0 \nL 191 3500 \nz\n\" transform=\"scale(0.015625)\"/>\n       </defs>\n       <use xlink:href=\"#DejaVuSans-77\"/>\n       <use xlink:href=\"#DejaVuSans-61\" x=\"81.787109\"/>\n       <use xlink:href=\"#DejaVuSans-76\" x=\"143.066406\"/>\n       <use xlink:href=\"#DejaVuSans-65\" x=\"202.246094\"/>\n       <use xlink:href=\"#DejaVuSans-73\" x=\"263.769531\"/>\n      </g>\n     </g>\n    </g>\n    <g id=\"xtick_10\">\n     <g id=\"line2d_19\">\n      <path d=\"M 344.353597 400.32 \nL 344.353597 50.4 \n\" clip-path=\"url(#pdd08f3a698)\" style=\"fill: none; stroke: #cbcbcb\"/>\n     </g>\n     <g id=\"line2d_20\"/>\n     <g id=\"text_10\">\n      <!-- bitconnect -->\n      <g transform=\"translate(348.216722 477.895312) rotate(-90) scale(0.14 -0.14)\">\n       <defs>\n        <path id=\"DejaVuSans-62\" d=\"M 3116 1747 \nQ 3116 2381 2855 2742 \nQ 2594 3103 2138 3103 \nQ 1681 3103 1420 2742 \nQ 1159 2381 1159 1747 \nQ 1159 1113 1420 752 \nQ 1681 391 2138 391 \nQ 2594 391 2855 752 \nQ 3116 1113 3116 1747 \nz\nM 1159 2969 \nQ 1341 3281 1617 3432 \nQ 1894 3584 2278 3584 \nQ 2916 3584 3314 3078 \nQ 3713 2572 3713 1747 \nQ 3713 922 3314 415 \nQ 2916 -91 2278 -91 \nQ 1894 -91 1617 61 \nQ 1341 213 1159 525 \nL 1159 0 \nL 581 0 \nL 581 4863 \nL 1159 4863 \nL 1159 2969 \nz\n\" transform=\"scale(0.015625)\"/>\n       </defs>\n       <use xlink:href=\"#DejaVuSans-62\"/>\n       <use xlink:href=\"#DejaVuSans-69\" x=\"63.476562\"/>\n       <use xlink:href=\"#DejaVuSans-74\" x=\"91.259766\"/>\n       <use xlink:href=\"#DejaVuSans-63\" x=\"130.46875\"/>\n       <use xlink:href=\"#DejaVuSans-6f\" x=\"185.449219\"/>\n       <use xlink:href=\"#DejaVuSans-6e\" x=\"246.630859\"/>\n       <use xlink:href=\"#DejaVuSans-6e\" x=\"310.009766\"/>\n       <use xlink:href=\"#DejaVuSans-65\" x=\"373.388672\"/>\n       <use xlink:href=\"#DejaVuSans-63\" x=\"434.912109\"/>\n       <use xlink:href=\"#DejaVuSans-74\" x=\"489.892578\"/>\n      </g>\n     </g>\n    </g>\n    <g id=\"text_11\">\n     <!-- id -->\n     <g transform=\"translate(208.560011 494.660687) scale(0.168 -0.168)\">\n      <use xlink:href=\"#DejaVuSans-69\"/>\n      <use xlink:href=\"#DejaVuSans-64\" x=\"27.783203\"/>\n     </g>\n    </g>\n   </g>\n   <g id=\"matplotlib.axis_2\">\n    <g id=\"ytick_1\">\n     <g id=\"line2d_21\">\n      <path d=\"M 73.862688 365.732492 \nL 358.58996 365.732492 \n\" clip-path=\"url(#pdd08f3a698)\" style=\"fill: none; stroke: #cbcbcb\"/>\n     </g>\n     <g id=\"line2d_22\"/>\n     <g id=\"text_12\">\n      <!-- −15.0 -->\n      <g transform=\"translate(27.45925 371.051398) scale(0.14 -0.14)\">\n       <defs>\n        <path id=\"DejaVuSans-2212\" d=\"M 678 2272 \nL 4684 2272 \nL 4684 1741 \nL 678 1741 \nL 678 2272 \nz\n\" transform=\"scale(0.015625)\"/>\n        <path id=\"DejaVuSans-31\" d=\"M 794 531 \nL 1825 531 \nL 1825 4091 \nL 703 3866 \nL 703 4441 \nL 1819 4666 \nL 2450 4666 \nL 2450 531 \nL 3481 531 \nL 3481 0 \nL 794 0 \nL 794 531 \nz\n\" transform=\"scale(0.015625)\"/>\n        <path id=\"DejaVuSans-35\" d=\"M 691 4666 \nL 3169 4666 \nL 3169 4134 \nL 1269 4134 \nL 1269 2991 \nQ 1406 3038 1543 3061 \nQ 1681 3084 1819 3084 \nQ 2600 3084 3056 2656 \nQ 3513 2228 3513 1497 \nQ 3513 744 3044 326 \nQ 2575 -91 1722 -91 \nQ 1428 -91 1123 -41 \nQ 819 9 494 109 \nL 494 744 \nQ 775 591 1075 516 \nQ 1375 441 1709 441 \nQ 2250 441 2565 725 \nQ 2881 1009 2881 1497 \nQ 2881 1984 2565 2268 \nQ 2250 2553 1709 2553 \nQ 1456 2553 1204 2497 \nQ 953 2441 691 2322 \nL 691 4666 \nz\n\" transform=\"scale(0.015625)\"/>\n        <path id=\"DejaVuSans-2e\" d=\"M 684 794 \nL 1344 794 \nL 1344 0 \nL 684 0 \nL 684 794 \nz\n\" transform=\"scale(0.015625)\"/>\n        <path id=\"DejaVuSans-30\" d=\"M 2034 4250 \nQ 1547 4250 1301 3770 \nQ 1056 3291 1056 2328 \nQ 1056 1369 1301 889 \nQ 1547 409 2034 409 \nQ 2525 409 2770 889 \nQ 3016 1369 3016 2328 \nQ 3016 3291 2770 3770 \nQ 2525 4250 2034 4250 \nz\nM 2034 4750 \nQ 2819 4750 3233 4129 \nQ 3647 3509 3647 2328 \nQ 3647 1150 3233 529 \nQ 2819 -91 2034 -91 \nQ 1250 -91 836 529 \nQ 422 1150 422 2328 \nQ 422 3509 836 4129 \nQ 1250 4750 2034 4750 \nz\n\" transform=\"scale(0.015625)\"/>\n       </defs>\n       <use xlink:href=\"#DejaVuSans-2212\"/>\n       <use xlink:href=\"#DejaVuSans-31\" x=\"83.789062\"/>\n       <use xlink:href=\"#DejaVuSans-35\" x=\"147.412109\"/>\n       <use xlink:href=\"#DejaVuSans-2e\" x=\"211.035156\"/>\n       <use xlink:href=\"#DejaVuSans-30\" x=\"242.822266\"/>\n      </g>\n     </g>\n    </g>\n    <g id=\"ytick_2\">\n     <g id=\"line2d_23\">\n      <path d=\"M 73.862688 322.883746 \nL 358.58996 322.883746 \n\" clip-path=\"url(#pdd08f3a698)\" style=\"fill: none; stroke: #cbcbcb\"/>\n     </g>\n     <g id=\"line2d_24\"/>\n     <g id=\"text_13\">\n      <!-- −12.5 -->\n      <g transform=\"translate(27.45925 328.202652) scale(0.14 -0.14)\">\n       <defs>\n        <path id=\"DejaVuSans-32\" d=\"M 1228 531 \nL 3431 531 \nL 3431 0 \nL 469 0 \nL 469 531 \nQ 828 903 1448 1529 \nQ 2069 2156 2228 2338 \nQ 2531 2678 2651 2914 \nQ 2772 3150 2772 3378 \nQ 2772 3750 2511 3984 \nQ 2250 4219 1831 4219 \nQ 1534 4219 1204 4116 \nQ 875 4013 500 3803 \nL 500 4441 \nQ 881 4594 1212 4672 \nQ 1544 4750 1819 4750 \nQ 2544 4750 2975 4387 \nQ 3406 4025 3406 3419 \nQ 3406 3131 3298 2873 \nQ 3191 2616 2906 2266 \nQ 2828 2175 2409 1742 \nQ 1991 1309 1228 531 \nz\n\" transform=\"scale(0.015625)\"/>\n       </defs>\n       <use xlink:href=\"#DejaVuSans-2212\"/>\n       <use xlink:href=\"#DejaVuSans-31\" x=\"83.789062\"/>\n       <use xlink:href=\"#DejaVuSans-32\" x=\"147.412109\"/>\n       <use xlink:href=\"#DejaVuSans-2e\" x=\"211.035156\"/>\n       <use xlink:href=\"#DejaVuSans-35\" x=\"242.822266\"/>\n      </g>\n     </g>\n    </g>\n    <g id=\"ytick_3\">\n     <g id=\"line2d_25\">\n      <path d=\"M 73.862688 280.035 \nL 358.58996 280.035 \n\" clip-path=\"url(#pdd08f3a698)\" style=\"fill: none; stroke: #cbcbcb\"/>\n     </g>\n     <g id=\"line2d_26\"/>\n     <g id=\"text_14\">\n      <!-- −10.0 -->\n      <g transform=\"translate(27.45925 285.353906) scale(0.14 -0.14)\">\n       <use xlink:href=\"#DejaVuSans-2212\"/>\n       <use xlink:href=\"#DejaVuSans-31\" x=\"83.789062\"/>\n       <use xlink:href=\"#DejaVuSans-30\" x=\"147.412109\"/>\n       <use xlink:href=\"#DejaVuSans-2e\" x=\"211.035156\"/>\n       <use xlink:href=\"#DejaVuSans-30\" x=\"242.822266\"/>\n      </g>\n     </g>\n    </g>\n    <g id=\"ytick_4\">\n     <g id=\"line2d_27\">\n      <path d=\"M 73.862688 237.186254 \nL 358.58996 237.186254 \n\" clip-path=\"url(#pdd08f3a698)\" style=\"fill: none; stroke: #cbcbcb\"/>\n     </g>\n     <g id=\"line2d_28\"/>\n     <g id=\"text_15\">\n      <!-- −7.5 -->\n      <g transform=\"translate(36.36675 242.50516) scale(0.14 -0.14)\">\n       <defs>\n        <path id=\"DejaVuSans-37\" d=\"M 525 4666 \nL 3525 4666 \nL 3525 4397 \nL 1831 0 \nL 1172 0 \nL 2766 4134 \nL 525 4134 \nL 525 4666 \nz\n\" transform=\"scale(0.015625)\"/>\n       </defs>\n       <use xlink:href=\"#DejaVuSans-2212\"/>\n       <use xlink:href=\"#DejaVuSans-37\" x=\"83.789062\"/>\n       <use xlink:href=\"#DejaVuSans-2e\" x=\"147.412109\"/>\n       <use xlink:href=\"#DejaVuSans-35\" x=\"179.199219\"/>\n      </g>\n     </g>\n    </g>\n    <g id=\"ytick_5\">\n     <g id=\"line2d_29\">\n      <path d=\"M 73.862688 194.337508 \nL 358.58996 194.337508 \n\" clip-path=\"url(#pdd08f3a698)\" style=\"fill: none; stroke: #cbcbcb\"/>\n     </g>\n     <g id=\"line2d_30\"/>\n     <g id=\"text_16\">\n      <!-- −5.0 -->\n      <g transform=\"translate(36.36675 199.656414) scale(0.14 -0.14)\">\n       <use xlink:href=\"#DejaVuSans-2212\"/>\n       <use xlink:href=\"#DejaVuSans-35\" x=\"83.789062\"/>\n       <use xlink:href=\"#DejaVuSans-2e\" x=\"147.412109\"/>\n       <use xlink:href=\"#DejaVuSans-30\" x=\"179.199219\"/>\n      </g>\n     </g>\n    </g>\n    <g id=\"ytick_6\">\n     <g id=\"line2d_31\">\n      <path d=\"M 73.862688 151.488762 \nL 358.58996 151.488762 \n\" clip-path=\"url(#pdd08f3a698)\" style=\"fill: none; stroke: #cbcbcb\"/>\n     </g>\n     <g id=\"line2d_32\"/>\n     <g id=\"text_17\">\n      <!-- −2.5 -->\n      <g transform=\"translate(36.36675 156.807668) scale(0.14 -0.14)\">\n       <use xlink:href=\"#DejaVuSans-2212\"/>\n       <use xlink:href=\"#DejaVuSans-32\" x=\"83.789062\"/>\n       <use xlink:href=\"#DejaVuSans-2e\" x=\"147.412109\"/>\n       <use xlink:href=\"#DejaVuSans-35\" x=\"179.199219\"/>\n      </g>\n     </g>\n    </g>\n    <g id=\"ytick_7\">\n     <g id=\"line2d_33\">\n      <path d=\"M 73.862688 108.640016 \nL 358.58996 108.640016 \n\" clip-path=\"url(#pdd08f3a698)\" style=\"fill: none; stroke: #cbcbcb\"/>\n     </g>\n     <g id=\"line2d_34\"/>\n     <g id=\"text_18\">\n      <!-- 0.0 -->\n      <g transform=\"translate(48.098313 113.958922) scale(0.14 -0.14)\">\n       <use xlink:href=\"#DejaVuSans-30\"/>\n       <use xlink:href=\"#DejaVuSans-2e\" x=\"63.623047\"/>\n       <use xlink:href=\"#DejaVuSans-30\" x=\"95.410156\"/>\n      </g>\n     </g>\n    </g>\n    <g id=\"ytick_8\">\n     <g id=\"line2d_35\">\n      <path d=\"M 73.862688 65.79127 \nL 358.58996 65.79127 \n\" clip-path=\"url(#pdd08f3a698)\" style=\"fill: none; stroke: #cbcbcb\"/>\n     </g>\n     <g id=\"line2d_36\"/>\n     <g id=\"text_19\">\n      <!-- 2.5 -->\n      <g transform=\"translate(48.098313 71.110176) scale(0.14 -0.14)\">\n       <use xlink:href=\"#DejaVuSans-32\"/>\n       <use xlink:href=\"#DejaVuSans-2e\" x=\"63.623047\"/>\n       <use xlink:href=\"#DejaVuSans-35\" x=\"95.410156\"/>\n      </g>\n     </g>\n    </g>\n    <g id=\"text_20\">\n     <!-- % change -->\n     <g transform=\"translate(19.965375 266.925562) rotate(-90) scale(0.168 -0.168)\">\n      <defs>\n       <path id=\"DejaVuSans-25\" d=\"M 4653 2053 \nQ 4381 2053 4226 1822 \nQ 4072 1591 4072 1178 \nQ 4072 772 4226 539 \nQ 4381 306 4653 306 \nQ 4919 306 5073 539 \nQ 5228 772 5228 1178 \nQ 5228 1588 5073 1820 \nQ 4919 2053 4653 2053 \nz\nM 4653 2450 \nQ 5147 2450 5437 2106 \nQ 5728 1763 5728 1178 \nQ 5728 594 5436 251 \nQ 5144 -91 4653 -91 \nQ 4153 -91 3862 251 \nQ 3572 594 3572 1178 \nQ 3572 1766 3864 2108 \nQ 4156 2450 4653 2450 \nz\nM 1428 4353 \nQ 1159 4353 1004 4120 \nQ 850 3888 850 3481 \nQ 850 3069 1003 2837 \nQ 1156 2606 1428 2606 \nQ 1700 2606 1854 2837 \nQ 2009 3069 2009 3481 \nQ 2009 3884 1853 4118 \nQ 1697 4353 1428 4353 \nz\nM 4250 4750 \nL 4750 4750 \nL 1831 -91 \nL 1331 -91 \nL 4250 4750 \nz\nM 1428 4750 \nQ 1922 4750 2215 4408 \nQ 2509 4066 2509 3481 \nQ 2509 2891 2217 2550 \nQ 1925 2209 1428 2209 \nQ 931 2209 642 2551 \nQ 353 2894 353 3481 \nQ 353 4063 643 4406 \nQ 934 4750 1428 4750 \nz\n\" transform=\"scale(0.015625)\"/>\n       <path id=\"DejaVuSans-20\" transform=\"scale(0.015625)\"/>\n       <path id=\"DejaVuSans-67\" d=\"M 2906 1791 \nQ 2906 2416 2648 2759 \nQ 2391 3103 1925 3103 \nQ 1463 3103 1205 2759 \nQ 947 2416 947 1791 \nQ 947 1169 1205 825 \nQ 1463 481 1925 481 \nQ 2391 481 2648 825 \nQ 2906 1169 2906 1791 \nz\nM 3481 434 \nQ 3481 -459 3084 -895 \nQ 2688 -1331 1869 -1331 \nQ 1566 -1331 1297 -1286 \nQ 1028 -1241 775 -1147 \nL 775 -588 \nQ 1028 -725 1275 -790 \nQ 1522 -856 1778 -856 \nQ 2344 -856 2625 -561 \nQ 2906 -266 2906 331 \nL 2906 616 \nQ 2728 306 2450 153 \nQ 2172 0 1784 0 \nQ 1141 0 747 490 \nQ 353 981 353 1791 \nQ 353 2603 747 3093 \nQ 1141 3584 1784 3584 \nQ 2172 3584 2450 3431 \nQ 2728 3278 2906 2969 \nL 2906 3500 \nL 3481 3500 \nL 3481 434 \nz\n\" transform=\"scale(0.015625)\"/>\n      </defs>\n      <use xlink:href=\"#DejaVuSans-25\"/>\n      <use xlink:href=\"#DejaVuSans-20\" x=\"95.019531\"/>\n      <use xlink:href=\"#DejaVuSans-63\" x=\"126.806641\"/>\n      <use xlink:href=\"#DejaVuSans-68\" x=\"181.787109\"/>\n      <use xlink:href=\"#DejaVuSans-61\" x=\"245.166016\"/>\n      <use xlink:href=\"#DejaVuSans-6e\" x=\"306.445312\"/>\n      <use xlink:href=\"#DejaVuSans-67\" x=\"369.824219\"/>\n      <use xlink:href=\"#DejaVuSans-65\" x=\"433.300781\"/>\n     </g>\n    </g>\n   </g>\n   <g id=\"patch_3\">\n    <path d=\"M 80.980869 108.640016 \nL 95.217233 108.640016 \nL 95.217233 384.414545 \nL 80.980869 384.414545 \nz\n\" clip-path=\"url(#pdd08f3a698)\" style=\"fill: #8b0000\"/>\n   </g>\n   <g id=\"patch_4\">\n    <path d=\"M 109.453597 108.640016 \nL 123.68996 108.640016 \nL 123.68996 327.682806 \nL 109.453597 327.682806 \nz\n\" clip-path=\"url(#pdd08f3a698)\" style=\"fill: #8b0000\"/>\n   </g>\n   <g id=\"patch_5\">\n    <path d=\"M 137.926324 108.640016 \nL 152.162688 108.640016 \nL 152.162688 301.116583 \nL 137.926324 301.116583 \nz\n\" clip-path=\"url(#pdd08f3a698)\" style=\"fill: #8b0000\"/>\n   </g>\n   <g id=\"patch_6\">\n    <path d=\"M 166.399051 108.640016 \nL 180.635415 108.640016 \nL 180.635415 255.525517 \nL 166.399051 255.525517 \nz\n\" clip-path=\"url(#pdd08f3a698)\" style=\"fill: #8b0000\"/>\n   </g>\n   <g id=\"patch_7\">\n    <path d=\"M 194.871778 108.640016 \nL 209.108142 108.640016 \nL 209.108142 150.460392 \nL 194.871778 150.460392 \nz\n\" clip-path=\"url(#pdd08f3a698)\" style=\"fill: #8b0000\"/>\n   </g>\n   <g id=\"patch_8\">\n    <path d=\"M 223.344506 108.640016 \nL 237.580869 108.640016 \nL 237.580869 128.007649 \nL 223.344506 128.007649 \nz\n\" clip-path=\"url(#pdd08f3a698)\" style=\"fill: #8b0000\"/>\n   </g>\n   <g id=\"patch_9\">\n    <path d=\"M 251.817233 108.640016 \nL 266.053597 108.640016 \nL 266.053597 125.436724 \nL 251.817233 125.436724 \nz\n\" clip-path=\"url(#pdd08f3a698)\" style=\"fill: #8b0000\"/>\n   </g>\n   <g id=\"patch_10\">\n    <path d=\"M 280.28996 108.640016 \nL 294.526324 108.640016 \nL 294.526324 122.865799 \nL 280.28996 122.865799 \nz\n\" clip-path=\"url(#pdd08f3a698)\" style=\"fill: #8b0000\"/>\n   </g>\n   <g id=\"patch_11\">\n    <path d=\"M 308.762688 108.640016 \nL 322.999051 108.640016 \nL 322.999051 117.03837 \nL 308.762688 117.03837 \nz\n\" clip-path=\"url(#pdd08f3a698)\" style=\"fill: #8b0000\"/>\n   </g>\n   <g id=\"patch_12\">\n    <path d=\"M 337.235415 108.640016 \nL 351.471778 108.640016 \nL 351.471778 66.305455 \nL 337.235415 66.305455 \nz\n\" clip-path=\"url(#pdd08f3a698)\" style=\"fill: #8b0000\"/>\n   </g>\n   <g id=\"patch_13\">\n    <path d=\"M 73.862688 400.32 \nL 73.862688 50.4 \n\" style=\"fill: none; stroke: #f0f0f0; stroke-width: 3; stroke-linejoin: miter; stroke-linecap: square\"/>\n   </g>\n   <g id=\"patch_14\">\n    <path d=\"M 358.58996 400.32 \nL 358.58996 50.4 \n\" style=\"fill: none; stroke: #f0f0f0; stroke-width: 3; stroke-linejoin: miter; stroke-linecap: square\"/>\n   </g>\n   <g id=\"patch_15\">\n    <path d=\"M 73.862688 400.32 \nL 358.58996 400.32 \n\" style=\"fill: none; stroke: #f0f0f0; stroke-width: 3; stroke-linejoin: miter; stroke-linecap: square\"/>\n   </g>\n   <g id=\"patch_16\">\n    <path d=\"M 73.862688 50.4 \nL 358.58996 50.4 \n\" style=\"fill: none; stroke: #f0f0f0; stroke-width: 3; stroke-linejoin: miter; stroke-linecap: square\"/>\n   </g>\n  </g>\n  <g id=\"axes_2\">\n   <g id=\"patch_17\">\n    <path d=\"M 415.535415 400.32 \nL 700.262687 400.32 \nL 700.262687 50.4 \nL 415.535415 50.4 \nz\n\" style=\"fill: #f0f0f0\"/>\n   </g>\n   <g id=\"matplotlib.axis_3\">\n    <g id=\"xtick_11\">\n     <g id=\"line2d_37\">\n      <path d=\"M 429.771778 400.32 \nL 429.771778 50.4 \n\" clip-path=\"url(#p723b62c248)\" style=\"fill: none; stroke: #cbcbcb\"/>\n     </g>\n     <g id=\"line2d_38\"/>\n     <g id=\"text_21\">\n      <!-- storm -->\n      <g transform=\"translate(433.634903 444.315) rotate(-90) scale(0.14 -0.14)\">\n       <use xlink:href=\"#DejaVuSans-73\"/>\n       <use xlink:href=\"#DejaVuSans-74\" x=\"52.099609\"/>\n       <use xlink:href=\"#DejaVuSans-6f\" x=\"91.308594\"/>\n       <use xlink:href=\"#DejaVuSans-72\" x=\"152.490234\"/>\n       <use xlink:href=\"#DejaVuSans-6d\" x=\"191.853516\"/>\n      </g>\n     </g>\n    </g>\n    <g id=\"xtick_12\">\n     <g id=\"line2d_39\">\n      <path d=\"M 458.244506 400.32 \nL 458.244506 50.4 \n\" clip-path=\"url(#p723b62c248)\" style=\"fill: none; stroke: #cbcbcb\"/>\n     </g>\n     <g id=\"line2d_40\"/>\n     <g id=\"text_22\">\n      <!-- ethos -->\n      <g transform=\"translate(462.107631 442.654687) rotate(-90) scale(0.14 -0.14)\">\n       <use xlink:href=\"#DejaVuSans-65\"/>\n       <use xlink:href=\"#DejaVuSans-74\" x=\"61.523438\"/>\n       <use xlink:href=\"#DejaVuSans-68\" x=\"100.732422\"/>\n       <use xlink:href=\"#DejaVuSans-6f\" x=\"164.111328\"/>\n       <use xlink:href=\"#DejaVuSans-73\" x=\"225.292969\"/>\n      </g>\n     </g>\n    </g>\n    <g id=\"xtick_13\">\n     <g id=\"line2d_41\">\n      <path d=\"M 486.717233 400.32 \nL 486.717233 50.4 \n\" clip-path=\"url(#p723b62c248)\" style=\"fill: none; stroke: #cbcbcb\"/>\n     </g>\n     <g id=\"line2d_42\"/>\n     <g id=\"text_23\">\n      <!-- rchain -->\n      <g transform=\"translate(490.580358 447.171875) rotate(-90) scale(0.14 -0.14)\">\n       <use xlink:href=\"#DejaVuSans-72\"/>\n       <use xlink:href=\"#DejaVuSans-63\" x=\"38.863281\"/>\n       <use xlink:href=\"#DejaVuSans-68\" x=\"93.84375\"/>\n       <use xlink:href=\"#DejaVuSans-61\" x=\"157.222656\"/>\n       <use xlink:href=\"#DejaVuSans-69\" x=\"218.501953\"/>\n       <use xlink:href=\"#DejaVuSans-6e\" x=\"246.285156\"/>\n      </g>\n     </g>\n    </g>\n    <g id=\"xtick_14\">\n     <g id=\"line2d_43\">\n      <path d=\"M 515.18996 400.32 \nL 515.18996 50.4 \n\" clip-path=\"url(#p723b62c248)\" style=\"fill: none; stroke: #cbcbcb\"/>\n     </g>\n     <g id=\"line2d_44\"/>\n     <g id=\"text_24\">\n      <!-- dragonchain -->\n      <g transform=\"translate(519.053085 491.280625) rotate(-90) scale(0.14 -0.14)\">\n       <use xlink:href=\"#DejaVuSans-64\"/>\n       <use xlink:href=\"#DejaVuSans-72\" x=\"63.476562\"/>\n       <use xlink:href=\"#DejaVuSans-61\" x=\"104.589844\"/>\n       <use xlink:href=\"#DejaVuSans-67\" x=\"165.869141\"/>\n       <use xlink:href=\"#DejaVuSans-6f\" x=\"229.345703\"/>\n       <use xlink:href=\"#DejaVuSans-6e\" x=\"290.527344\"/>\n       <use xlink:href=\"#DejaVuSans-63\" x=\"353.90625\"/>\n       <use xlink:href=\"#DejaVuSans-68\" x=\"408.886719\"/>\n       <use xlink:href=\"#DejaVuSans-61\" x=\"472.265625\"/>\n       <use xlink:href=\"#DejaVuSans-69\" x=\"533.544922\"/>\n       <use xlink:href=\"#DejaVuSans-6e\" x=\"561.328125\"/>\n      </g>\n     </g>\n    </g>\n    <g id=\"xtick_15\">\n     <g id=\"line2d_45\">\n      <path d=\"M 543.662688 400.32 \nL 543.662688 50.4 \n\" clip-path=\"url(#p723b62c248)\" style=\"fill: none; stroke: #cbcbcb\"/>\n     </g>\n     <g id=\"line2d_46\"/>\n     <g id=\"text_25\">\n      <!-- digitalnote -->\n      <g transform=\"translate(547.525813 478.873125) rotate(-90) scale(0.14 -0.14)\">\n       <use xlink:href=\"#DejaVuSans-64\"/>\n       <use xlink:href=\"#DejaVuSans-69\" x=\"63.476562\"/>\n       <use xlink:href=\"#DejaVuSans-67\" x=\"91.259766\"/>\n       <use xlink:href=\"#DejaVuSans-69\" x=\"154.736328\"/>\n       <use xlink:href=\"#DejaVuSans-74\" x=\"182.519531\"/>\n       <use xlink:href=\"#DejaVuSans-61\" x=\"221.728516\"/>\n       <use xlink:href=\"#DejaVuSans-6c\" x=\"283.007812\"/>\n       <use xlink:href=\"#DejaVuSans-6e\" x=\"310.791016\"/>\n       <use xlink:href=\"#DejaVuSans-6f\" x=\"374.169922\"/>\n       <use xlink:href=\"#DejaVuSans-74\" x=\"435.351562\"/>\n       <use xlink:href=\"#DejaVuSans-65\" x=\"474.560547\"/>\n      </g>\n     </g>\n    </g>\n    <g id=\"xtick_16\">\n     <g id=\"line2d_47\">\n      <path d=\"M 572.135415 400.32 \nL 572.135415 50.4 \n\" clip-path=\"url(#p723b62c248)\" style=\"fill: none; stroke: #cbcbcb\"/>\n     </g>\n     <g id=\"line2d_48\"/>\n     <g id=\"text_26\">\n      <!-- nexus -->\n      <g transform=\"translate(575.99854 445.51375) rotate(-90) scale(0.14 -0.14)\">\n       <defs>\n        <path id=\"DejaVuSans-75\" d=\"M 544 1381 \nL 544 3500 \nL 1119 3500 \nL 1119 1403 \nQ 1119 906 1312 657 \nQ 1506 409 1894 409 \nQ 2359 409 2629 706 \nQ 2900 1003 2900 1516 \nL 2900 3500 \nL 3475 3500 \nL 3475 0 \nL 2900 0 \nL 2900 538 \nQ 2691 219 2414 64 \nQ 2138 -91 1772 -91 \nQ 1169 -91 856 284 \nQ 544 659 544 1381 \nz\nM 1991 3584 \nL 1991 3584 \nz\n\" transform=\"scale(0.015625)\"/>\n       </defs>\n       <use xlink:href=\"#DejaVuSans-6e\"/>\n       <use xlink:href=\"#DejaVuSans-65\" x=\"63.378906\"/>\n       <use xlink:href=\"#DejaVuSans-78\" x=\"123.152344\"/>\n       <use xlink:href=\"#DejaVuSans-75\" x=\"182.332031\"/>\n       <use xlink:href=\"#DejaVuSans-73\" x=\"245.710938\"/>\n      </g>\n     </g>\n    </g>\n    <g id=\"xtick_17\">\n     <g id=\"line2d_49\">\n      <path d=\"M 600.608142 400.32 \nL 600.608142 50.4 \n\" clip-path=\"url(#p723b62c248)\" style=\"fill: none; stroke: #cbcbcb\"/>\n     </g>\n     <g id=\"line2d_50\"/>\n     <g id=\"text_27\">\n      <!-- experience-points -->\n      <g transform=\"translate(604.471267 529.47) rotate(-90) scale(0.14 -0.14)\">\n       <defs>\n        <path id=\"DejaVuSans-70\" d=\"M 1159 525 \nL 1159 -1331 \nL 581 -1331 \nL 581 3500 \nL 1159 3500 \nL 1159 2969 \nQ 1341 3281 1617 3432 \nQ 1894 3584 2278 3584 \nQ 2916 3584 3314 3078 \nQ 3713 2572 3713 1747 \nQ 3713 922 3314 415 \nQ 2916 -91 2278 -91 \nQ 1894 -91 1617 61 \nQ 1341 213 1159 525 \nz\nM 3116 1747 \nQ 3116 2381 2855 2742 \nQ 2594 3103 2138 3103 \nQ 1681 3103 1420 2742 \nQ 1159 2381 1159 1747 \nQ 1159 1113 1420 752 \nQ 1681 391 2138 391 \nQ 2594 391 2855 752 \nQ 3116 1113 3116 1747 \nz\n\" transform=\"scale(0.015625)\"/>\n        <path id=\"DejaVuSans-2d\" d=\"M 313 2009 \nL 1997 2009 \nL 1997 1497 \nL 313 1497 \nL 313 2009 \nz\n\" transform=\"scale(0.015625)\"/>\n       </defs>\n       <use xlink:href=\"#DejaVuSans-65\"/>\n       <use xlink:href=\"#DejaVuSans-78\" x=\"59.773438\"/>\n       <use xlink:href=\"#DejaVuSans-70\" x=\"118.953125\"/>\n       <use xlink:href=\"#DejaVuSans-65\" x=\"182.429688\"/>\n       <use xlink:href=\"#DejaVuSans-72\" x=\"243.953125\"/>\n       <use xlink:href=\"#DejaVuSans-69\" x=\"285.066406\"/>\n       <use xlink:href=\"#DejaVuSans-65\" x=\"312.849609\"/>\n       <use xlink:href=\"#DejaVuSans-6e\" x=\"374.373047\"/>\n       <use xlink:href=\"#DejaVuSans-63\" x=\"437.751953\"/>\n       <use xlink:href=\"#DejaVuSans-65\" x=\"492.732422\"/>\n       <use xlink:href=\"#DejaVuSans-2d\" x=\"554.255859\"/>\n       <use xlink:href=\"#DejaVuSans-70\" x=\"590.339844\"/>\n       <use xlink:href=\"#DejaVuSans-6f\" x=\"653.816406\"/>\n       <use xlink:href=\"#DejaVuSans-69\" x=\"714.998047\"/>\n       <use xlink:href=\"#DejaVuSans-6e\" x=\"742.78125\"/>\n       <use xlink:href=\"#DejaVuSans-74\" x=\"806.160156\"/>\n       <use xlink:href=\"#DejaVuSans-73\" x=\"845.369141\"/>\n      </g>\n     </g>\n    </g>\n    <g id=\"xtick_18\">\n     <g id=\"line2d_51\">\n      <path d=\"M 629.080869 400.32 \nL 629.080869 50.4 \n\" clip-path=\"url(#p723b62c248)\" style=\"fill: none; stroke: #cbcbcb\"/>\n     </g>\n     <g id=\"line2d_52\"/>\n     <g id=\"text_28\">\n      <!-- tron -->\n      <g transform=\"translate(632.943994 432.1875) rotate(-90) scale(0.14 -0.14)\">\n       <use xlink:href=\"#DejaVuSans-74\"/>\n       <use xlink:href=\"#DejaVuSans-72\" x=\"39.208984\"/>\n       <use xlink:href=\"#DejaVuSans-6f\" x=\"78.072266\"/>\n       <use xlink:href=\"#DejaVuSans-6e\" x=\"139.253906\"/>\n      </g>\n     </g>\n    </g>\n    <g id=\"xtick_19\">\n     <g id=\"line2d_53\">\n      <path d=\"M 657.553597 400.32 \nL 657.553597 50.4 \n\" clip-path=\"url(#p723b62c248)\" style=\"fill: none; stroke: #cbcbcb\"/>\n     </g>\n     <g id=\"line2d_54\"/>\n     <g id=\"text_29\">\n      <!-- kin -->\n      <g transform=\"translate(661.416722 424.68875) rotate(-90) scale(0.14 -0.14)\">\n       <use xlink:href=\"#DejaVuSans-6b\"/>\n       <use xlink:href=\"#DejaVuSans-69\" x=\"57.910156\"/>\n       <use xlink:href=\"#DejaVuSans-6e\" x=\"85.693359\"/>\n      </g>\n     </g>\n    </g>\n    <g id=\"xtick_20\">\n     <g id=\"line2d_55\">\n      <path d=\"M 686.026324 400.32 \nL 686.026324 50.4 \n\" clip-path=\"url(#p723b62c248)\" style=\"fill: none; stroke: #cbcbcb\"/>\n     </g>\n     <g id=\"line2d_56\"/>\n     <g id=\"text_30\">\n      <!-- paccoin -->\n      <g transform=\"translate(689.889449 458.010937) rotate(-90) scale(0.14 -0.14)\">\n       <use xlink:href=\"#DejaVuSans-70\"/>\n       <use xlink:href=\"#DejaVuSans-61\" x=\"63.476562\"/>\n       <use xlink:href=\"#DejaVuSans-63\" x=\"124.755859\"/>\n       <use xlink:href=\"#DejaVuSans-63\" x=\"179.736328\"/>\n       <use xlink:href=\"#DejaVuSans-6f\" x=\"234.716797\"/>\n       <use xlink:href=\"#DejaVuSans-69\" x=\"295.898438\"/>\n       <use xlink:href=\"#DejaVuSans-6e\" x=\"323.681641\"/>\n      </g>\n     </g>\n    </g>\n    <g id=\"text_31\">\n     <!-- id -->\n     <g transform=\"translate(550.232739 546.235375) scale(0.168 -0.168)\">\n      <use xlink:href=\"#DejaVuSans-69\"/>\n      <use xlink:href=\"#DejaVuSans-64\" x=\"27.783203\"/>\n     </g>\n    </g>\n   </g>\n   <g id=\"matplotlib.axis_4\">\n    <g id=\"ytick_9\">\n     <g id=\"line2d_57\">\n      <path d=\"M 415.535415 400.32 \nL 700.262687 400.32 \n\" clip-path=\"url(#p723b62c248)\" style=\"fill: none; stroke: #cbcbcb\"/>\n     </g>\n     <g id=\"line2d_58\"/>\n     <g id=\"text_32\">\n      <!-- 0 -->\n      <g transform=\"translate(403.127915 405.638906) scale(0.14 -0.14)\">\n       <use xlink:href=\"#DejaVuSans-30\"/>\n      </g>\n     </g>\n    </g>\n    <g id=\"ytick_10\">\n     <g id=\"line2d_59\">\n      <path d=\"M 415.535415 360.642374 \nL 700.262687 360.642374 \n\" clip-path=\"url(#p723b62c248)\" style=\"fill: none; stroke: #cbcbcb\"/>\n     </g>\n     <g id=\"line2d_60\"/>\n     <g id=\"text_33\">\n      <!-- 250 -->\n      <g transform=\"translate(385.312915 365.96128) scale(0.14 -0.14)\">\n       <use xlink:href=\"#DejaVuSans-32\"/>\n       <use xlink:href=\"#DejaVuSans-35\" x=\"63.623047\"/>\n       <use xlink:href=\"#DejaVuSans-30\" x=\"127.246094\"/>\n      </g>\n     </g>\n    </g>\n    <g id=\"ytick_11\">\n     <g id=\"line2d_61\">\n      <path d=\"M 415.535415 320.964748 \nL 700.262687 320.964748 \n\" clip-path=\"url(#p723b62c248)\" style=\"fill: none; stroke: #cbcbcb\"/>\n     </g>\n     <g id=\"line2d_62\"/>\n     <g id=\"text_34\">\n      <!-- 500 -->\n      <g transform=\"translate(385.312915 326.283654) scale(0.14 -0.14)\">\n       <use xlink:href=\"#DejaVuSans-35\"/>\n       <use xlink:href=\"#DejaVuSans-30\" x=\"63.623047\"/>\n       <use xlink:href=\"#DejaVuSans-30\" x=\"127.246094\"/>\n      </g>\n     </g>\n    </g>\n    <g id=\"ytick_12\">\n     <g id=\"line2d_63\">\n      <path d=\"M 415.535415 281.287122 \nL 700.262687 281.287122 \n\" clip-path=\"url(#p723b62c248)\" style=\"fill: none; stroke: #cbcbcb\"/>\n     </g>\n     <g id=\"line2d_64\"/>\n     <g id=\"text_35\">\n      <!-- 750 -->\n      <g transform=\"translate(385.312915 286.606028) scale(0.14 -0.14)\">\n       <use xlink:href=\"#DejaVuSans-37\"/>\n       <use xlink:href=\"#DejaVuSans-35\" x=\"63.623047\"/>\n       <use xlink:href=\"#DejaVuSans-30\" x=\"127.246094\"/>\n      </g>\n     </g>\n    </g>\n    <g id=\"ytick_13\">\n     <g id=\"line2d_65\">\n      <path d=\"M 415.535415 241.609496 \nL 700.262687 241.609496 \n\" clip-path=\"url(#p723b62c248)\" style=\"fill: none; stroke: #cbcbcb\"/>\n     </g>\n     <g id=\"line2d_66\"/>\n     <g id=\"text_36\">\n      <!-- 1000 -->\n      <g transform=\"translate(376.405415 246.928402) scale(0.14 -0.14)\">\n       <use xlink:href=\"#DejaVuSans-31\"/>\n       <use xlink:href=\"#DejaVuSans-30\" x=\"63.623047\"/>\n       <use xlink:href=\"#DejaVuSans-30\" x=\"127.246094\"/>\n       <use xlink:href=\"#DejaVuSans-30\" x=\"190.869141\"/>\n      </g>\n     </g>\n    </g>\n    <g id=\"ytick_14\">\n     <g id=\"line2d_67\">\n      <path d=\"M 415.535415 201.93187 \nL 700.262687 201.93187 \n\" clip-path=\"url(#p723b62c248)\" style=\"fill: none; stroke: #cbcbcb\"/>\n     </g>\n     <g id=\"line2d_68\"/>\n     <g id=\"text_37\">\n      <!-- 1250 -->\n      <g transform=\"translate(376.405415 207.250776) scale(0.14 -0.14)\">\n       <use xlink:href=\"#DejaVuSans-31\"/>\n       <use xlink:href=\"#DejaVuSans-32\" x=\"63.623047\"/>\n       <use xlink:href=\"#DejaVuSans-35\" x=\"127.246094\"/>\n       <use xlink:href=\"#DejaVuSans-30\" x=\"190.869141\"/>\n      </g>\n     </g>\n    </g>\n    <g id=\"ytick_15\">\n     <g id=\"line2d_69\">\n      <path d=\"M 415.535415 162.254243 \nL 700.262687 162.254243 \n\" clip-path=\"url(#p723b62c248)\" style=\"fill: none; stroke: #cbcbcb\"/>\n     </g>\n     <g id=\"line2d_70\"/>\n     <g id=\"text_38\">\n      <!-- 1500 -->\n      <g transform=\"translate(376.405415 167.57315) scale(0.14 -0.14)\">\n       <use xlink:href=\"#DejaVuSans-31\"/>\n       <use xlink:href=\"#DejaVuSans-35\" x=\"63.623047\"/>\n       <use xlink:href=\"#DejaVuSans-30\" x=\"127.246094\"/>\n       <use xlink:href=\"#DejaVuSans-30\" x=\"190.869141\"/>\n      </g>\n     </g>\n    </g>\n    <g id=\"ytick_16\">\n     <g id=\"line2d_71\">\n      <path d=\"M 415.535415 122.576617 \nL 700.262687 122.576617 \n\" clip-path=\"url(#p723b62c248)\" style=\"fill: none; stroke: #cbcbcb\"/>\n     </g>\n     <g id=\"line2d_72\"/>\n     <g id=\"text_39\">\n      <!-- 1750 -->\n      <g transform=\"translate(376.405415 127.895524) scale(0.14 -0.14)\">\n       <use xlink:href=\"#DejaVuSans-31\"/>\n       <use xlink:href=\"#DejaVuSans-37\" x=\"63.623047\"/>\n       <use xlink:href=\"#DejaVuSans-35\" x=\"127.246094\"/>\n       <use xlink:href=\"#DejaVuSans-30\" x=\"190.869141\"/>\n      </g>\n     </g>\n    </g>\n    <g id=\"ytick_17\">\n     <g id=\"line2d_73\">\n      <path d=\"M 415.535415 82.898991 \nL 700.262687 82.898991 \n\" clip-path=\"url(#p723b62c248)\" style=\"fill: none; stroke: #cbcbcb\"/>\n     </g>\n     <g id=\"line2d_74\"/>\n     <g id=\"text_40\">\n      <!-- 2000 -->\n      <g transform=\"translate(376.405415 88.217898) scale(0.14 -0.14)\">\n       <use xlink:href=\"#DejaVuSans-32\"/>\n       <use xlink:href=\"#DejaVuSans-30\" x=\"63.623047\"/>\n       <use xlink:href=\"#DejaVuSans-30\" x=\"127.246094\"/>\n       <use xlink:href=\"#DejaVuSans-30\" x=\"190.869141\"/>\n      </g>\n     </g>\n    </g>\n   </g>\n   <g id=\"patch_18\">\n    <path d=\"M 422.653597 400.32 \nL 436.88996 400.32 \nL 436.88996 353.562298 \nL 422.653597 353.562298 \nz\n\" clip-path=\"url(#p723b62c248)\" style=\"fill: #00008b\"/>\n   </g>\n   <g id=\"patch_19\">\n    <path d=\"M 451.126324 400.32 \nL 465.362688 400.32 \nL 465.362688 353.455962 \nL 451.126324 353.455962 \nz\n\" clip-path=\"url(#p723b62c248)\" style=\"fill: #00008b\"/>\n   </g>\n   <g id=\"patch_20\">\n    <path d=\"M 479.599051 400.32 \nL 493.835415 400.32 \nL 493.835415 351.91647 \nL 479.599051 351.91647 \nz\n\" clip-path=\"url(#p723b62c248)\" style=\"fill: #00008b\"/>\n   </g>\n   <g id=\"patch_21\">\n    <path d=\"M 508.071778 400.32 \nL 522.308142 400.32 \nL 522.308142 351.822831 \nL 508.071778 351.822831 \nz\n\" clip-path=\"url(#p723b62c248)\" style=\"fill: #00008b\"/>\n   </g>\n   <g id=\"patch_22\">\n    <path d=\"M 536.544506 400.32 \nL 550.780869 400.32 \nL 550.780869 343.092166 \nL 536.544506 343.092166 \nz\n\" clip-path=\"url(#p723b62c248)\" style=\"fill: #00008b\"/>\n   </g>\n   <g id=\"patch_23\">\n    <path d=\"M 565.017233 400.32 \nL 579.253597 400.32 \nL 579.253597 342.211323 \nL 565.017233 342.211323 \nz\n\" clip-path=\"url(#p723b62c248)\" style=\"fill: #00008b\"/>\n   </g>\n   <g id=\"patch_24\">\n    <path d=\"M 593.48996 400.32 \nL 607.726324 400.32 \nL 607.726324 337.0818 \nL 593.48996 337.0818 \nz\n\" clip-path=\"url(#p723b62c248)\" style=\"fill: #00008b\"/>\n   </g>\n   <g id=\"patch_25\">\n    <path d=\"M 621.962688 400.32 \nL 636.199051 400.32 \nL 636.199051 331.382505 \nL 621.962688 331.382505 \nz\n\" clip-path=\"url(#p723b62c248)\" style=\"fill: #00008b\"/>\n   </g>\n   <g id=\"patch_26\">\n    <path d=\"M 650.435415 400.32 \nL 664.671778 400.32 \nL 664.671778 323.700917 \nL 650.435415 323.700917 \nz\n\" clip-path=\"url(#p723b62c248)\" style=\"fill: #00008b\"/>\n   </g>\n   <g id=\"patch_27\">\n    <path d=\"M 678.908142 400.32 \nL 693.144506 400.32 \nL 693.144506 67.062857 \nL 678.908142 67.062857 \nz\n\" clip-path=\"url(#p723b62c248)\" style=\"fill: #00008b\"/>\n   </g>\n   <g id=\"patch_28\">\n    <path d=\"M 415.535415 400.32 \nL 415.535415 50.4 \n\" style=\"fill: none; stroke: #f0f0f0; stroke-width: 3; stroke-linejoin: miter; stroke-linecap: square\"/>\n   </g>\n   <g id=\"patch_29\">\n    <path d=\"M 700.262687 400.32 \nL 700.262687 50.4 \n\" style=\"fill: none; stroke: #f0f0f0; stroke-width: 3; stroke-linejoin: miter; stroke-linecap: square\"/>\n   </g>\n   <g id=\"patch_30\">\n    <path d=\"M 415.535415 400.32 \nL 700.262688 400.32 \n\" style=\"fill: none; stroke: #f0f0f0; stroke-width: 3; stroke-linejoin: miter; stroke-linecap: square\"/>\n   </g>\n   <g id=\"patch_31\">\n    <path d=\"M 415.535415 50.4 \nL 700.262688 50.4 \n\" style=\"fill: none; stroke: #f0f0f0; stroke-width: 3; stroke-linejoin: miter; stroke-linecap: square\"/>\n   </g>\n  </g>\n  <g id=\"text_41\">\n   <!-- Weekly top losers and winners -->\n   <g transform=\"translate(248.00125 19.965375) scale(0.168 -0.168)\">\n    <defs>\n     <path id=\"DejaVuSans-57\" d=\"M 213 4666 \nL 850 4666 \nL 1831 722 \nL 2809 4666 \nL 3519 4666 \nL 4500 722 \nL 5478 4666 \nL 6119 4666 \nL 4947 0 \nL 4153 0 \nL 3169 4050 \nL 2175 0 \nL 1381 0 \nL 213 4666 \nz\n\" transform=\"scale(0.015625)\"/>\n    </defs>\n    <use xlink:href=\"#DejaVuSans-57\"/>\n    <use xlink:href=\"#DejaVuSans-65\" x=\"93.001953\"/>\n    <use xlink:href=\"#DejaVuSans-65\" x=\"154.525391\"/>\n    <use xlink:href=\"#DejaVuSans-6b\" x=\"216.048828\"/>\n    <use xlink:href=\"#DejaVuSans-6c\" x=\"273.958984\"/>\n    <use xlink:href=\"#DejaVuSans-79\" x=\"301.742188\"/>\n    <use xlink:href=\"#DejaVuSans-20\" x=\"360.921875\"/>\n    <use xlink:href=\"#DejaVuSans-74\" x=\"392.708984\"/>\n    <use xlink:href=\"#DejaVuSans-6f\" x=\"431.917969\"/>\n    <use xlink:href=\"#DejaVuSans-70\" x=\"493.099609\"/>\n    <use xlink:href=\"#DejaVuSans-20\" x=\"556.576172\"/>\n    <use xlink:href=\"#DejaVuSans-6c\" x=\"588.363281\"/>\n    <use xlink:href=\"#DejaVuSans-6f\" x=\"616.146484\"/>\n    <use xlink:href=\"#DejaVuSans-73\" x=\"677.328125\"/>\n    <use xlink:href=\"#DejaVuSans-65\" x=\"729.427734\"/>\n    <use xlink:href=\"#DejaVuSans-72\" x=\"790.951172\"/>\n    <use xlink:href=\"#DejaVuSans-73\" x=\"832.064453\"/>\n    <use xlink:href=\"#DejaVuSans-20\" x=\"884.164062\"/>\n    <use xlink:href=\"#DejaVuSans-61\" x=\"915.951172\"/>\n    <use xlink:href=\"#DejaVuSans-6e\" x=\"977.230469\"/>\n    <use xlink:href=\"#DejaVuSans-64\" x=\"1040.609375\"/>\n    <use xlink:href=\"#DejaVuSans-20\" x=\"1104.085938\"/>\n    <use xlink:href=\"#DejaVuSans-77\" x=\"1135.873047\"/>\n    <use xlink:href=\"#DejaVuSans-69\" x=\"1217.660156\"/>\n    <use xlink:href=\"#DejaVuSans-6e\" x=\"1245.443359\"/>\n    <use xlink:href=\"#DejaVuSans-6e\" x=\"1308.822266\"/>\n    <use xlink:href=\"#DejaVuSans-65\" x=\"1372.201172\"/>\n    <use xlink:href=\"#DejaVuSans-72\" x=\"1433.724609\"/>\n    <use xlink:href=\"#DejaVuSans-73\" x=\"1474.837891\"/>\n   </g>\n  </g>\n </g>\n <defs>\n  <clipPath id=\"pdd08f3a698\">\n   <rect x=\"73.862688\" y=\"50.4\" width=\"284.727273\" height=\"349.92\"/>\n  </clipPath>\n  <clipPath id=\"p723b62c248\">\n   <rect x=\"415.535415\" y=\"50.4\" width=\"284.727273\" height=\"349.92\"/>\n  </clipPath>\n </defs>\n</svg>\n"
          },
          "metadata": {}
        }
      ],
      "source": [
        "# Sorting in ascending order\n",
        "volatility7d = volatility.sort_values('percent_change_7d', ascending = True)\n",
        "\n",
        "WTITLE = \"Weekly top losers and winners\"\n",
        "\n",
        "# Calling the top10_subplot function\n",
        "fig, ax = top10_subplot(volatility7d.percent_change_7d, WTITLE)"
      ],
      "cell_type": "code",
      "execution_count": null
    },
    {
      "metadata": {
        "trusted": true,
        "tags": [
          "sample_code"
        ],
        "dc": {
          "key": "60"
        },
        "colab": {
          "base_uri": "https://localhost:8080/",
          "height": 363
        },
        "id": "jIql8nypc-r9",
        "outputId": "a74629ad-d79e-44cb-da8a-2809b4d2b3f9"
      },
      "outputs": [
        {
          "output_type": "execute_result",
          "data": {
            "text/plain": [
              "             id  market_cap_usd\n",
              "0       bitcoin    284909052105\n",
              "1        ripple    119207709132\n",
              "2      ethereum    100115499075\n",
              "3  bitcoin-cash     44424061657\n",
              "4       cardano     25916647856\n",
              "5      litecoin     16574020942\n",
              "6           nem     14813369998\n",
              "7       stellar     12634630726\n",
              "8          tron     11741640953\n",
              "9          iota     11143859582"
            ],
            "text/html": [
              "\n",
              "  <div id=\"df-c6fb24fb-46d9-4ebe-ae4c-f118287b46c8\" class=\"colab-df-container\">\n",
              "    <div>\n",
              "<style scoped>\n",
              "    .dataframe tbody tr th:only-of-type {\n",
              "        vertical-align: middle;\n",
              "    }\n",
              "\n",
              "    .dataframe tbody tr th {\n",
              "        vertical-align: top;\n",
              "    }\n",
              "\n",
              "    .dataframe thead th {\n",
              "        text-align: right;\n",
              "    }\n",
              "</style>\n",
              "<table border=\"1\" class=\"dataframe\">\n",
              "  <thead>\n",
              "    <tr style=\"text-align: right;\">\n",
              "      <th></th>\n",
              "      <th>id</th>\n",
              "      <th>market_cap_usd</th>\n",
              "    </tr>\n",
              "  </thead>\n",
              "  <tbody>\n",
              "    <tr>\n",
              "      <th>0</th>\n",
              "      <td>bitcoin</td>\n",
              "      <td>284909052105</td>\n",
              "    </tr>\n",
              "    <tr>\n",
              "      <th>1</th>\n",
              "      <td>ripple</td>\n",
              "      <td>119207709132</td>\n",
              "    </tr>\n",
              "    <tr>\n",
              "      <th>2</th>\n",
              "      <td>ethereum</td>\n",
              "      <td>100115499075</td>\n",
              "    </tr>\n",
              "    <tr>\n",
              "      <th>3</th>\n",
              "      <td>bitcoin-cash</td>\n",
              "      <td>44424061657</td>\n",
              "    </tr>\n",
              "    <tr>\n",
              "      <th>4</th>\n",
              "      <td>cardano</td>\n",
              "      <td>25916647856</td>\n",
              "    </tr>\n",
              "    <tr>\n",
              "      <th>5</th>\n",
              "      <td>litecoin</td>\n",
              "      <td>16574020942</td>\n",
              "    </tr>\n",
              "    <tr>\n",
              "      <th>6</th>\n",
              "      <td>nem</td>\n",
              "      <td>14813369998</td>\n",
              "    </tr>\n",
              "    <tr>\n",
              "      <th>7</th>\n",
              "      <td>stellar</td>\n",
              "      <td>12634630726</td>\n",
              "    </tr>\n",
              "    <tr>\n",
              "      <th>8</th>\n",
              "      <td>tron</td>\n",
              "      <td>11741640953</td>\n",
              "    </tr>\n",
              "    <tr>\n",
              "      <th>9</th>\n",
              "      <td>iota</td>\n",
              "      <td>11143859582</td>\n",
              "    </tr>\n",
              "  </tbody>\n",
              "</table>\n",
              "</div>\n",
              "    <div class=\"colab-df-buttons\">\n",
              "\n",
              "  <div class=\"colab-df-container\">\n",
              "    <button class=\"colab-df-convert\" onclick=\"convertToInteractive('df-c6fb24fb-46d9-4ebe-ae4c-f118287b46c8')\"\n",
              "            title=\"Convert this dataframe to an interactive table.\"\n",
              "            style=\"display:none;\">\n",
              "\n",
              "  <svg xmlns=\"http://www.w3.org/2000/svg\" height=\"24px\" viewBox=\"0 -960 960 960\">\n",
              "    <path d=\"M120-120v-720h720v720H120Zm60-500h600v-160H180v160Zm220 220h160v-160H400v160Zm0 220h160v-160H400v160ZM180-400h160v-160H180v160Zm440 0h160v-160H620v160ZM180-180h160v-160H180v160Zm440 0h160v-160H620v160Z\"/>\n",
              "  </svg>\n",
              "    </button>\n",
              "\n",
              "  <style>\n",
              "    .colab-df-container {\n",
              "      display:flex;\n",
              "      gap: 12px;\n",
              "    }\n",
              "\n",
              "    .colab-df-convert {\n",
              "      background-color: #E8F0FE;\n",
              "      border: none;\n",
              "      border-radius: 50%;\n",
              "      cursor: pointer;\n",
              "      display: none;\n",
              "      fill: #1967D2;\n",
              "      height: 32px;\n",
              "      padding: 0 0 0 0;\n",
              "      width: 32px;\n",
              "    }\n",
              "\n",
              "    .colab-df-convert:hover {\n",
              "      background-color: #E2EBFA;\n",
              "      box-shadow: 0px 1px 2px rgba(60, 64, 67, 0.3), 0px 1px 3px 1px rgba(60, 64, 67, 0.15);\n",
              "      fill: #174EA6;\n",
              "    }\n",
              "\n",
              "    .colab-df-buttons div {\n",
              "      margin-bottom: 4px;\n",
              "    }\n",
              "\n",
              "    [theme=dark] .colab-df-convert {\n",
              "      background-color: #3B4455;\n",
              "      fill: #D2E3FC;\n",
              "    }\n",
              "\n",
              "    [theme=dark] .colab-df-convert:hover {\n",
              "      background-color: #434B5C;\n",
              "      box-shadow: 0px 1px 3px 1px rgba(0, 0, 0, 0.15);\n",
              "      filter: drop-shadow(0px 1px 2px rgba(0, 0, 0, 0.3));\n",
              "      fill: #FFFFFF;\n",
              "    }\n",
              "  </style>\n",
              "\n",
              "    <script>\n",
              "      const buttonEl =\n",
              "        document.querySelector('#df-c6fb24fb-46d9-4ebe-ae4c-f118287b46c8 button.colab-df-convert');\n",
              "      buttonEl.style.display =\n",
              "        google.colab.kernel.accessAllowed ? 'block' : 'none';\n",
              "\n",
              "      async function convertToInteractive(key) {\n",
              "        const element = document.querySelector('#df-c6fb24fb-46d9-4ebe-ae4c-f118287b46c8');\n",
              "        const dataTable =\n",
              "          await google.colab.kernel.invokeFunction('convertToInteractive',\n",
              "                                                    [key], {});\n",
              "        if (!dataTable) return;\n",
              "\n",
              "        const docLinkHtml = 'Like what you see? Visit the ' +\n",
              "          '<a target=\"_blank\" href=https://colab.research.google.com/notebooks/data_table.ipynb>data table notebook</a>'\n",
              "          + ' to learn more about interactive tables.';\n",
              "        element.innerHTML = '';\n",
              "        dataTable['output_type'] = 'display_data';\n",
              "        await google.colab.output.renderOutput(dataTable, element);\n",
              "        const docLink = document.createElement('div');\n",
              "        docLink.innerHTML = docLinkHtml;\n",
              "        element.appendChild(docLink);\n",
              "      }\n",
              "    </script>\n",
              "  </div>\n",
              "\n",
              "\n",
              "<div id=\"df-20f20eee-5f0b-461f-888f-6adf6c1a4c47\">\n",
              "  <button class=\"colab-df-quickchart\" onclick=\"quickchart('df-20f20eee-5f0b-461f-888f-6adf6c1a4c47')\"\n",
              "            title=\"Suggest charts\"\n",
              "            style=\"display:none;\">\n",
              "\n",
              "<svg xmlns=\"http://www.w3.org/2000/svg\" height=\"24px\"viewBox=\"0 0 24 24\"\n",
              "     width=\"24px\">\n",
              "    <g>\n",
              "        <path d=\"M19 3H5c-1.1 0-2 .9-2 2v14c0 1.1.9 2 2 2h14c1.1 0 2-.9 2-2V5c0-1.1-.9-2-2-2zM9 17H7v-7h2v7zm4 0h-2V7h2v10zm4 0h-2v-4h2v4z\"/>\n",
              "    </g>\n",
              "</svg>\n",
              "  </button>\n",
              "\n",
              "<style>\n",
              "  .colab-df-quickchart {\n",
              "      --bg-color: #E8F0FE;\n",
              "      --fill-color: #1967D2;\n",
              "      --hover-bg-color: #E2EBFA;\n",
              "      --hover-fill-color: #174EA6;\n",
              "      --disabled-fill-color: #AAA;\n",
              "      --disabled-bg-color: #DDD;\n",
              "  }\n",
              "\n",
              "  [theme=dark] .colab-df-quickchart {\n",
              "      --bg-color: #3B4455;\n",
              "      --fill-color: #D2E3FC;\n",
              "      --hover-bg-color: #434B5C;\n",
              "      --hover-fill-color: #FFFFFF;\n",
              "      --disabled-bg-color: #3B4455;\n",
              "      --disabled-fill-color: #666;\n",
              "  }\n",
              "\n",
              "  .colab-df-quickchart {\n",
              "    background-color: var(--bg-color);\n",
              "    border: none;\n",
              "    border-radius: 50%;\n",
              "    cursor: pointer;\n",
              "    display: none;\n",
              "    fill: var(--fill-color);\n",
              "    height: 32px;\n",
              "    padding: 0;\n",
              "    width: 32px;\n",
              "  }\n",
              "\n",
              "  .colab-df-quickchart:hover {\n",
              "    background-color: var(--hover-bg-color);\n",
              "    box-shadow: 0 1px 2px rgba(60, 64, 67, 0.3), 0 1px 3px 1px rgba(60, 64, 67, 0.15);\n",
              "    fill: var(--button-hover-fill-color);\n",
              "  }\n",
              "\n",
              "  .colab-df-quickchart-complete:disabled,\n",
              "  .colab-df-quickchart-complete:disabled:hover {\n",
              "    background-color: var(--disabled-bg-color);\n",
              "    fill: var(--disabled-fill-color);\n",
              "    box-shadow: none;\n",
              "  }\n",
              "\n",
              "  .colab-df-spinner {\n",
              "    border: 2px solid var(--fill-color);\n",
              "    border-color: transparent;\n",
              "    border-bottom-color: var(--fill-color);\n",
              "    animation:\n",
              "      spin 1s steps(1) infinite;\n",
              "  }\n",
              "\n",
              "  @keyframes spin {\n",
              "    0% {\n",
              "      border-color: transparent;\n",
              "      border-bottom-color: var(--fill-color);\n",
              "      border-left-color: var(--fill-color);\n",
              "    }\n",
              "    20% {\n",
              "      border-color: transparent;\n",
              "      border-left-color: var(--fill-color);\n",
              "      border-top-color: var(--fill-color);\n",
              "    }\n",
              "    30% {\n",
              "      border-color: transparent;\n",
              "      border-left-color: var(--fill-color);\n",
              "      border-top-color: var(--fill-color);\n",
              "      border-right-color: var(--fill-color);\n",
              "    }\n",
              "    40% {\n",
              "      border-color: transparent;\n",
              "      border-right-color: var(--fill-color);\n",
              "      border-top-color: var(--fill-color);\n",
              "    }\n",
              "    60% {\n",
              "      border-color: transparent;\n",
              "      border-right-color: var(--fill-color);\n",
              "    }\n",
              "    80% {\n",
              "      border-color: transparent;\n",
              "      border-right-color: var(--fill-color);\n",
              "      border-bottom-color: var(--fill-color);\n",
              "    }\n",
              "    90% {\n",
              "      border-color: transparent;\n",
              "      border-bottom-color: var(--fill-color);\n",
              "    }\n",
              "  }\n",
              "</style>\n",
              "\n",
              "  <script>\n",
              "    async function quickchart(key) {\n",
              "      const quickchartButtonEl =\n",
              "        document.querySelector('#' + key + ' button');\n",
              "      quickchartButtonEl.disabled = true;  // To prevent multiple clicks.\n",
              "      quickchartButtonEl.classList.add('colab-df-spinner');\n",
              "      try {\n",
              "        const charts = await google.colab.kernel.invokeFunction(\n",
              "            'suggestCharts', [key], {});\n",
              "      } catch (error) {\n",
              "        console.error('Error during call to suggestCharts:', error);\n",
              "      }\n",
              "      quickchartButtonEl.classList.remove('colab-df-spinner');\n",
              "      quickchartButtonEl.classList.add('colab-df-quickchart-complete');\n",
              "    }\n",
              "    (() => {\n",
              "      let quickchartButtonEl =\n",
              "        document.querySelector('#df-20f20eee-5f0b-461f-888f-6adf6c1a4c47 button');\n",
              "      quickchartButtonEl.style.display =\n",
              "        google.colab.kernel.accessAllowed ? 'block' : 'none';\n",
              "    })();\n",
              "  </script>\n",
              "</div>\n",
              "\n",
              "  <div id=\"id_bd5a9367-07ea-4e45-bbc7-3db1b80fc585\">\n",
              "    <style>\n",
              "      .colab-df-generate {\n",
              "        background-color: #E8F0FE;\n",
              "        border: none;\n",
              "        border-radius: 50%;\n",
              "        cursor: pointer;\n",
              "        display: none;\n",
              "        fill: #1967D2;\n",
              "        height: 32px;\n",
              "        padding: 0 0 0 0;\n",
              "        width: 32px;\n",
              "      }\n",
              "\n",
              "      .colab-df-generate:hover {\n",
              "        background-color: #E2EBFA;\n",
              "        box-shadow: 0px 1px 2px rgba(60, 64, 67, 0.3), 0px 1px 3px 1px rgba(60, 64, 67, 0.15);\n",
              "        fill: #174EA6;\n",
              "      }\n",
              "\n",
              "      [theme=dark] .colab-df-generate {\n",
              "        background-color: #3B4455;\n",
              "        fill: #D2E3FC;\n",
              "      }\n",
              "\n",
              "      [theme=dark] .colab-df-generate:hover {\n",
              "        background-color: #434B5C;\n",
              "        box-shadow: 0px 1px 3px 1px rgba(0, 0, 0, 0.15);\n",
              "        filter: drop-shadow(0px 1px 2px rgba(0, 0, 0, 0.3));\n",
              "        fill: #FFFFFF;\n",
              "      }\n",
              "    </style>\n",
              "    <button class=\"colab-df-generate\" onclick=\"generateWithVariable('largecaps')\"\n",
              "            title=\"Generate code using this dataframe.\"\n",
              "            style=\"display:none;\">\n",
              "\n",
              "  <svg xmlns=\"http://www.w3.org/2000/svg\" height=\"24px\"viewBox=\"0 0 24 24\"\n",
              "       width=\"24px\">\n",
              "    <path d=\"M7,19H8.4L18.45,9,17,7.55,7,17.6ZM5,21V16.75L18.45,3.32a2,2,0,0,1,2.83,0l1.4,1.43a1.91,1.91,0,0,1,.58,1.4,1.91,1.91,0,0,1-.58,1.4L9.25,21ZM18.45,9,17,7.55Zm-12,3A5.31,5.31,0,0,0,4.9,8.1,5.31,5.31,0,0,0,1,6.5,5.31,5.31,0,0,0,4.9,4.9,5.31,5.31,0,0,0,6.5,1,5.31,5.31,0,0,0,8.1,4.9,5.31,5.31,0,0,0,12,6.5,5.46,5.46,0,0,0,6.5,12Z\"/>\n",
              "  </svg>\n",
              "    </button>\n",
              "    <script>\n",
              "      (() => {\n",
              "      const buttonEl =\n",
              "        document.querySelector('#id_bd5a9367-07ea-4e45-bbc7-3db1b80fc585 button.colab-df-generate');\n",
              "      buttonEl.style.display =\n",
              "        google.colab.kernel.accessAllowed ? 'block' : 'none';\n",
              "\n",
              "      buttonEl.onclick = () => {\n",
              "        google.colab.notebook.generateWithVariable('largecaps');\n",
              "      }\n",
              "      })();\n",
              "    </script>\n",
              "  </div>\n",
              "\n",
              "    </div>\n",
              "  </div>\n"
            ],
            "application/vnd.google.colaboratory.intrinsic+json": {
              "type": "dataframe",
              "variable_name": "largecaps",
              "summary": "{\n  \"name\": \"largecaps\",\n  \"rows\": 10,\n  \"fields\": [\n    {\n      \"column\": \"id\",\n      \"properties\": {\n        \"dtype\": \"string\",\n        \"num_unique_values\": 10,\n        \"samples\": [\n          \"tron\",\n          \"ripple\",\n          \"litecoin\"\n        ],\n        \"semantic_type\": \"\",\n        \"description\": \"\"\n      }\n    },\n    {\n      \"column\": \"market_cap_usd\",\n      \"properties\": {\n        \"dtype\": \"number\",\n        \"std\": 86806314735,\n        \"min\": 11143859582,\n        \"max\": 284909052105,\n        \"num_unique_values\": 10,\n        \"samples\": [\n          11741640953,\n          119207709132,\n          16574020942\n        ],\n        \"semantic_type\": \"\",\n        \"description\": \"\"\n      }\n    }\n  ]\n}"
            }
          },
          "metadata": {},
          "execution_count": 13
        }
      ],
      "source": [
        "# Selecting everything bigger than 10 billion\n",
        "largecaps = cap.query('market_cap_usd > 10000000000')\n",
        "\n",
        "# Printing out largecaps\n",
        "# ... YOUR CODE FOR TASK 9 ...\n",
        "largecaps"
      ],
      "cell_type": "code",
      "execution_count": null
    },
    {
      "metadata": {
        "trusted": true,
        "tags": [
          "sample_code"
        ],
        "dc": {
          "key": "67"
        },
        "colab": {
          "base_uri": "https://localhost:8080/",
          "height": 454
        },
        "id": "gPE0bp0lc-r-",
        "outputId": "4d1dede7-48c8-4a92-dd2e-ddc4ec4df125"
      },
      "outputs": [
        {
          "output_type": "execute_result",
          "data": {
            "text/plain": [
              "<BarContainer object of 3 artists>"
            ]
          },
          "metadata": {},
          "execution_count": 14
        },
        {
          "output_type": "display_data",
          "data": {
            "text/plain": [
              "<Figure size 640x480 with 1 Axes>"
            ],
            "image/svg+xml": "<?xml version=\"1.0\" encoding=\"utf-8\" standalone=\"no\"?>\n<!DOCTYPE svg PUBLIC \"-//W3C//DTD SVG 1.1//EN\"\n  \"http://www.w3.org/Graphics/SVG/1.1/DTD/svg11.dtd\">\n<svg xmlns:xlink=\"http://www.w3.org/1999/xlink\" width=\"445.5185pt\" height=\"311.385375pt\" viewBox=\"0 0 445.5185 311.385375\" xmlns=\"http://www.w3.org/2000/svg\" version=\"1.1\">\n <metadata>\n  <rdf:RDF xmlns:dc=\"http://purl.org/dc/elements/1.1/\" xmlns:cc=\"http://creativecommons.org/ns#\" xmlns:rdf=\"http://www.w3.org/1999/02/22-rdf-syntax-ns#\">\n   <cc:Work>\n    <dc:type rdf:resource=\"http://purl.org/dc/dcmitype/StillImage\"/>\n    <dc:date>2024-04-19T09:46:24.678902</dc:date>\n    <dc:format>image/svg+xml</dc:format>\n    <dc:creator>\n     <cc:Agent>\n      <dc:title>Matplotlib v3.7.1, https://matplotlib.org/</dc:title>\n     </cc:Agent>\n    </dc:creator>\n   </cc:Work>\n  </rdf:RDF>\n </metadata>\n <defs>\n  <style type=\"text/css\">*{stroke-linejoin: round; stroke-linecap: butt}</style>\n </defs>\n <g id=\"figure_1\">\n  <g id=\"patch_1\">\n   <path d=\"M 0 311.385375 \nL 445.5185 311.385375 \nL 445.5185 0 \nL 0 0 \nz\n\" style=\"fill: #f0f0f0\"/>\n  </g>\n  <g id=\"axes_1\">\n   <g id=\"patch_2\">\n    <path d=\"M 37.4225 287.136 \nL 438.3185 287.136 \nL 438.3185 7.2 \nL 37.4225 7.2 \nz\n\" style=\"fill: #f0f0f0\"/>\n   </g>\n   <g id=\"matplotlib.axis_1\">\n    <g id=\"xtick_1\">\n     <g id=\"line2d_1\">\n      <path d=\"M 107.709461 287.136 \nL 107.709461 7.2 \n\" clip-path=\"url(#pe4e1de7b1a)\" style=\"fill: none; stroke: #cbcbcb\"/>\n     </g>\n     <g id=\"line2d_2\"/>\n     <g id=\"text_1\">\n      <!-- biggish -->\n      <g transform=\"translate(82.405555 301.273812) scale(0.14 -0.14)\">\n       <defs>\n        <path id=\"DejaVuSans-62\" d=\"M 3116 1747 \nQ 3116 2381 2855 2742 \nQ 2594 3103 2138 3103 \nQ 1681 3103 1420 2742 \nQ 1159 2381 1159 1747 \nQ 1159 1113 1420 752 \nQ 1681 391 2138 391 \nQ 2594 391 2855 752 \nQ 3116 1113 3116 1747 \nz\nM 1159 2969 \nQ 1341 3281 1617 3432 \nQ 1894 3584 2278 3584 \nQ 2916 3584 3314 3078 \nQ 3713 2572 3713 1747 \nQ 3713 922 3314 415 \nQ 2916 -91 2278 -91 \nQ 1894 -91 1617 61 \nQ 1341 213 1159 525 \nL 1159 0 \nL 581 0 \nL 581 4863 \nL 1159 4863 \nL 1159 2969 \nz\n\" transform=\"scale(0.015625)\"/>\n        <path id=\"DejaVuSans-69\" d=\"M 603 3500 \nL 1178 3500 \nL 1178 0 \nL 603 0 \nL 603 3500 \nz\nM 603 4863 \nL 1178 4863 \nL 1178 4134 \nL 603 4134 \nL 603 4863 \nz\n\" transform=\"scale(0.015625)\"/>\n        <path id=\"DejaVuSans-67\" d=\"M 2906 1791 \nQ 2906 2416 2648 2759 \nQ 2391 3103 1925 3103 \nQ 1463 3103 1205 2759 \nQ 947 2416 947 1791 \nQ 947 1169 1205 825 \nQ 1463 481 1925 481 \nQ 2391 481 2648 825 \nQ 2906 1169 2906 1791 \nz\nM 3481 434 \nQ 3481 -459 3084 -895 \nQ 2688 -1331 1869 -1331 \nQ 1566 -1331 1297 -1286 \nQ 1028 -1241 775 -1147 \nL 775 -588 \nQ 1028 -725 1275 -790 \nQ 1522 -856 1778 -856 \nQ 2344 -856 2625 -561 \nQ 2906 -266 2906 331 \nL 2906 616 \nQ 2728 306 2450 153 \nQ 2172 0 1784 0 \nQ 1141 0 747 490 \nQ 353 981 353 1791 \nQ 353 2603 747 3093 \nQ 1141 3584 1784 3584 \nQ 2172 3584 2450 3431 \nQ 2728 3278 2906 2969 \nL 2906 3500 \nL 3481 3500 \nL 3481 434 \nz\n\" transform=\"scale(0.015625)\"/>\n        <path id=\"DejaVuSans-73\" d=\"M 2834 3397 \nL 2834 2853 \nQ 2591 2978 2328 3040 \nQ 2066 3103 1784 3103 \nQ 1356 3103 1142 2972 \nQ 928 2841 928 2578 \nQ 928 2378 1081 2264 \nQ 1234 2150 1697 2047 \nL 1894 2003 \nQ 2506 1872 2764 1633 \nQ 3022 1394 3022 966 \nQ 3022 478 2636 193 \nQ 2250 -91 1575 -91 \nQ 1294 -91 989 -36 \nQ 684 19 347 128 \nL 347 722 \nQ 666 556 975 473 \nQ 1284 391 1588 391 \nQ 1994 391 2212 530 \nQ 2431 669 2431 922 \nQ 2431 1156 2273 1281 \nQ 2116 1406 1581 1522 \nL 1381 1569 \nQ 847 1681 609 1914 \nQ 372 2147 372 2553 \nQ 372 3047 722 3315 \nQ 1072 3584 1716 3584 \nQ 2034 3584 2315 3537 \nQ 2597 3491 2834 3397 \nz\n\" transform=\"scale(0.015625)\"/>\n        <path id=\"DejaVuSans-68\" d=\"M 3513 2113 \nL 3513 0 \nL 2938 0 \nL 2938 2094 \nQ 2938 2591 2744 2837 \nQ 2550 3084 2163 3084 \nQ 1697 3084 1428 2787 \nQ 1159 2491 1159 1978 \nL 1159 0 \nL 581 0 \nL 581 4863 \nL 1159 4863 \nL 1159 2956 \nQ 1366 3272 1645 3428 \nQ 1925 3584 2291 3584 \nQ 2894 3584 3203 3211 \nQ 3513 2838 3513 2113 \nz\n\" transform=\"scale(0.015625)\"/>\n       </defs>\n       <use xlink:href=\"#DejaVuSans-62\"/>\n       <use xlink:href=\"#DejaVuSans-69\" x=\"63.476562\"/>\n       <use xlink:href=\"#DejaVuSans-67\" x=\"91.259766\"/>\n       <use xlink:href=\"#DejaVuSans-67\" x=\"154.736328\"/>\n       <use xlink:href=\"#DejaVuSans-69\" x=\"218.212891\"/>\n       <use xlink:href=\"#DejaVuSans-73\" x=\"245.996094\"/>\n       <use xlink:href=\"#DejaVuSans-68\" x=\"298.095703\"/>\n      </g>\n     </g>\n    </g>\n    <g id=\"xtick_2\">\n     <g id=\"line2d_3\">\n      <path d=\"M 237.8705 287.136 \nL 237.8705 7.2 \n\" clip-path=\"url(#pe4e1de7b1a)\" style=\"fill: none; stroke: #cbcbcb\"/>\n     </g>\n     <g id=\"line2d_4\"/>\n     <g id=\"text_2\">\n      <!-- micro -->\n      <g transform=\"translate(218.255187 301.273812) scale(0.14 -0.14)\">\n       <defs>\n        <path id=\"DejaVuSans-6d\" d=\"M 3328 2828 \nQ 3544 3216 3844 3400 \nQ 4144 3584 4550 3584 \nQ 5097 3584 5394 3201 \nQ 5691 2819 5691 2113 \nL 5691 0 \nL 5113 0 \nL 5113 2094 \nQ 5113 2597 4934 2840 \nQ 4756 3084 4391 3084 \nQ 3944 3084 3684 2787 \nQ 3425 2491 3425 1978 \nL 3425 0 \nL 2847 0 \nL 2847 2094 \nQ 2847 2600 2669 2842 \nQ 2491 3084 2119 3084 \nQ 1678 3084 1418 2786 \nQ 1159 2488 1159 1978 \nL 1159 0 \nL 581 0 \nL 581 3500 \nL 1159 3500 \nL 1159 2956 \nQ 1356 3278 1631 3431 \nQ 1906 3584 2284 3584 \nQ 2666 3584 2933 3390 \nQ 3200 3197 3328 2828 \nz\n\" transform=\"scale(0.015625)\"/>\n        <path id=\"DejaVuSans-63\" d=\"M 3122 3366 \nL 3122 2828 \nQ 2878 2963 2633 3030 \nQ 2388 3097 2138 3097 \nQ 1578 3097 1268 2742 \nQ 959 2388 959 1747 \nQ 959 1106 1268 751 \nQ 1578 397 2138 397 \nQ 2388 397 2633 464 \nQ 2878 531 3122 666 \nL 3122 134 \nQ 2881 22 2623 -34 \nQ 2366 -91 2075 -91 \nQ 1284 -91 818 406 \nQ 353 903 353 1747 \nQ 353 2603 823 3093 \nQ 1294 3584 2113 3584 \nQ 2378 3584 2631 3529 \nQ 2884 3475 3122 3366 \nz\n\" transform=\"scale(0.015625)\"/>\n        <path id=\"DejaVuSans-72\" d=\"M 2631 2963 \nQ 2534 3019 2420 3045 \nQ 2306 3072 2169 3072 \nQ 1681 3072 1420 2755 \nQ 1159 2438 1159 1844 \nL 1159 0 \nL 581 0 \nL 581 3500 \nL 1159 3500 \nL 1159 2956 \nQ 1341 3275 1631 3429 \nQ 1922 3584 2338 3584 \nQ 2397 3584 2469 3576 \nQ 2541 3569 2628 3553 \nL 2631 2963 \nz\n\" transform=\"scale(0.015625)\"/>\n        <path id=\"DejaVuSans-6f\" d=\"M 1959 3097 \nQ 1497 3097 1228 2736 \nQ 959 2375 959 1747 \nQ 959 1119 1226 758 \nQ 1494 397 1959 397 \nQ 2419 397 2687 759 \nQ 2956 1122 2956 1747 \nQ 2956 2369 2687 2733 \nQ 2419 3097 1959 3097 \nz\nM 1959 3584 \nQ 2709 3584 3137 3096 \nQ 3566 2609 3566 1747 \nQ 3566 888 3137 398 \nQ 2709 -91 1959 -91 \nQ 1206 -91 779 398 \nQ 353 888 353 1747 \nQ 353 2609 779 3096 \nQ 1206 3584 1959 3584 \nz\n\" transform=\"scale(0.015625)\"/>\n       </defs>\n       <use xlink:href=\"#DejaVuSans-6d\"/>\n       <use xlink:href=\"#DejaVuSans-69\" x=\"97.412109\"/>\n       <use xlink:href=\"#DejaVuSans-63\" x=\"125.195312\"/>\n       <use xlink:href=\"#DejaVuSans-72\" x=\"180.175781\"/>\n       <use xlink:href=\"#DejaVuSans-6f\" x=\"219.039062\"/>\n      </g>\n     </g>\n    </g>\n    <g id=\"xtick_3\">\n     <g id=\"line2d_5\">\n      <path d=\"M 368.031539 287.136 \nL 368.031539 7.2 \n\" clip-path=\"url(#pe4e1de7b1a)\" style=\"fill: none; stroke: #cbcbcb\"/>\n     </g>\n     <g id=\"line2d_6\"/>\n     <g id=\"text_3\">\n      <!-- nano -->\n      <g transform=\"translate(350.586226 301.273812) scale(0.14 -0.14)\">\n       <defs>\n        <path id=\"DejaVuSans-6e\" d=\"M 3513 2113 \nL 3513 0 \nL 2938 0 \nL 2938 2094 \nQ 2938 2591 2744 2837 \nQ 2550 3084 2163 3084 \nQ 1697 3084 1428 2787 \nQ 1159 2491 1159 1978 \nL 1159 0 \nL 581 0 \nL 581 3500 \nL 1159 3500 \nL 1159 2956 \nQ 1366 3272 1645 3428 \nQ 1925 3584 2291 3584 \nQ 2894 3584 3203 3211 \nQ 3513 2838 3513 2113 \nz\n\" transform=\"scale(0.015625)\"/>\n        <path id=\"DejaVuSans-61\" d=\"M 2194 1759 \nQ 1497 1759 1228 1600 \nQ 959 1441 959 1056 \nQ 959 750 1161 570 \nQ 1363 391 1709 391 \nQ 2188 391 2477 730 \nQ 2766 1069 2766 1631 \nL 2766 1759 \nL 2194 1759 \nz\nM 3341 1997 \nL 3341 0 \nL 2766 0 \nL 2766 531 \nQ 2569 213 2275 61 \nQ 1981 -91 1556 -91 \nQ 1019 -91 701 211 \nQ 384 513 384 1019 \nQ 384 1609 779 1909 \nQ 1175 2209 1959 2209 \nL 2766 2209 \nL 2766 2266 \nQ 2766 2663 2505 2880 \nQ 2244 3097 1772 3097 \nQ 1472 3097 1187 3025 \nQ 903 2953 641 2809 \nL 641 3341 \nQ 956 3463 1253 3523 \nQ 1550 3584 1831 3584 \nQ 2591 3584 2966 3190 \nQ 3341 2797 3341 1997 \nz\n\" transform=\"scale(0.015625)\"/>\n       </defs>\n       <use xlink:href=\"#DejaVuSans-6e\"/>\n       <use xlink:href=\"#DejaVuSans-61\" x=\"63.378906\"/>\n       <use xlink:href=\"#DejaVuSans-6e\" x=\"124.658203\"/>\n       <use xlink:href=\"#DejaVuSans-6f\" x=\"188.037109\"/>\n      </g>\n     </g>\n    </g>\n   </g>\n   <g id=\"matplotlib.axis_2\">\n    <g id=\"ytick_1\">\n     <g id=\"line2d_7\">\n      <path d=\"M 37.4225 287.136 \nL 438.3185 287.136 \n\" clip-path=\"url(#pe4e1de7b1a)\" style=\"fill: none; stroke: #cbcbcb\"/>\n     </g>\n     <g id=\"line2d_8\"/>\n     <g id=\"text_4\">\n      <!-- 0 -->\n      <g transform=\"translate(25.015 292.454906) scale(0.14 -0.14)\">\n       <defs>\n        <path id=\"DejaVuSans-30\" d=\"M 2034 4250 \nQ 1547 4250 1301 3770 \nQ 1056 3291 1056 2328 \nQ 1056 1369 1301 889 \nQ 1547 409 2034 409 \nQ 2525 409 2770 889 \nQ 3016 1369 3016 2328 \nQ 3016 3291 2770 3770 \nQ 2525 4250 2034 4250 \nz\nM 2034 4750 \nQ 2819 4750 3233 4129 \nQ 3647 3509 3647 2328 \nQ 3647 1150 3233 529 \nQ 2819 -91 2034 -91 \nQ 1250 -91 836 529 \nQ 422 1150 422 2328 \nQ 422 3509 836 4129 \nQ 1250 4750 2034 4750 \nz\n\" transform=\"scale(0.015625)\"/>\n       </defs>\n       <use xlink:href=\"#DejaVuSans-30\"/>\n      </g>\n     </g>\n    </g>\n    <g id=\"ytick_2\">\n     <g id=\"line2d_9\">\n      <path d=\"M 37.4225 233.27626 \nL 438.3185 233.27626 \n\" clip-path=\"url(#pe4e1de7b1a)\" style=\"fill: none; stroke: #cbcbcb\"/>\n     </g>\n     <g id=\"line2d_10\"/>\n     <g id=\"text_5\">\n      <!-- 20 -->\n      <g transform=\"translate(16.1075 238.595166) scale(0.14 -0.14)\">\n       <defs>\n        <path id=\"DejaVuSans-32\" d=\"M 1228 531 \nL 3431 531 \nL 3431 0 \nL 469 0 \nL 469 531 \nQ 828 903 1448 1529 \nQ 2069 2156 2228 2338 \nQ 2531 2678 2651 2914 \nQ 2772 3150 2772 3378 \nQ 2772 3750 2511 3984 \nQ 2250 4219 1831 4219 \nQ 1534 4219 1204 4116 \nQ 875 4013 500 3803 \nL 500 4441 \nQ 881 4594 1212 4672 \nQ 1544 4750 1819 4750 \nQ 2544 4750 2975 4387 \nQ 3406 4025 3406 3419 \nQ 3406 3131 3298 2873 \nQ 3191 2616 2906 2266 \nQ 2828 2175 2409 1742 \nQ 1991 1309 1228 531 \nz\n\" transform=\"scale(0.015625)\"/>\n       </defs>\n       <use xlink:href=\"#DejaVuSans-32\"/>\n       <use xlink:href=\"#DejaVuSans-30\" x=\"63.623047\"/>\n      </g>\n     </g>\n    </g>\n    <g id=\"ytick_3\">\n     <g id=\"line2d_11\">\n      <path d=\"M 37.4225 179.416519 \nL 438.3185 179.416519 \n\" clip-path=\"url(#pe4e1de7b1a)\" style=\"fill: none; stroke: #cbcbcb\"/>\n     </g>\n     <g id=\"line2d_12\"/>\n     <g id=\"text_6\">\n      <!-- 40 -->\n      <g transform=\"translate(16.1075 184.735426) scale(0.14 -0.14)\">\n       <defs>\n        <path id=\"DejaVuSans-34\" d=\"M 2419 4116 \nL 825 1625 \nL 2419 1625 \nL 2419 4116 \nz\nM 2253 4666 \nL 3047 4666 \nL 3047 1625 \nL 3713 1625 \nL 3713 1100 \nL 3047 1100 \nL 3047 0 \nL 2419 0 \nL 2419 1100 \nL 313 1100 \nL 313 1709 \nL 2253 4666 \nz\n\" transform=\"scale(0.015625)\"/>\n       </defs>\n       <use xlink:href=\"#DejaVuSans-34\"/>\n       <use xlink:href=\"#DejaVuSans-30\" x=\"63.623047\"/>\n      </g>\n     </g>\n    </g>\n    <g id=\"ytick_4\">\n     <g id=\"line2d_13\">\n      <path d=\"M 37.4225 125.556779 \nL 438.3185 125.556779 \n\" clip-path=\"url(#pe4e1de7b1a)\" style=\"fill: none; stroke: #cbcbcb\"/>\n     </g>\n     <g id=\"line2d_14\"/>\n     <g id=\"text_7\">\n      <!-- 60 -->\n      <g transform=\"translate(16.1075 130.875685) scale(0.14 -0.14)\">\n       <defs>\n        <path id=\"DejaVuSans-36\" d=\"M 2113 2584 \nQ 1688 2584 1439 2293 \nQ 1191 2003 1191 1497 \nQ 1191 994 1439 701 \nQ 1688 409 2113 409 \nQ 2538 409 2786 701 \nQ 3034 994 3034 1497 \nQ 3034 2003 2786 2293 \nQ 2538 2584 2113 2584 \nz\nM 3366 4563 \nL 3366 3988 \nQ 3128 4100 2886 4159 \nQ 2644 4219 2406 4219 \nQ 1781 4219 1451 3797 \nQ 1122 3375 1075 2522 \nQ 1259 2794 1537 2939 \nQ 1816 3084 2150 3084 \nQ 2853 3084 3261 2657 \nQ 3669 2231 3669 1497 \nQ 3669 778 3244 343 \nQ 2819 -91 2113 -91 \nQ 1303 -91 875 529 \nQ 447 1150 447 2328 \nQ 447 3434 972 4092 \nQ 1497 4750 2381 4750 \nQ 2619 4750 2861 4703 \nQ 3103 4656 3366 4563 \nz\n\" transform=\"scale(0.015625)\"/>\n       </defs>\n       <use xlink:href=\"#DejaVuSans-36\"/>\n       <use xlink:href=\"#DejaVuSans-30\" x=\"63.623047\"/>\n      </g>\n     </g>\n    </g>\n    <g id=\"ytick_5\">\n     <g id=\"line2d_15\">\n      <path d=\"M 37.4225 71.697039 \nL 438.3185 71.697039 \n\" clip-path=\"url(#pe4e1de7b1a)\" style=\"fill: none; stroke: #cbcbcb\"/>\n     </g>\n     <g id=\"line2d_16\"/>\n     <g id=\"text_8\">\n      <!-- 80 -->\n      <g transform=\"translate(16.1075 77.015945) scale(0.14 -0.14)\">\n       <defs>\n        <path id=\"DejaVuSans-38\" d=\"M 2034 2216 \nQ 1584 2216 1326 1975 \nQ 1069 1734 1069 1313 \nQ 1069 891 1326 650 \nQ 1584 409 2034 409 \nQ 2484 409 2743 651 \nQ 3003 894 3003 1313 \nQ 3003 1734 2745 1975 \nQ 2488 2216 2034 2216 \nz\nM 1403 2484 \nQ 997 2584 770 2862 \nQ 544 3141 544 3541 \nQ 544 4100 942 4425 \nQ 1341 4750 2034 4750 \nQ 2731 4750 3128 4425 \nQ 3525 4100 3525 3541 \nQ 3525 3141 3298 2862 \nQ 3072 2584 2669 2484 \nQ 3125 2378 3379 2068 \nQ 3634 1759 3634 1313 \nQ 3634 634 3220 271 \nQ 2806 -91 2034 -91 \nQ 1263 -91 848 271 \nQ 434 634 434 1313 \nQ 434 1759 690 2068 \nQ 947 2378 1403 2484 \nz\nM 1172 3481 \nQ 1172 3119 1398 2916 \nQ 1625 2713 2034 2713 \nQ 2441 2713 2670 2916 \nQ 2900 3119 2900 3481 \nQ 2900 3844 2670 4047 \nQ 2441 4250 2034 4250 \nQ 1625 4250 1398 4047 \nQ 1172 3844 1172 3481 \nz\n\" transform=\"scale(0.015625)\"/>\n       </defs>\n       <use xlink:href=\"#DejaVuSans-38\"/>\n       <use xlink:href=\"#DejaVuSans-30\" x=\"63.623047\"/>\n      </g>\n     </g>\n    </g>\n    <g id=\"ytick_6\">\n     <g id=\"line2d_17\">\n      <path d=\"M 37.4225 17.837299 \nL 438.3185 17.837299 \n\" clip-path=\"url(#pe4e1de7b1a)\" style=\"fill: none; stroke: #cbcbcb\"/>\n     </g>\n     <g id=\"line2d_18\"/>\n     <g id=\"text_9\">\n      <!-- 100 -->\n      <g transform=\"translate(7.2 23.156205) scale(0.14 -0.14)\">\n       <defs>\n        <path id=\"DejaVuSans-31\" d=\"M 794 531 \nL 1825 531 \nL 1825 4091 \nL 703 3866 \nL 703 4441 \nL 1819 4666 \nL 2450 4666 \nL 2450 531 \nL 3481 531 \nL 3481 0 \nL 794 0 \nL 794 531 \nz\n\" transform=\"scale(0.015625)\"/>\n       </defs>\n       <use xlink:href=\"#DejaVuSans-31\"/>\n       <use xlink:href=\"#DejaVuSans-30\" x=\"63.623047\"/>\n       <use xlink:href=\"#DejaVuSans-30\" x=\"127.246094\"/>\n      </g>\n     </g>\n    </g>\n   </g>\n   <g id=\"patch_3\">\n    <path d=\"M 55.645045 287.136 \nL 159.773877 287.136 \nL 159.773877 20.530286 \nL 55.645045 20.530286 \nz\n\" clip-path=\"url(#pe4e1de7b1a)\" style=\"fill: #008fd5\"/>\n   </g>\n   <g id=\"patch_4\">\n    <path d=\"M 185.806084 287.136 \nL 289.934916 287.136 \nL 289.934916 284.443013 \nL 185.806084 284.443013 \nz\n\" clip-path=\"url(#pe4e1de7b1a)\" style=\"fill: #008fd5\"/>\n   </g>\n   <g id=\"patch_5\">\n    <path d=\"M 315.967123 287.136 \nL 420.095955 287.136 \nL 420.095955 287.136 \nL 315.967123 287.136 \nz\n\" clip-path=\"url(#pe4e1de7b1a)\" style=\"fill: #008fd5\"/>\n   </g>\n   <g id=\"patch_6\">\n    <path d=\"M 37.4225 287.136 \nL 37.4225 7.2 \n\" style=\"fill: none; stroke: #f0f0f0; stroke-width: 3; stroke-linejoin: miter; stroke-linecap: square\"/>\n   </g>\n   <g id=\"patch_7\">\n    <path d=\"M 438.3185 287.136 \nL 438.3185 7.2 \n\" style=\"fill: none; stroke: #f0f0f0; stroke-width: 3; stroke-linejoin: miter; stroke-linecap: square\"/>\n   </g>\n   <g id=\"patch_8\">\n    <path d=\"M 37.4225 287.136 \nL 438.3185 287.136 \n\" style=\"fill: none; stroke: #f0f0f0; stroke-width: 3; stroke-linejoin: miter; stroke-linecap: square\"/>\n   </g>\n   <g id=\"patch_9\">\n    <path d=\"M 37.4225 7.2 \nL 438.3185 7.2 \n\" style=\"fill: none; stroke: #f0f0f0; stroke-width: 3; stroke-linejoin: miter; stroke-linecap: square\"/>\n   </g>\n  </g>\n </g>\n <defs>\n  <clipPath id=\"pe4e1de7b1a\">\n   <rect x=\"37.4225\" y=\"7.2\" width=\"400.896\" height=\"279.936\"/>\n  </clipPath>\n </defs>\n</svg>\n"
          },
          "metadata": {}
        }
      ],
      "source": [
        "# Making a nice function for counting different marketcaps from the\n",
        "# \"cap\" DataFrame. Returns an int.\n",
        "# INSTRUCTORS NOTE: Since you made it to the end, consider it a gift :D\n",
        "def capcount(query_string):\n",
        "    return cap.query(query_string).count().id\n",
        "\n",
        "# Labels for the plot\n",
        "LABELS = [\"biggish\", \"micro\", \"nano\"]\n",
        "\n",
        "# Using capcount count the biggish cryptos\n",
        "biggish = capcount('market_cap_usd > 300000000')\n",
        "\n",
        "# Same as above for micro ...\n",
        "micro = capcount('market_cap_usd > 50000000 & market_cap_usd < 300000000')\n",
        "\n",
        "# ... and for nano\n",
        "nano =  capcount('market_cap_usd < 50000000')\n",
        "\n",
        "# Making a list with the 3 counts\n",
        "values = (biggish, micro, nano)\n",
        "\n",
        "# Plotting them with matplotlib\n",
        "# ... YOUR CODE FOR TASK 10 ...\n",
        "plt.bar(range(len(values)), values, tick_label = LABELS)"
      ],
      "cell_type": "code",
      "execution_count": null
    },
    {
      "cell_type": "code",
      "source": [
        "# Import necessary libraries\n",
        "from sklearn.model_selection import train_test_split\n",
        "from sklearn.linear_model import LinearRegression\n",
        "from sklearn.metrics import mean_squared_error, r2_score\n",
        "\n",
        "# Assuming 'market_cap_usd' is the feature and 'percent_change_24h' is the target variable\n",
        "X = cap[['market_cap_usd']]\n",
        "y = volatility['percent_change_24h']\n",
        "\n",
        "# Split data into training and testing sets\n",
        "X_train, X_test, y_train, y_test = train_test_split(X, y, test_size=0.2, random_state=42)\n",
        "\n",
        "# Create and train the linear regression model\n",
        "model = LinearRegression()\n",
        "model.fit(X_train, y_train)\n",
        "\n",
        "# Make predictions on the testing set\n",
        "y_pred = model.predict(X_test)\n",
        "\n",
        "# Evaluate the model\n",
        "mse = mean_squared_error(y_test, y_pred)\n",
        "r2 = r2_score(y_test, y_pred)\n",
        "\n",
        "print(\"Mean Squared Error:\", mse)\n",
        "print(\"R-squared:\", r2)\n",
        "\n",
        "# Plot the regression line\n",
        "plt.scatter(X_test, y_test, color='black')\n",
        "plt.plot(X_test, y_pred, color='blue', linewidth=3)\n",
        "plt.xlabel('Market Cap (USD)')\n",
        "plt.ylabel('Percent Change (24h)')\n",
        "plt.title('Linear Regression')\n",
        "plt.show()\n"
      ],
      "metadata": {
        "colab": {
          "base_uri": "https://localhost:8080/",
          "height": 527
        },
        "id": "T7AKCRjjhhbo",
        "outputId": "7c097fe8-0154-4767-ec07-f1063338f652"
      },
      "execution_count": null,
      "outputs": [
        {
          "output_type": "stream",
          "name": "stdout",
          "text": [
            "Mean Squared Error: 473.28555533964374\n",
            "R-squared: -1.9920390057449566\n"
          ]
        },
        {
          "output_type": "display_data",
          "data": {
            "text/plain": [
              "<Figure size 640x480 with 1 Axes>"
            ],
            "image/svg+xml": "<?xml version=\"1.0\" encoding=\"utf-8\" standalone=\"no\"?>\n<!DOCTYPE svg PUBLIC \"-//W3C//DTD SVG 1.1//EN\"\n  \"http://www.w3.org/Graphics/SVG/1.1/DTD/svg11.dtd\">\n<svg xmlns:xlink=\"http://www.w3.org/1999/xlink\" width=\"477.509312pt\" height=\"352.963075pt\" viewBox=\"0 0 477.509312 352.963075\" xmlns=\"http://www.w3.org/2000/svg\" version=\"1.1\">\n <metadata>\n  <rdf:RDF xmlns:dc=\"http://purl.org/dc/elements/1.1/\" xmlns:cc=\"http://creativecommons.org/ns#\" xmlns:rdf=\"http://www.w3.org/1999/02/22-rdf-syntax-ns#\">\n   <cc:Work>\n    <dc:type rdf:resource=\"http://purl.org/dc/dcmitype/StillImage\"/>\n    <dc:date>2024-04-19T09:46:28.778683</dc:date>\n    <dc:format>image/svg+xml</dc:format>\n    <dc:creator>\n     <cc:Agent>\n      <dc:title>Matplotlib v3.7.1, https://matplotlib.org/</dc:title>\n     </cc:Agent>\n    </dc:creator>\n   </cc:Work>\n  </rdf:RDF>\n </metadata>\n <defs>\n  <style type=\"text/css\">*{stroke-linejoin: round; stroke-linecap: butt}</style>\n </defs>\n <g id=\"figure_1\">\n  <g id=\"patch_1\">\n   <path d=\"M 0 352.963075 \nL 477.509312 352.963075 \nL 477.509312 0 \nL 0 0 \nz\n\" style=\"fill: #f0f0f0\"/>\n  </g>\n  <g id=\"axes_1\">\n   <g id=\"patch_2\">\n    <path d=\"M 69.413313 308.45445 \nL 470.309312 308.45445 \nL 470.309312 28.51845 \nL 69.413313 28.51845 \nz\n\" style=\"fill: #f0f0f0\"/>\n   </g>\n   <g id=\"matplotlib.axis_1\">\n    <g id=\"xtick_1\">\n     <g id=\"line2d_1\">\n      <path d=\"M 87.147221 308.45445 \nL 87.147221 28.51845 \n\" clip-path=\"url(#p69061de049)\" style=\"fill: none; stroke: #cbcbcb\"/>\n     </g>\n     <g id=\"line2d_2\"/>\n     <g id=\"text_1\">\n      <!-- 0.0 -->\n      <g transform=\"translate(76.015033 322.592262) scale(0.14 -0.14)\">\n       <defs>\n        <path id=\"DejaVuSans-30\" d=\"M 2034 4250 \nQ 1547 4250 1301 3770 \nQ 1056 3291 1056 2328 \nQ 1056 1369 1301 889 \nQ 1547 409 2034 409 \nQ 2525 409 2770 889 \nQ 3016 1369 3016 2328 \nQ 3016 3291 2770 3770 \nQ 2525 4250 2034 4250 \nz\nM 2034 4750 \nQ 2819 4750 3233 4129 \nQ 3647 3509 3647 2328 \nQ 3647 1150 3233 529 \nQ 2819 -91 2034 -91 \nQ 1250 -91 836 529 \nQ 422 1150 422 2328 \nQ 422 3509 836 4129 \nQ 1250 4750 2034 4750 \nz\n\" transform=\"scale(0.015625)\"/>\n        <path id=\"DejaVuSans-2e\" d=\"M 684 794 \nL 1344 794 \nL 1344 0 \nL 684 0 \nL 684 794 \nz\n\" transform=\"scale(0.015625)\"/>\n       </defs>\n       <use xlink:href=\"#DejaVuSans-30\"/>\n       <use xlink:href=\"#DejaVuSans-2e\" x=\"63.623047\"/>\n       <use xlink:href=\"#DejaVuSans-30\" x=\"95.410156\"/>\n      </g>\n     </g>\n    </g>\n    <g id=\"xtick_2\">\n     <g id=\"line2d_3\">\n      <path d=\"M 151.19214 308.45445 \nL 151.19214 28.51845 \n\" clip-path=\"url(#p69061de049)\" style=\"fill: none; stroke: #cbcbcb\"/>\n     </g>\n     <g id=\"line2d_4\"/>\n     <g id=\"text_2\">\n      <!-- 0.5 -->\n      <g transform=\"translate(140.059953 322.592262) scale(0.14 -0.14)\">\n       <defs>\n        <path id=\"DejaVuSans-35\" d=\"M 691 4666 \nL 3169 4666 \nL 3169 4134 \nL 1269 4134 \nL 1269 2991 \nQ 1406 3038 1543 3061 \nQ 1681 3084 1819 3084 \nQ 2600 3084 3056 2656 \nQ 3513 2228 3513 1497 \nQ 3513 744 3044 326 \nQ 2575 -91 1722 -91 \nQ 1428 -91 1123 -41 \nQ 819 9 494 109 \nL 494 744 \nQ 775 591 1075 516 \nQ 1375 441 1709 441 \nQ 2250 441 2565 725 \nQ 2881 1009 2881 1497 \nQ 2881 1984 2565 2268 \nQ 2250 2553 1709 2553 \nQ 1456 2553 1204 2497 \nQ 953 2441 691 2322 \nL 691 4666 \nz\n\" transform=\"scale(0.015625)\"/>\n       </defs>\n       <use xlink:href=\"#DejaVuSans-30\"/>\n       <use xlink:href=\"#DejaVuSans-2e\" x=\"63.623047\"/>\n       <use xlink:href=\"#DejaVuSans-35\" x=\"95.410156\"/>\n      </g>\n     </g>\n    </g>\n    <g id=\"xtick_3\">\n     <g id=\"line2d_5\">\n      <path d=\"M 215.23706 308.45445 \nL 215.23706 28.51845 \n\" clip-path=\"url(#p69061de049)\" style=\"fill: none; stroke: #cbcbcb\"/>\n     </g>\n     <g id=\"line2d_6\"/>\n     <g id=\"text_3\">\n      <!-- 1.0 -->\n      <g transform=\"translate(204.104872 322.592262) scale(0.14 -0.14)\">\n       <defs>\n        <path id=\"DejaVuSans-31\" d=\"M 794 531 \nL 1825 531 \nL 1825 4091 \nL 703 3866 \nL 703 4441 \nL 1819 4666 \nL 2450 4666 \nL 2450 531 \nL 3481 531 \nL 3481 0 \nL 794 0 \nL 794 531 \nz\n\" transform=\"scale(0.015625)\"/>\n       </defs>\n       <use xlink:href=\"#DejaVuSans-31\"/>\n       <use xlink:href=\"#DejaVuSans-2e\" x=\"63.623047\"/>\n       <use xlink:href=\"#DejaVuSans-30\" x=\"95.410156\"/>\n      </g>\n     </g>\n    </g>\n    <g id=\"xtick_4\">\n     <g id=\"line2d_7\">\n      <path d=\"M 279.281979 308.45445 \nL 279.281979 28.51845 \n\" clip-path=\"url(#p69061de049)\" style=\"fill: none; stroke: #cbcbcb\"/>\n     </g>\n     <g id=\"line2d_8\"/>\n     <g id=\"text_4\">\n      <!-- 1.5 -->\n      <g transform=\"translate(268.149792 322.592262) scale(0.14 -0.14)\">\n       <use xlink:href=\"#DejaVuSans-31\"/>\n       <use xlink:href=\"#DejaVuSans-2e\" x=\"63.623047\"/>\n       <use xlink:href=\"#DejaVuSans-35\" x=\"95.410156\"/>\n      </g>\n     </g>\n    </g>\n    <g id=\"xtick_5\">\n     <g id=\"line2d_9\">\n      <path d=\"M 343.326899 308.45445 \nL 343.326899 28.51845 \n\" clip-path=\"url(#p69061de049)\" style=\"fill: none; stroke: #cbcbcb\"/>\n     </g>\n     <g id=\"line2d_10\"/>\n     <g id=\"text_5\">\n      <!-- 2.0 -->\n      <g transform=\"translate(332.194711 322.592262) scale(0.14 -0.14)\">\n       <defs>\n        <path id=\"DejaVuSans-32\" d=\"M 1228 531 \nL 3431 531 \nL 3431 0 \nL 469 0 \nL 469 531 \nQ 828 903 1448 1529 \nQ 2069 2156 2228 2338 \nQ 2531 2678 2651 2914 \nQ 2772 3150 2772 3378 \nQ 2772 3750 2511 3984 \nQ 2250 4219 1831 4219 \nQ 1534 4219 1204 4116 \nQ 875 4013 500 3803 \nL 500 4441 \nQ 881 4594 1212 4672 \nQ 1544 4750 1819 4750 \nQ 2544 4750 2975 4387 \nQ 3406 4025 3406 3419 \nQ 3406 3131 3298 2873 \nQ 3191 2616 2906 2266 \nQ 2828 2175 2409 1742 \nQ 1991 1309 1228 531 \nz\n\" transform=\"scale(0.015625)\"/>\n       </defs>\n       <use xlink:href=\"#DejaVuSans-32\"/>\n       <use xlink:href=\"#DejaVuSans-2e\" x=\"63.623047\"/>\n       <use xlink:href=\"#DejaVuSans-30\" x=\"95.410156\"/>\n      </g>\n     </g>\n    </g>\n    <g id=\"xtick_6\">\n     <g id=\"line2d_11\">\n      <path d=\"M 407.371818 308.45445 \nL 407.371818 28.51845 \n\" clip-path=\"url(#p69061de049)\" style=\"fill: none; stroke: #cbcbcb\"/>\n     </g>\n     <g id=\"line2d_12\"/>\n     <g id=\"text_6\">\n      <!-- 2.5 -->\n      <g transform=\"translate(396.239631 322.592262) scale(0.14 -0.14)\">\n       <use xlink:href=\"#DejaVuSans-32\"/>\n       <use xlink:href=\"#DejaVuSans-2e\" x=\"63.623047\"/>\n       <use xlink:href=\"#DejaVuSans-35\" x=\"95.410156\"/>\n      </g>\n     </g>\n    </g>\n    <g id=\"text_7\">\n     <!-- Market Cap (USD) -->\n     <g transform=\"translate(194.803375 342.2692) scale(0.168 -0.168)\">\n      <defs>\n       <path id=\"DejaVuSans-4d\" d=\"M 628 4666 \nL 1569 4666 \nL 2759 1491 \nL 3956 4666 \nL 4897 4666 \nL 4897 0 \nL 4281 0 \nL 4281 4097 \nL 3078 897 \nL 2444 897 \nL 1241 4097 \nL 1241 0 \nL 628 0 \nL 628 4666 \nz\n\" transform=\"scale(0.015625)\"/>\n       <path id=\"DejaVuSans-61\" d=\"M 2194 1759 \nQ 1497 1759 1228 1600 \nQ 959 1441 959 1056 \nQ 959 750 1161 570 \nQ 1363 391 1709 391 \nQ 2188 391 2477 730 \nQ 2766 1069 2766 1631 \nL 2766 1759 \nL 2194 1759 \nz\nM 3341 1997 \nL 3341 0 \nL 2766 0 \nL 2766 531 \nQ 2569 213 2275 61 \nQ 1981 -91 1556 -91 \nQ 1019 -91 701 211 \nQ 384 513 384 1019 \nQ 384 1609 779 1909 \nQ 1175 2209 1959 2209 \nL 2766 2209 \nL 2766 2266 \nQ 2766 2663 2505 2880 \nQ 2244 3097 1772 3097 \nQ 1472 3097 1187 3025 \nQ 903 2953 641 2809 \nL 641 3341 \nQ 956 3463 1253 3523 \nQ 1550 3584 1831 3584 \nQ 2591 3584 2966 3190 \nQ 3341 2797 3341 1997 \nz\n\" transform=\"scale(0.015625)\"/>\n       <path id=\"DejaVuSans-72\" d=\"M 2631 2963 \nQ 2534 3019 2420 3045 \nQ 2306 3072 2169 3072 \nQ 1681 3072 1420 2755 \nQ 1159 2438 1159 1844 \nL 1159 0 \nL 581 0 \nL 581 3500 \nL 1159 3500 \nL 1159 2956 \nQ 1341 3275 1631 3429 \nQ 1922 3584 2338 3584 \nQ 2397 3584 2469 3576 \nQ 2541 3569 2628 3553 \nL 2631 2963 \nz\n\" transform=\"scale(0.015625)\"/>\n       <path id=\"DejaVuSans-6b\" d=\"M 581 4863 \nL 1159 4863 \nL 1159 1991 \nL 2875 3500 \nL 3609 3500 \nL 1753 1863 \nL 3688 0 \nL 2938 0 \nL 1159 1709 \nL 1159 0 \nL 581 0 \nL 581 4863 \nz\n\" transform=\"scale(0.015625)\"/>\n       <path id=\"DejaVuSans-65\" d=\"M 3597 1894 \nL 3597 1613 \nL 953 1613 \nQ 991 1019 1311 708 \nQ 1631 397 2203 397 \nQ 2534 397 2845 478 \nQ 3156 559 3463 722 \nL 3463 178 \nQ 3153 47 2828 -22 \nQ 2503 -91 2169 -91 \nQ 1331 -91 842 396 \nQ 353 884 353 1716 \nQ 353 2575 817 3079 \nQ 1281 3584 2069 3584 \nQ 2775 3584 3186 3129 \nQ 3597 2675 3597 1894 \nz\nM 3022 2063 \nQ 3016 2534 2758 2815 \nQ 2500 3097 2075 3097 \nQ 1594 3097 1305 2825 \nQ 1016 2553 972 2059 \nL 3022 2063 \nz\n\" transform=\"scale(0.015625)\"/>\n       <path id=\"DejaVuSans-74\" d=\"M 1172 4494 \nL 1172 3500 \nL 2356 3500 \nL 2356 3053 \nL 1172 3053 \nL 1172 1153 \nQ 1172 725 1289 603 \nQ 1406 481 1766 481 \nL 2356 481 \nL 2356 0 \nL 1766 0 \nQ 1100 0 847 248 \nQ 594 497 594 1153 \nL 594 3053 \nL 172 3053 \nL 172 3500 \nL 594 3500 \nL 594 4494 \nL 1172 4494 \nz\n\" transform=\"scale(0.015625)\"/>\n       <path id=\"DejaVuSans-20\" transform=\"scale(0.015625)\"/>\n       <path id=\"DejaVuSans-43\" d=\"M 4122 4306 \nL 4122 3641 \nQ 3803 3938 3442 4084 \nQ 3081 4231 2675 4231 \nQ 1875 4231 1450 3742 \nQ 1025 3253 1025 2328 \nQ 1025 1406 1450 917 \nQ 1875 428 2675 428 \nQ 3081 428 3442 575 \nQ 3803 722 4122 1019 \nL 4122 359 \nQ 3791 134 3420 21 \nQ 3050 -91 2638 -91 \nQ 1578 -91 968 557 \nQ 359 1206 359 2328 \nQ 359 3453 968 4101 \nQ 1578 4750 2638 4750 \nQ 3056 4750 3426 4639 \nQ 3797 4528 4122 4306 \nz\n\" transform=\"scale(0.015625)\"/>\n       <path id=\"DejaVuSans-70\" d=\"M 1159 525 \nL 1159 -1331 \nL 581 -1331 \nL 581 3500 \nL 1159 3500 \nL 1159 2969 \nQ 1341 3281 1617 3432 \nQ 1894 3584 2278 3584 \nQ 2916 3584 3314 3078 \nQ 3713 2572 3713 1747 \nQ 3713 922 3314 415 \nQ 2916 -91 2278 -91 \nQ 1894 -91 1617 61 \nQ 1341 213 1159 525 \nz\nM 3116 1747 \nQ 3116 2381 2855 2742 \nQ 2594 3103 2138 3103 \nQ 1681 3103 1420 2742 \nQ 1159 2381 1159 1747 \nQ 1159 1113 1420 752 \nQ 1681 391 2138 391 \nQ 2594 391 2855 752 \nQ 3116 1113 3116 1747 \nz\n\" transform=\"scale(0.015625)\"/>\n       <path id=\"DejaVuSans-28\" d=\"M 1984 4856 \nQ 1566 4138 1362 3434 \nQ 1159 2731 1159 2009 \nQ 1159 1288 1364 580 \nQ 1569 -128 1984 -844 \nL 1484 -844 \nQ 1016 -109 783 600 \nQ 550 1309 550 2009 \nQ 550 2706 781 3412 \nQ 1013 4119 1484 4856 \nL 1984 4856 \nz\n\" transform=\"scale(0.015625)\"/>\n       <path id=\"DejaVuSans-55\" d=\"M 556 4666 \nL 1191 4666 \nL 1191 1831 \nQ 1191 1081 1462 751 \nQ 1734 422 2344 422 \nQ 2950 422 3222 751 \nQ 3494 1081 3494 1831 \nL 3494 4666 \nL 4128 4666 \nL 4128 1753 \nQ 4128 841 3676 375 \nQ 3225 -91 2344 -91 \nQ 1459 -91 1007 375 \nQ 556 841 556 1753 \nL 556 4666 \nz\n\" transform=\"scale(0.015625)\"/>\n       <path id=\"DejaVuSans-53\" d=\"M 3425 4513 \nL 3425 3897 \nQ 3066 4069 2747 4153 \nQ 2428 4238 2131 4238 \nQ 1616 4238 1336 4038 \nQ 1056 3838 1056 3469 \nQ 1056 3159 1242 3001 \nQ 1428 2844 1947 2747 \nL 2328 2669 \nQ 3034 2534 3370 2195 \nQ 3706 1856 3706 1288 \nQ 3706 609 3251 259 \nQ 2797 -91 1919 -91 \nQ 1588 -91 1214 -16 \nQ 841 59 441 206 \nL 441 856 \nQ 825 641 1194 531 \nQ 1563 422 1919 422 \nQ 2459 422 2753 634 \nQ 3047 847 3047 1241 \nQ 3047 1584 2836 1778 \nQ 2625 1972 2144 2069 \nL 1759 2144 \nQ 1053 2284 737 2584 \nQ 422 2884 422 3419 \nQ 422 4038 858 4394 \nQ 1294 4750 2059 4750 \nQ 2388 4750 2728 4690 \nQ 3069 4631 3425 4513 \nz\n\" transform=\"scale(0.015625)\"/>\n       <path id=\"DejaVuSans-44\" d=\"M 1259 4147 \nL 1259 519 \nL 2022 519 \nQ 2988 519 3436 956 \nQ 3884 1394 3884 2338 \nQ 3884 3275 3436 3711 \nQ 2988 4147 2022 4147 \nL 1259 4147 \nz\nM 628 4666 \nL 1925 4666 \nQ 3281 4666 3915 4102 \nQ 4550 3538 4550 2338 \nQ 4550 1131 3912 565 \nQ 3275 0 1925 0 \nL 628 0 \nL 628 4666 \nz\n\" transform=\"scale(0.015625)\"/>\n       <path id=\"DejaVuSans-29\" d=\"M 513 4856 \nL 1013 4856 \nQ 1481 4119 1714 3412 \nQ 1947 2706 1947 2009 \nQ 1947 1309 1714 600 \nQ 1481 -109 1013 -844 \nL 513 -844 \nQ 928 -128 1133 580 \nQ 1338 1288 1338 2009 \nQ 1338 2731 1133 3434 \nQ 928 4138 513 4856 \nz\n\" transform=\"scale(0.015625)\"/>\n      </defs>\n      <use xlink:href=\"#DejaVuSans-4d\"/>\n      <use xlink:href=\"#DejaVuSans-61\" x=\"86.279297\"/>\n      <use xlink:href=\"#DejaVuSans-72\" x=\"147.558594\"/>\n      <use xlink:href=\"#DejaVuSans-6b\" x=\"188.671875\"/>\n      <use xlink:href=\"#DejaVuSans-65\" x=\"242.957031\"/>\n      <use xlink:href=\"#DejaVuSans-74\" x=\"304.480469\"/>\n      <use xlink:href=\"#DejaVuSans-20\" x=\"343.689453\"/>\n      <use xlink:href=\"#DejaVuSans-43\" x=\"375.476562\"/>\n      <use xlink:href=\"#DejaVuSans-61\" x=\"445.300781\"/>\n      <use xlink:href=\"#DejaVuSans-70\" x=\"506.580078\"/>\n      <use xlink:href=\"#DejaVuSans-20\" x=\"570.056641\"/>\n      <use xlink:href=\"#DejaVuSans-28\" x=\"601.84375\"/>\n      <use xlink:href=\"#DejaVuSans-55\" x=\"640.857422\"/>\n      <use xlink:href=\"#DejaVuSans-53\" x=\"714.050781\"/>\n      <use xlink:href=\"#DejaVuSans-44\" x=\"777.527344\"/>\n      <use xlink:href=\"#DejaVuSans-29\" x=\"854.529297\"/>\n     </g>\n    </g>\n    <g id=\"text_8\">\n     <!-- 1e11 -->\n     <g transform=\"translate(434.972437 339.141637) scale(0.14 -0.14)\">\n      <use xlink:href=\"#DejaVuSans-31\"/>\n      <use xlink:href=\"#DejaVuSans-65\" x=\"63.623047\"/>\n      <use xlink:href=\"#DejaVuSans-31\" x=\"125.146484\"/>\n      <use xlink:href=\"#DejaVuSans-31\" x=\"188.769531\"/>\n     </g>\n    </g>\n   </g>\n   <g id=\"matplotlib.axis_2\">\n    <g id=\"ytick_1\">\n     <g id=\"line2d_13\">\n      <path d=\"M 69.413313 307.429342 \nL 470.309312 307.429342 \n\" clip-path=\"url(#p69061de049)\" style=\"fill: none; stroke: #cbcbcb\"/>\n     </g>\n     <g id=\"line2d_14\"/>\n     <g id=\"text_9\">\n      <!-- −100 -->\n      <g transform=\"translate(27.45925 312.748248) scale(0.14 -0.14)\">\n       <defs>\n        <path id=\"DejaVuSans-2212\" d=\"M 678 2272 \nL 4684 2272 \nL 4684 1741 \nL 678 1741 \nL 678 2272 \nz\n\" transform=\"scale(0.015625)\"/>\n       </defs>\n       <use xlink:href=\"#DejaVuSans-2212\"/>\n       <use xlink:href=\"#DejaVuSans-31\" x=\"83.789062\"/>\n       <use xlink:href=\"#DejaVuSans-30\" x=\"147.412109\"/>\n       <use xlink:href=\"#DejaVuSans-30\" x=\"211.035156\"/>\n      </g>\n     </g>\n    </g>\n    <g id=\"ytick_2\">\n     <g id=\"line2d_15\">\n      <path d=\"M 69.413313 268.694399 \nL 470.309312 268.694399 \n\" clip-path=\"url(#p69061de049)\" style=\"fill: none; stroke: #cbcbcb\"/>\n     </g>\n     <g id=\"line2d_16\"/>\n     <g id=\"text_10\">\n      <!-- −80 -->\n      <g transform=\"translate(36.36675 274.013305) scale(0.14 -0.14)\">\n       <defs>\n        <path id=\"DejaVuSans-38\" d=\"M 2034 2216 \nQ 1584 2216 1326 1975 \nQ 1069 1734 1069 1313 \nQ 1069 891 1326 650 \nQ 1584 409 2034 409 \nQ 2484 409 2743 651 \nQ 3003 894 3003 1313 \nQ 3003 1734 2745 1975 \nQ 2488 2216 2034 2216 \nz\nM 1403 2484 \nQ 997 2584 770 2862 \nQ 544 3141 544 3541 \nQ 544 4100 942 4425 \nQ 1341 4750 2034 4750 \nQ 2731 4750 3128 4425 \nQ 3525 4100 3525 3541 \nQ 3525 3141 3298 2862 \nQ 3072 2584 2669 2484 \nQ 3125 2378 3379 2068 \nQ 3634 1759 3634 1313 \nQ 3634 634 3220 271 \nQ 2806 -91 2034 -91 \nQ 1263 -91 848 271 \nQ 434 634 434 1313 \nQ 434 1759 690 2068 \nQ 947 2378 1403 2484 \nz\nM 1172 3481 \nQ 1172 3119 1398 2916 \nQ 1625 2713 2034 2713 \nQ 2441 2713 2670 2916 \nQ 2900 3119 2900 3481 \nQ 2900 3844 2670 4047 \nQ 2441 4250 2034 4250 \nQ 1625 4250 1398 4047 \nQ 1172 3844 1172 3481 \nz\n\" transform=\"scale(0.015625)\"/>\n       </defs>\n       <use xlink:href=\"#DejaVuSans-2212\"/>\n       <use xlink:href=\"#DejaVuSans-38\" x=\"83.789062\"/>\n       <use xlink:href=\"#DejaVuSans-30\" x=\"147.412109\"/>\n      </g>\n     </g>\n    </g>\n    <g id=\"ytick_3\">\n     <g id=\"line2d_17\">\n      <path d=\"M 69.413313 229.959456 \nL 470.309312 229.959456 \n\" clip-path=\"url(#p69061de049)\" style=\"fill: none; stroke: #cbcbcb\"/>\n     </g>\n     <g id=\"line2d_18\"/>\n     <g id=\"text_11\">\n      <!-- −60 -->\n      <g transform=\"translate(36.36675 235.278362) scale(0.14 -0.14)\">\n       <defs>\n        <path id=\"DejaVuSans-36\" d=\"M 2113 2584 \nQ 1688 2584 1439 2293 \nQ 1191 2003 1191 1497 \nQ 1191 994 1439 701 \nQ 1688 409 2113 409 \nQ 2538 409 2786 701 \nQ 3034 994 3034 1497 \nQ 3034 2003 2786 2293 \nQ 2538 2584 2113 2584 \nz\nM 3366 4563 \nL 3366 3988 \nQ 3128 4100 2886 4159 \nQ 2644 4219 2406 4219 \nQ 1781 4219 1451 3797 \nQ 1122 3375 1075 2522 \nQ 1259 2794 1537 2939 \nQ 1816 3084 2150 3084 \nQ 2853 3084 3261 2657 \nQ 3669 2231 3669 1497 \nQ 3669 778 3244 343 \nQ 2819 -91 2113 -91 \nQ 1303 -91 875 529 \nQ 447 1150 447 2328 \nQ 447 3434 972 4092 \nQ 1497 4750 2381 4750 \nQ 2619 4750 2861 4703 \nQ 3103 4656 3366 4563 \nz\n\" transform=\"scale(0.015625)\"/>\n       </defs>\n       <use xlink:href=\"#DejaVuSans-2212\"/>\n       <use xlink:href=\"#DejaVuSans-36\" x=\"83.789062\"/>\n       <use xlink:href=\"#DejaVuSans-30\" x=\"147.412109\"/>\n      </g>\n     </g>\n    </g>\n    <g id=\"ytick_4\">\n     <g id=\"line2d_19\">\n      <path d=\"M 69.413313 191.224513 \nL 470.309312 191.224513 \n\" clip-path=\"url(#p69061de049)\" style=\"fill: none; stroke: #cbcbcb\"/>\n     </g>\n     <g id=\"line2d_20\"/>\n     <g id=\"text_12\">\n      <!-- −40 -->\n      <g transform=\"translate(36.36675 196.543419) scale(0.14 -0.14)\">\n       <defs>\n        <path id=\"DejaVuSans-34\" d=\"M 2419 4116 \nL 825 1625 \nL 2419 1625 \nL 2419 4116 \nz\nM 2253 4666 \nL 3047 4666 \nL 3047 1625 \nL 3713 1625 \nL 3713 1100 \nL 3047 1100 \nL 3047 0 \nL 2419 0 \nL 2419 1100 \nL 313 1100 \nL 313 1709 \nL 2253 4666 \nz\n\" transform=\"scale(0.015625)\"/>\n       </defs>\n       <use xlink:href=\"#DejaVuSans-2212\"/>\n       <use xlink:href=\"#DejaVuSans-34\" x=\"83.789062\"/>\n       <use xlink:href=\"#DejaVuSans-30\" x=\"147.412109\"/>\n      </g>\n     </g>\n    </g>\n    <g id=\"ytick_5\">\n     <g id=\"line2d_21\">\n      <path d=\"M 69.413313 152.48957 \nL 470.309312 152.48957 \n\" clip-path=\"url(#p69061de049)\" style=\"fill: none; stroke: #cbcbcb\"/>\n     </g>\n     <g id=\"line2d_22\"/>\n     <g id=\"text_13\">\n      <!-- −20 -->\n      <g transform=\"translate(36.36675 157.808476) scale(0.14 -0.14)\">\n       <use xlink:href=\"#DejaVuSans-2212\"/>\n       <use xlink:href=\"#DejaVuSans-32\" x=\"83.789062\"/>\n       <use xlink:href=\"#DejaVuSans-30\" x=\"147.412109\"/>\n      </g>\n     </g>\n    </g>\n    <g id=\"ytick_6\">\n     <g id=\"line2d_23\">\n      <path d=\"M 69.413313 113.754627 \nL 470.309312 113.754627 \n\" clip-path=\"url(#p69061de049)\" style=\"fill: none; stroke: #cbcbcb\"/>\n     </g>\n     <g id=\"line2d_24\"/>\n     <g id=\"text_14\">\n      <!-- 0 -->\n      <g transform=\"translate(57.005813 119.073533) scale(0.14 -0.14)\">\n       <use xlink:href=\"#DejaVuSans-30\"/>\n      </g>\n     </g>\n    </g>\n    <g id=\"ytick_7\">\n     <g id=\"line2d_25\">\n      <path d=\"M 69.413313 75.019684 \nL 470.309312 75.019684 \n\" clip-path=\"url(#p69061de049)\" style=\"fill: none; stroke: #cbcbcb\"/>\n     </g>\n     <g id=\"line2d_26\"/>\n     <g id=\"text_15\">\n      <!-- 20 -->\n      <g transform=\"translate(48.098313 80.33859) scale(0.14 -0.14)\">\n       <use xlink:href=\"#DejaVuSans-32\"/>\n       <use xlink:href=\"#DejaVuSans-30\" x=\"63.623047\"/>\n      </g>\n     </g>\n    </g>\n    <g id=\"ytick_8\">\n     <g id=\"line2d_27\">\n      <path d=\"M 69.413313 36.284741 \nL 470.309312 36.284741 \n\" clip-path=\"url(#p69061de049)\" style=\"fill: none; stroke: #cbcbcb\"/>\n     </g>\n     <g id=\"line2d_28\"/>\n     <g id=\"text_16\">\n      <!-- 40 -->\n      <g transform=\"translate(48.098313 41.603647) scale(0.14 -0.14)\">\n       <use xlink:href=\"#DejaVuSans-34\"/>\n       <use xlink:href=\"#DejaVuSans-30\" x=\"63.623047\"/>\n      </g>\n     </g>\n    </g>\n    <g id=\"text_17\">\n     <!-- Percent Change (24h) -->\n     <g transform=\"translate(19.965375 260.15145) rotate(-90) scale(0.168 -0.168)\">\n      <defs>\n       <path id=\"DejaVuSans-50\" d=\"M 1259 4147 \nL 1259 2394 \nL 2053 2394 \nQ 2494 2394 2734 2622 \nQ 2975 2850 2975 3272 \nQ 2975 3691 2734 3919 \nQ 2494 4147 2053 4147 \nL 1259 4147 \nz\nM 628 4666 \nL 2053 4666 \nQ 2838 4666 3239 4311 \nQ 3641 3956 3641 3272 \nQ 3641 2581 3239 2228 \nQ 2838 1875 2053 1875 \nL 1259 1875 \nL 1259 0 \nL 628 0 \nL 628 4666 \nz\n\" transform=\"scale(0.015625)\"/>\n       <path id=\"DejaVuSans-63\" d=\"M 3122 3366 \nL 3122 2828 \nQ 2878 2963 2633 3030 \nQ 2388 3097 2138 3097 \nQ 1578 3097 1268 2742 \nQ 959 2388 959 1747 \nQ 959 1106 1268 751 \nQ 1578 397 2138 397 \nQ 2388 397 2633 464 \nQ 2878 531 3122 666 \nL 3122 134 \nQ 2881 22 2623 -34 \nQ 2366 -91 2075 -91 \nQ 1284 -91 818 406 \nQ 353 903 353 1747 \nQ 353 2603 823 3093 \nQ 1294 3584 2113 3584 \nQ 2378 3584 2631 3529 \nQ 2884 3475 3122 3366 \nz\n\" transform=\"scale(0.015625)\"/>\n       <path id=\"DejaVuSans-6e\" d=\"M 3513 2113 \nL 3513 0 \nL 2938 0 \nL 2938 2094 \nQ 2938 2591 2744 2837 \nQ 2550 3084 2163 3084 \nQ 1697 3084 1428 2787 \nQ 1159 2491 1159 1978 \nL 1159 0 \nL 581 0 \nL 581 3500 \nL 1159 3500 \nL 1159 2956 \nQ 1366 3272 1645 3428 \nQ 1925 3584 2291 3584 \nQ 2894 3584 3203 3211 \nQ 3513 2838 3513 2113 \nz\n\" transform=\"scale(0.015625)\"/>\n       <path id=\"DejaVuSans-68\" d=\"M 3513 2113 \nL 3513 0 \nL 2938 0 \nL 2938 2094 \nQ 2938 2591 2744 2837 \nQ 2550 3084 2163 3084 \nQ 1697 3084 1428 2787 \nQ 1159 2491 1159 1978 \nL 1159 0 \nL 581 0 \nL 581 4863 \nL 1159 4863 \nL 1159 2956 \nQ 1366 3272 1645 3428 \nQ 1925 3584 2291 3584 \nQ 2894 3584 3203 3211 \nQ 3513 2838 3513 2113 \nz\n\" transform=\"scale(0.015625)\"/>\n       <path id=\"DejaVuSans-67\" d=\"M 2906 1791 \nQ 2906 2416 2648 2759 \nQ 2391 3103 1925 3103 \nQ 1463 3103 1205 2759 \nQ 947 2416 947 1791 \nQ 947 1169 1205 825 \nQ 1463 481 1925 481 \nQ 2391 481 2648 825 \nQ 2906 1169 2906 1791 \nz\nM 3481 434 \nQ 3481 -459 3084 -895 \nQ 2688 -1331 1869 -1331 \nQ 1566 -1331 1297 -1286 \nQ 1028 -1241 775 -1147 \nL 775 -588 \nQ 1028 -725 1275 -790 \nQ 1522 -856 1778 -856 \nQ 2344 -856 2625 -561 \nQ 2906 -266 2906 331 \nL 2906 616 \nQ 2728 306 2450 153 \nQ 2172 0 1784 0 \nQ 1141 0 747 490 \nQ 353 981 353 1791 \nQ 353 2603 747 3093 \nQ 1141 3584 1784 3584 \nQ 2172 3584 2450 3431 \nQ 2728 3278 2906 2969 \nL 2906 3500 \nL 3481 3500 \nL 3481 434 \nz\n\" transform=\"scale(0.015625)\"/>\n      </defs>\n      <use xlink:href=\"#DejaVuSans-50\"/>\n      <use xlink:href=\"#DejaVuSans-65\" x=\"56.677734\"/>\n      <use xlink:href=\"#DejaVuSans-72\" x=\"118.201172\"/>\n      <use xlink:href=\"#DejaVuSans-63\" x=\"157.064453\"/>\n      <use xlink:href=\"#DejaVuSans-65\" x=\"212.044922\"/>\n      <use xlink:href=\"#DejaVuSans-6e\" x=\"273.568359\"/>\n      <use xlink:href=\"#DejaVuSans-74\" x=\"336.947266\"/>\n      <use xlink:href=\"#DejaVuSans-20\" x=\"376.15625\"/>\n      <use xlink:href=\"#DejaVuSans-43\" x=\"407.943359\"/>\n      <use xlink:href=\"#DejaVuSans-68\" x=\"477.767578\"/>\n      <use xlink:href=\"#DejaVuSans-61\" x=\"541.146484\"/>\n      <use xlink:href=\"#DejaVuSans-6e\" x=\"602.425781\"/>\n      <use xlink:href=\"#DejaVuSans-67\" x=\"665.804688\"/>\n      <use xlink:href=\"#DejaVuSans-65\" x=\"729.28125\"/>\n      <use xlink:href=\"#DejaVuSans-20\" x=\"790.804688\"/>\n      <use xlink:href=\"#DejaVuSans-28\" x=\"822.591797\"/>\n      <use xlink:href=\"#DejaVuSans-32\" x=\"861.605469\"/>\n      <use xlink:href=\"#DejaVuSans-34\" x=\"925.228516\"/>\n      <use xlink:href=\"#DejaVuSans-68\" x=\"988.851562\"/>\n      <use xlink:href=\"#DejaVuSans-29\" x=\"1052.230469\"/>\n     </g>\n    </g>\n   </g>\n   <g id=\"PathCollection_1\">\n    <defs>\n     <path id=\"m4345ce1d35\" d=\"M 0 3 \nC 0.795609 3 1.55874 2.683901 2.12132 2.12132 \nC 2.683901 1.55874 3 0.795609 3 0 \nC 3 -0.795609 2.683901 -1.55874 2.12132 -2.12132 \nC 1.55874 -2.683901 0.795609 -3 0 -3 \nC -0.795609 -3 -1.55874 -2.683901 -2.12132 -2.12132 \nC -2.683901 -1.55874 -3 -0.795609 -3 0 \nC -3 0.795609 -2.683901 1.55874 -2.12132 2.12132 \nC -1.55874 2.683901 -0.795609 3 0 3 \nz\n\" style=\"stroke: #000000; stroke-width: 0.5\"/>\n    </defs>\n    <g clip-path=\"url(#p69061de049)\">\n     <use xlink:href=\"#m4345ce1d35\" x=\"87.678929\" y=\"75.639443\" style=\"stroke: #000000; stroke-width: 0.5\"/>\n     <use xlink:href=\"#m4345ce1d35\" x=\"88.012041\" y=\"111.35306\" style=\"stroke: #000000; stroke-width: 0.5\"/>\n     <use xlink:href=\"#m4345ce1d35\" x=\"87.789374\" y=\"101.107668\" style=\"stroke: #000000; stroke-width: 0.5\"/>\n     <use xlink:href=\"#m4345ce1d35\" x=\"88.204649\" y=\"114.87794\" style=\"stroke: #000000; stroke-width: 0.5\"/>\n     <use xlink:href=\"#m4345ce1d35\" x=\"88.227826\" y=\"114.936043\" style=\"stroke: #000000; stroke-width: 0.5\"/>\n     <use xlink:href=\"#m4345ce1d35\" x=\"88.442564\" y=\"116.621013\" style=\"stroke: #000000; stroke-width: 0.5\"/>\n     <use xlink:href=\"#m4345ce1d35\" x=\"90.530634\" y=\"120.184627\" style=\"stroke: #000000; stroke-width: 0.5\"/>\n     <use xlink:href=\"#m4345ce1d35\" x=\"87.694839\" y=\"79.474202\" style=\"stroke: #000000; stroke-width: 0.5\"/>\n     <use xlink:href=\"#m4345ce1d35\" x=\"99.243094\" y=\"127.563634\" style=\"stroke: #000000; stroke-width: 0.5\"/>\n     <use xlink:href=\"#m4345ce1d35\" x=\"452.086767\" y=\"154.09707\" style=\"stroke: #000000; stroke-width: 0.5\"/>\n     <use xlink:href=\"#m4345ce1d35\" x=\"91.777608\" y=\"121.77276\" style=\"stroke: #000000; stroke-width: 0.5\"/>\n     <use xlink:href=\"#m4345ce1d35\" x=\"89.128844\" y=\"118.654597\" style=\"stroke: #000000; stroke-width: 0.5\"/>\n     <use xlink:href=\"#m4345ce1d35\" x=\"87.741425\" y=\"96.401372\" style=\"stroke: #000000; stroke-width: 0.5\"/>\n     <use xlink:href=\"#m4345ce1d35\" x=\"89.033581\" y=\"118.422187\" style=\"stroke: #000000; stroke-width: 0.5\"/>\n     <use xlink:href=\"#m4345ce1d35\" x=\"87.635858\" y=\"41.242814\" style=\"stroke: #000000; stroke-width: 0.5\"/>\n     <use xlink:href=\"#m4345ce1d35\" x=\"120.343813\" y=\"136.898755\" style=\"stroke: #000000; stroke-width: 0.5\"/>\n     <use xlink:href=\"#m4345ce1d35\" x=\"87.71501\" y=\"90.068209\" style=\"stroke: #000000; stroke-width: 0.5\"/>\n     <use xlink:href=\"#m4345ce1d35\" x=\"87.70509\" y=\"84.819624\" style=\"stroke: #000000; stroke-width: 0.5\"/>\n     <use xlink:href=\"#m4345ce1d35\" x=\"95.317344\" y=\"125.743092\" style=\"stroke: #000000; stroke-width: 0.5\"/>\n     <use xlink:href=\"#m4345ce1d35\" x=\"89.093874\" y=\"118.63523\" style=\"stroke: #000000; stroke-width: 0.5\"/>\n    </g>\n   </g>\n   <g id=\"line2d_29\">\n    <path d=\"M 87.678929 84.485165 \nL 88.012041 84.678268 \nL 87.789374 84.549189 \nL 88.204649 84.789922 \nL 88.227826 84.803358 \nL 88.442564 84.92784 \nL 90.530634 86.138281 \nL 87.694839 84.494388 \nL 99.243094 91.188839 \nL 452.086767 295.730086 \nL 91.777608 86.861144 \nL 89.128844 85.325672 \nL 87.741425 84.521394 \nL 89.033581 85.270448 \nL 87.635858 84.460197 \nL 120.343813 103.420792 \nL 87.71501 84.506081 \nL 87.70509 84.500331 \nL 95.317344 88.913106 \nL 89.093874 85.3054 \n\" clip-path=\"url(#p69061de049)\" style=\"fill: none; stroke: #0000ff; stroke-width: 3\"/>\n   </g>\n   <g id=\"patch_3\">\n    <path d=\"M 69.413313 308.45445 \nL 69.413313 28.51845 \n\" style=\"fill: none; stroke: #f0f0f0; stroke-width: 3; stroke-linejoin: miter; stroke-linecap: square\"/>\n   </g>\n   <g id=\"patch_4\">\n    <path d=\"M 470.309312 308.45445 \nL 470.309312 28.51845 \n\" style=\"fill: none; stroke: #f0f0f0; stroke-width: 3; stroke-linejoin: miter; stroke-linecap: square\"/>\n   </g>\n   <g id=\"patch_5\">\n    <path d=\"M 69.413313 308.45445 \nL 470.309312 308.45445 \n\" style=\"fill: none; stroke: #f0f0f0; stroke-width: 3; stroke-linejoin: miter; stroke-linecap: square\"/>\n   </g>\n   <g id=\"patch_6\">\n    <path d=\"M 69.413313 28.51845 \nL 470.309312 28.51845 \n\" style=\"fill: none; stroke: #f0f0f0; stroke-width: 3; stroke-linejoin: miter; stroke-linecap: square\"/>\n   </g>\n   <g id=\"text_18\">\n    <!-- Linear Regression -->\n    <g transform=\"translate(180.199712 22.51845) scale(0.2016 -0.2016)\">\n     <defs>\n      <path id=\"DejaVuSans-4c\" d=\"M 628 4666 \nL 1259 4666 \nL 1259 531 \nL 3531 531 \nL 3531 0 \nL 628 0 \nL 628 4666 \nz\n\" transform=\"scale(0.015625)\"/>\n      <path id=\"DejaVuSans-69\" d=\"M 603 3500 \nL 1178 3500 \nL 1178 0 \nL 603 0 \nL 603 3500 \nz\nM 603 4863 \nL 1178 4863 \nL 1178 4134 \nL 603 4134 \nL 603 4863 \nz\n\" transform=\"scale(0.015625)\"/>\n      <path id=\"DejaVuSans-52\" d=\"M 2841 2188 \nQ 3044 2119 3236 1894 \nQ 3428 1669 3622 1275 \nL 4263 0 \nL 3584 0 \nL 2988 1197 \nQ 2756 1666 2539 1819 \nQ 2322 1972 1947 1972 \nL 1259 1972 \nL 1259 0 \nL 628 0 \nL 628 4666 \nL 2053 4666 \nQ 2853 4666 3247 4331 \nQ 3641 3997 3641 3322 \nQ 3641 2881 3436 2590 \nQ 3231 2300 2841 2188 \nz\nM 1259 4147 \nL 1259 2491 \nL 2053 2491 \nQ 2509 2491 2742 2702 \nQ 2975 2913 2975 3322 \nQ 2975 3731 2742 3939 \nQ 2509 4147 2053 4147 \nL 1259 4147 \nz\n\" transform=\"scale(0.015625)\"/>\n      <path id=\"DejaVuSans-73\" d=\"M 2834 3397 \nL 2834 2853 \nQ 2591 2978 2328 3040 \nQ 2066 3103 1784 3103 \nQ 1356 3103 1142 2972 \nQ 928 2841 928 2578 \nQ 928 2378 1081 2264 \nQ 1234 2150 1697 2047 \nL 1894 2003 \nQ 2506 1872 2764 1633 \nQ 3022 1394 3022 966 \nQ 3022 478 2636 193 \nQ 2250 -91 1575 -91 \nQ 1294 -91 989 -36 \nQ 684 19 347 128 \nL 347 722 \nQ 666 556 975 473 \nQ 1284 391 1588 391 \nQ 1994 391 2212 530 \nQ 2431 669 2431 922 \nQ 2431 1156 2273 1281 \nQ 2116 1406 1581 1522 \nL 1381 1569 \nQ 847 1681 609 1914 \nQ 372 2147 372 2553 \nQ 372 3047 722 3315 \nQ 1072 3584 1716 3584 \nQ 2034 3584 2315 3537 \nQ 2597 3491 2834 3397 \nz\n\" transform=\"scale(0.015625)\"/>\n      <path id=\"DejaVuSans-6f\" d=\"M 1959 3097 \nQ 1497 3097 1228 2736 \nQ 959 2375 959 1747 \nQ 959 1119 1226 758 \nQ 1494 397 1959 397 \nQ 2419 397 2687 759 \nQ 2956 1122 2956 1747 \nQ 2956 2369 2687 2733 \nQ 2419 3097 1959 3097 \nz\nM 1959 3584 \nQ 2709 3584 3137 3096 \nQ 3566 2609 3566 1747 \nQ 3566 888 3137 398 \nQ 2709 -91 1959 -91 \nQ 1206 -91 779 398 \nQ 353 888 353 1747 \nQ 353 2609 779 3096 \nQ 1206 3584 1959 3584 \nz\n\" transform=\"scale(0.015625)\"/>\n     </defs>\n     <use xlink:href=\"#DejaVuSans-4c\"/>\n     <use xlink:href=\"#DejaVuSans-69\" x=\"55.712891\"/>\n     <use xlink:href=\"#DejaVuSans-6e\" x=\"83.496094\"/>\n     <use xlink:href=\"#DejaVuSans-65\" x=\"146.875\"/>\n     <use xlink:href=\"#DejaVuSans-61\" x=\"208.398438\"/>\n     <use xlink:href=\"#DejaVuSans-72\" x=\"269.677734\"/>\n     <use xlink:href=\"#DejaVuSans-20\" x=\"310.791016\"/>\n     <use xlink:href=\"#DejaVuSans-52\" x=\"342.578125\"/>\n     <use xlink:href=\"#DejaVuSans-65\" x=\"407.560547\"/>\n     <use xlink:href=\"#DejaVuSans-67\" x=\"469.083984\"/>\n     <use xlink:href=\"#DejaVuSans-72\" x=\"532.560547\"/>\n     <use xlink:href=\"#DejaVuSans-65\" x=\"571.423828\"/>\n     <use xlink:href=\"#DejaVuSans-73\" x=\"632.947266\"/>\n     <use xlink:href=\"#DejaVuSans-73\" x=\"685.046875\"/>\n     <use xlink:href=\"#DejaVuSans-69\" x=\"737.146484\"/>\n     <use xlink:href=\"#DejaVuSans-6f\" x=\"764.929688\"/>\n     <use xlink:href=\"#DejaVuSans-6e\" x=\"826.111328\"/>\n    </g>\n   </g>\n  </g>\n </g>\n <defs>\n  <clipPath id=\"p69061de049\">\n   <rect x=\"69.413313\" y=\"28.51845\" width=\"400.896\" height=\"279.936\"/>\n  </clipPath>\n </defs>\n</svg>\n"
          },
          "metadata": {}
        }
      ]
    },
    {
      "cell_type": "code",
      "source": [
        "pip install -U scikit-learn"
      ],
      "metadata": {
        "id": "JC2TlQSe1-mU",
        "colab": {
          "base_uri": "https://localhost:8080/",
          "height": 356
        },
        "outputId": "c3ac0c00-b347-4a66-d323-3ce6779d8f30"
      },
      "execution_count": null,
      "outputs": [
        {
          "output_type": "stream",
          "name": "stdout",
          "text": [
            "Requirement already satisfied: scikit-learn in /usr/local/lib/python3.10/dist-packages (1.2.2)\n",
            "Collecting scikit-learn\n",
            "  Downloading scikit_learn-1.4.2-cp310-cp310-manylinux_2_17_x86_64.manylinux2014_x86_64.whl (12.1 MB)\n",
            "\u001b[2K     \u001b[90m━━━━━━━━━━━━━━━━━━━━━━━━━━━━━━━━━━━━━━━━\u001b[0m \u001b[32m12.1/12.1 MB\u001b[0m \u001b[31m25.5 MB/s\u001b[0m eta \u001b[36m0:00:00\u001b[0m\n",
            "\u001b[?25hRequirement already satisfied: numpy>=1.19.5 in /usr/local/lib/python3.10/dist-packages (from scikit-learn) (1.25.2)\n",
            "Requirement already satisfied: scipy>=1.6.0 in /usr/local/lib/python3.10/dist-packages (from scikit-learn) (1.11.4)\n",
            "Requirement already satisfied: joblib>=1.2.0 in /usr/local/lib/python3.10/dist-packages (from scikit-learn) (1.4.0)\n",
            "Requirement already satisfied: threadpoolctl>=2.0.0 in /usr/local/lib/python3.10/dist-packages (from scikit-learn) (3.4.0)\n",
            "Installing collected packages: scikit-learn\n",
            "  Attempting uninstall: scikit-learn\n",
            "    Found existing installation: scikit-learn 1.2.2\n",
            "    Uninstalling scikit-learn-1.2.2:\n",
            "      Successfully uninstalled scikit-learn-1.2.2\n",
            "Successfully installed scikit-learn-1.4.2\n"
          ]
        },
        {
          "output_type": "display_data",
          "data": {
            "application/vnd.colab-display-data+json": {
              "pip_warning": {
                "packages": [
                  "sklearn"
                ]
              },
              "id": "8d123defb0a14fe5bf1716f202456472"
            }
          },
          "metadata": {}
        }
      ]
    },
    {
      "cell_type": "code",
      "source": [
        "# Importing pandas\n",
        "import pandas as pd\n",
        "\n",
        "# Import necessary libraries\n",
        "from sklearn.model_selection import train_test_split\n",
        "from sklearn.naive_bayes import GaussianNB\n",
        "from sklearn.metrics import accuracy_score\n",
        "\n",
        "# Reading datasets/coinmarketcap_06122017.csv into pandas\n",
        "dec6 = pd.read_csv('/content/coinmarketcap_06122017.csv')\n",
        "\n",
        "# Selecting the 'id' and the 'market_cap_usd' columns\n",
        "market_cap_raw = dec6[['id', 'market_cap_usd']]\n",
        "cap = market_cap_raw.query('market_cap_usd > 0')  # Filter the data\n",
        "\n",
        "# Selecting the id, percent_change_24h and percent_change_7d columns\n",
        "volatility = dec6[['id', 'percent_change_24h', 'percent_change_7d']]\n",
        "\n",
        "# Setting the index to 'id' and dropping all NaN rows\n",
        "volatility = volatility.set_index('id').dropna()\n",
        "\n",
        "# Assuming 'market_cap_usd' is the feature and 'percent_change_24h' is the target variable\n",
        "X = cap[['market_cap_usd']]\n",
        "y = (volatility['percent_change_24h'] > 0).astype(int)  # Convert to binary classes\n",
        "\n",
        "# Split data into training and testing sets\n",
        "X_train, X_test, y_train, y_test = train_test_split(X, y, test_size=0.2, random_state=42)\n",
        "\n",
        "# Initialize the Naive Bayes classifier\n",
        "model = GaussianNB()\n",
        "\n",
        "# Train the Naive Bayes classifier\n",
        "model.fit(X_train, y_train)\n",
        "\n",
        "# Make predictions on the testing set\n",
        "y_pred = model.predict(X_test)\n",
        "\n",
        "# Calculate accuracy\n",
        "accuracy = accuracy_score(y_test, y_pred)\n",
        "print(\"Accuracy:\", accuracy)"
      ],
      "metadata": {
        "colab": {
          "base_uri": "https://localhost:8080/"
        },
        "id": "xQbLbucH87-j",
        "outputId": "093b0e0c-9056-420c-f20b-98a31a403274"
      },
      "execution_count": null,
      "outputs": [
        {
          "output_type": "stream",
          "name": "stdout",
          "text": [
            "Accuracy: 0.65\n"
          ]
        }
      ]
    },
    {
      "cell_type": "code",
      "source": [
        "# Import necessary libraries\n",
        "import matplotlib.pyplot as plt\n",
        "from sklearn.model_selection import train_test_split\n",
        "from sklearn.neighbors import KNeighborsRegressor\n",
        "from sklearn.metrics import mean_squared_error, r2_score\n",
        "\n",
        "# Assuming 'market_cap_usd' is the feature and 'percent_change_24h' is the target variable\n",
        "X = cap[['market_cap_usd']]\n",
        "y = volatility['percent_change_24h']\n",
        "\n",
        "# Split data into training and testing sets\n",
        "X_train, X_test, y_train, y_test = train_test_split(X, y, test_size=0.2, random_state=42)\n",
        "\n",
        "# Initialize the KNN regressor\n",
        "model = KNeighborsRegressor(n_neighbors=5)  # You can adjust the number of neighbors (k) as per your choice\n",
        "\n",
        "# Train the KNN regressor\n",
        "model.fit(X_train, y_train)\n",
        "\n",
        "# Make predictions on the testing set\n",
        "y_pred = model.predict(X_test)\n",
        "\n",
        "# Evaluate the model\n",
        "mse = mean_squared_error(y_test, y_pred)\n",
        "r2 = r2_score(y_test, y_pred)\n",
        "\n",
        "print(\"Mean Squared Error:\", mse)\n",
        "print(\"R-squared:\", r2)\n",
        "\n",
        "# Plot the regression line\n",
        "plt.scatter(X_test, y_test, color='black')\n",
        "plt.plot(X_test, y_pred, color='blue', linewidth=3)\n",
        "plt.xlabel('Market Cap (USD)')\n",
        "plt.ylabel('Percent Change (24h)')\n",
        "plt.title('KNN Regression')\n",
        "plt.show()"
      ],
      "metadata": {
        "colab": {
          "base_uri": "https://localhost:8080/",
          "height": 507
        },
        "id": "VrJs7Gt09Oxu",
        "outputId": "10ec8e51-6010-43f8-9548-535ab639509f"
      },
      "execution_count": null,
      "outputs": [
        {
          "output_type": "stream",
          "name": "stdout",
          "text": [
            "Mean Squared Error: 541.9063084000001\n",
            "R-squared: -0.8740522759257847\n"
          ]
        },
        {
          "output_type": "display_data",
          "data": {
            "text/plain": [
              "<Figure size 640x480 with 1 Axes>"
            ],
            "image/png": "[encoded data removed]"
          },
          "metadata": {}
        }
      ]
    },
    {
      "cell_type": "code",
      "source": [],
      "metadata": {
        "id": "VMys7NwetEBF"
      },
      "execution_count": null,
      "outputs": []
    },
    {
      "cell_type": "code",
      "source": [],
      "metadata": {
        "id": "ZSJ8LTkztEDk"
      },
      "execution_count": null,
      "outputs": []
    },
    {
      "cell_type": "code",
      "source": [],
      "metadata": {
        "id": "jfdoyQfItEF8"
      },
      "execution_count": null,
      "outputs": []
    },
    {
      "cell_type": "code",
      "source": [],
      "metadata": {
        "id": "giDHqMGutEJa"
      },
      "execution_count": null,
      "outputs": []
    },
    {
      "cell_type": "code",
      "source": [
        "# Import necessary libraries\n",
        "from sklearn.model_selection import train_test_split\n",
        "from sklearn.naive_bayes import GaussianNB\n",
        "from sklearn.metrics import accuracy_score, classification_report\n",
        "\n",
        "# Assuming 'market_cap_usd' is the feature and 'percent_change_24h' is the target variable\n",
        "X = cap[['market_cap_usd']]\n",
        "y = volatility['percent_change_24h']\n",
        "\n",
        "# Convert target variable into classes for classification\n",
        "# For example, if 'percent_change_24h' > 0, class = 1 (increase), else class = 0 (decrease)\n",
        "y_class = (y > 0).astype(int)\n",
        "\n",
        "# Split data into training and testing sets\n",
        "X_train, X_test, y_train, y_test = train_test_split(X, y_class, test_size=0.2, random_state=42)\n",
        "\n",
        "# Initialize the Naive Bayes classifier\n",
        "model = GaussianNB()\n",
        "\n",
        "# Train the Naive Bayes classifier\n",
        "model.fit(X_train, y_train)\n",
        "\n",
        "# Make predictions on the testing set\n",
        "y_pred = model.predict(X_test)\n",
        "\n",
        "# Evaluate the model\n",
        "accuracy = accuracy_score(y_test, y_pred)\n",
        "report = classification_report(y_test, y_pred)\n",
        "\n",
        "print(\"Accuracy:\", accuracy)\n",
        "print(\"Classification Report:\\n\", report)"
      ],
      "metadata": {
        "colab": {
          "base_uri": "https://localhost:8080/"
        },
        "id": "V55NiKfY-al3",
        "outputId": "ea91a775-4b37-4524-9f2d-f996938c2ed9"
      },
      "execution_count": null,
      "outputs": [
        {
          "output_type": "stream",
          "name": "stdout",
          "text": [
            "Accuracy: 0.65\n",
            "Classification Report:\n",
            "               precision    recall  f1-score   support\n",
            "\n",
            "           0       0.50      0.14      0.22         7\n",
            "           1       0.67      0.92      0.77        13\n",
            "\n",
            "    accuracy                           0.65        20\n",
            "   macro avg       0.58      0.53      0.50        20\n",
            "weighted avg       0.61      0.65      0.58        20\n",
            "\n"
          ]
        }
      ]
    },
    {
      "cell_type": "code",
      "source": [
        "# Importing pandas\n",
        "import pandas as pd\n",
        "\n",
        "# Import necessary libraries\n",
        "from sklearn.model_selection import train_test_split\n",
        "from sklearn.naive_bayes import GaussianNB\n",
        "from sklearn.metrics import accuracy_score\n",
        "\n",
        "# Reading datasets/coinmarketcap_06122017.csv into pandas\n",
        "dec6 = pd.read_csv('/content/coinmarketcap_06012018.csv')\n",
        "\n",
        "# Selecting the 'id' and the 'market_cap_usd' columns\n",
        "market_cap_raw = dec6[['id', 'market_cap_usd']]\n",
        "cap = market_cap_raw.query('market_cap_usd > 0')  # Filter the data\n",
        "\n",
        "# Selecting the id, percent_change_24h column\n",
        "volatility = dec6[['id', 'percent_change_24h']]\n",
        "\n",
        "# Create target labels: 1 if percent change is positive, 0 if negative\n",
        "volatility['target'] = (volatility['percent_change_24h'] > 0).astype(int)\n",
        "\n",
        "# Assuming 'market_cap_usd' is the feature and 'target' is the target variable\n",
        "X = cap[['market_cap_usd']]\n",
        "y = volatility['target']\n",
        "\n",
        "# Split data into training and testing sets\n",
        "X_train, X_test, y_train, y_test = train_test_split(X, y, test_size=0.2, random_state=42)\n",
        "\n",
        "# Initialize the Naive Bayes classifier\n",
        "model = GaussianNB()\n",
        "\n",
        "# Train the Naive Bayes classifier\n",
        "model.fit(X_train, y_train)\n",
        "\n",
        "# Make predictions on the testing set\n",
        "y_pred = model.predict(X_test)\n",
        "\n",
        "# Calculate accuracy\n",
        "accuracy = accuracy_score(y_test, y_pred)\n",
        "print(\"Accuracy:\", accuracy)"
      ],
      "metadata": {
        "colab": {
          "base_uri": "https://localhost:8080/"
        },
        "id": "7u9qjFn8tFqI",
        "outputId": "cea1e0cf-c74b-4d2f-95f8-b49389153f7a"
      },
      "execution_count": null,
      "outputs": [
        {
          "output_type": "stream",
          "name": "stdout",
          "text": [
            "Accuracy: 0.65\n"
          ]
        },
        {
          "output_type": "stream",
          "name": "stderr",
          "text": [
            "<ipython-input-7-2c2da8dc3b88>:20: SettingWithCopyWarning: \n",
            "A value is trying to be set on a copy of a slice from a DataFrame.\n",
            "Try using .loc[row_indexer,col_indexer] = value instead\n",
            "\n",
            "See the caveats in the documentation: https://pandas.pydata.org/pandas-docs/stable/user_guide/indexing.html#returning-a-view-versus-a-copy\n",
            "  volatility['target'] = (volatility['percent_change_24h'] > 0).astype(int)\n"
          ]
        }
      ]
    },
    {
      "cell_type": "code",
      "source": [
        "import matplotlib.pyplot as plt\n",
        "\n",
        "# Plot the actual target values\n",
        "plt.scatter(X_test, y_test, color='black', label='Actual')\n",
        "\n",
        "# Plot the predicted values\n",
        "plt.scatter(X_test, y_pred, color='blue', label='Predicted')\n",
        "\n",
        "plt.xlabel('Market Cap (USD)')\n",
        "plt.ylabel('Target (1: Positive, 0: Negative)')\n",
        "plt.title('Naive Bayes Classifier Predictions')\n",
        "plt.legend()\n",
        "plt.show()"
      ],
      "metadata": {
        "colab": {
          "base_uri": "https://localhost:8080/",
          "height": 472
        },
        "id": "H2oDwLa7tFmv",
        "outputId": "082d0b12-9d03-4d0b-9317-16a006f08c0f"
      },
      "execution_count": null,
      "outputs": [
        {
          "output_type": "display_data",
          "data": {
            "text/plain": [
              "<Figure size 640x480 with 1 Axes>"
            ],
            "image/png": "[encoded data removed]"
          },
          "metadata": {}
        }
      ]
    },
    {
      "cell_type": "code",
      "source": [
        "from google.colab import files\n",
        "files.download('/content/drive/MyDrive/file.txt')"
      ],
      "metadata": {
        "id": "HrB4a_2RtFgd",
        "colab": {
          "base_uri": "https://localhost:8080/",
          "height": 17
        },
        "outputId": "7c4bd730-6238-4b37-92d2-e5e075c25421"
      },
      "execution_count": null,
      "outputs": [
        {
          "output_type": "display_data",
          "data": {
            "text/plain": [
              "<IPython.core.display.Javascript object>"
            ],
            "application/javascript": [
              "\n",
              "    async function download(id, filename, size) {\n",
              "      if (!google.colab.kernel.accessAllowed) {\n",
              "        return;\n",
              "      }\n",
              "      const div = document.createElement('div');\n",
              "      const label = document.createElement('label');\n",
              "      label.textContent = `Downloading \"${filename}\": `;\n",
              "      div.appendChild(label);\n",
              "      const progress = document.createElement('progress');\n",
              "      progress.max = size;\n",
              "      div.appendChild(progress);\n",
              "      document.body.appendChild(div);\n",
              "\n",
              "      const buffers = [];\n",
              "      let downloaded = 0;\n",
              "\n",
              "      const channel = await google.colab.kernel.comms.open(id);\n",
              "      // Send a message to notify the kernel that we're ready.\n",
              "      channel.send({})\n",
              "\n",
              "      for await (const message of channel.messages) {\n",
              "        // Send a message to notify the kernel that we're ready.\n",
              "        channel.send({})\n",
              "        if (message.buffers) {\n",
              "          for (const buffer of message.buffers) {\n",
              "            buffers.push(buffer);\n",
              "            downloaded += buffer.byteLength;\n",
              "            progress.value = downloaded;\n",
              "          }\n",
              "        }\n",
              "      }\n",
              "      const blob = new Blob(buffers, {type: 'application/binary'});\n",
              "      const a = document.createElement('a');\n",
              "      a.href = window.URL.createObjectURL(blob);\n",
              "      a.download = filename;\n",
              "      div.appendChild(a);\n",
              "      a.click();\n",
              "      div.remove();\n",
              "    }\n",
              "  "
            ]
          },
          "metadata": {}
        },
        {
          "output_type": "display_data",
          "data": {
            "text/plain": [
              "<IPython.core.display.Javascript object>"
            ],
            "application/javascript": [
              "download(\"download_e68b89ad-8e5c-4312-b729-66da02808cf5\", \"file.txt\", 0)"
            ]
          },
          "metadata": {}
        }
      ]
    },
    {
      "cell_type": "code",
      "source": [
        "from google.colab import files\n",
        "import pandas as pd\n",
        "result.to_csv('/content/drive/MyDrive/file.txt')\n",
        "files.download('/content/drive/MyDrive/file.txt')"
      ],
      "metadata": {
        "colab": {
          "base_uri": "https://localhost:8080/",
          "height": 193
        },
        "id": "qq9_5esox1Rp",
        "outputId": "5d543194-9107-4196-8d1b-c934254516a4"
      },
      "execution_count": null,
      "outputs": [
        {
          "output_type": "error",
          "ename": "NameError",
          "evalue": "name 'result' is not defined",
          "traceback": [
            "\u001b[0;31m---------------------------------------------------------------------------\u001b[0m",
            "\u001b[0;31mNameError\u001b[0m                                 Traceback (most recent call last)",
            "\u001b[0;32m<ipython-input-12-5f698ebe9d1c>\u001b[0m in \u001b[0;36m<cell line: 3>\u001b[0;34m()\u001b[0m\n\u001b[1;32m      1\u001b[0m \u001b[0;32mfrom\u001b[0m \u001b[0mgoogle\u001b[0m\u001b[0;34m.\u001b[0m\u001b[0mcolab\u001b[0m \u001b[0;32mimport\u001b[0m \u001b[0mfiles\u001b[0m\u001b[0;34m\u001b[0m\u001b[0;34m\u001b[0m\u001b[0m\n\u001b[1;32m      2\u001b[0m \u001b[0;32mimport\u001b[0m \u001b[0mpandas\u001b[0m \u001b[0;32mas\u001b[0m \u001b[0mpd\u001b[0m\u001b[0;34m\u001b[0m\u001b[0;34m\u001b[0m\u001b[0m\n\u001b[0;32m----> 3\u001b[0;31m \u001b[0mresult\u001b[0m\u001b[0;34m.\u001b[0m\u001b[0mto_csv\u001b[0m\u001b[0;34m(\u001b[0m\u001b[0;34m'/content/drive/MyDrive/file.txt'\u001b[0m\u001b[0;34m)\u001b[0m\u001b[0;34m\u001b[0m\u001b[0;34m\u001b[0m\u001b[0m\n\u001b[0m\u001b[1;32m      4\u001b[0m \u001b[0mfiles\u001b[0m\u001b[0;34m.\u001b[0m\u001b[0mdownload\u001b[0m\u001b[0;34m(\u001b[0m\u001b[0;34m'/content/drive/MyDrive/file.txt'\u001b[0m\u001b[0;34m)\u001b[0m\u001b[0;34m\u001b[0m\u001b[0;34m\u001b[0m\u001b[0m\n",
            "\u001b[0;31mNameError\u001b[0m: name 'result' is not defined"
          ]
        }
      ]
    },
    {
      "cell_type": "code",
      "source": [],
      "metadata": {
        "id": "sKHIB2K4x2fT"
      },
      "execution_count": null,
      "outputs": []
    }
  ],
  "metadata": {
    "kernelspec": {
      "name": "python3",
      "display_name": "Python 3",
      "language": "python"
    },
    "language_info": {
      "name": "python",
      "nbconvert_exporter": "python",
      "version": "3.5.2",
      "mimetype": "text/x-python",
      "pygments_lexer": "ipython3",
      "file_extension": ".py",
      "codemirror_mode": {
        "name": "ipython",
        "version": 3
      }
    },
    "colab": {
      "provenance": []
    }
  },
  "nbformat": 4
}